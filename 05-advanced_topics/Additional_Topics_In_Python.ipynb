{
 "metadata": {
  "name": ""
 },
 "nbformat": 3,
 "nbformat_minor": 0,
 "worksheets": [
  {
   "cells": [
    {
     "cell_type": "markdown",
     "metadata": {},
     "source": [
      "Additional topics in Python\n",
      "===========================\n",
      "[Keith Hughitt](khughitt@umd.edu)\n",
      "2013/12/09\n",
      "\n",
      "Overview\n",
      "--------\n",
      "\n",
      "So far in class we have covered a number of useful Python programming topics including file I/O, string manipulation, regular expressions, functions, object-oriented programming, and BioPython.\n",
      "\n",
      "In the next lecture we will see how to pull some of these topics together to perform a useful and non-trivial bioinformatics task.\n",
      "\n",
      "First, however, there are a few more useful topics not yet covered in class that are worth discussing:\n",
      "\n",
      "* iteration\n",
      "* list comprehension\n",
      "* urllib\n",
      "* csv\n",
      "* argparse\n",
      "* subprocess\n",
      "\n",
      "Below, I provide some simple examples of each of these.\n",
      "\n",
      "Finally, with the exception of Biopython, we have so far discussed mostly functionality that is built-in to Python. While this is very important to know and will often often be sufficient for our needs, there are a number of additional libraries that have been written to perform all kinds of tasks ranging from numerical analysis and machine learning to sophicated plotting.\n",
      "\n",
      "The second part of today's lecture will include a brief survey of a few of these libraries which are particularly relevant to scientists.\n",
      "\n",
      "\n",
      "\n"
     ]
    },
    {
     "cell_type": "markdown",
     "metadata": {},
     "source": [
      "Iteration\n",
      "---------\n",
      "We have already seen a couple examples in class of looping through (\"iterating\") lists of items.\n",
      "\n",
      "A simple example was iterating over lists using `for`:"
     ]
    },
    {
     "cell_type": "code",
     "collapsed": false,
     "input": [
      "for item in [\"one\", \"two\", \"three\"]:\n",
      "    print(item)"
     ],
     "language": "python",
     "metadata": {},
     "outputs": [
      {
       "output_type": "stream",
       "stream": "stdout",
       "text": [
        "one\n",
        "two\n",
        "three\n"
       ]
      }
     ],
     "prompt_number": 1
    },
    {
     "cell_type": "markdown",
     "metadata": {},
     "source": [
      "There are a couple other variations on this that are useful to be aware of.\n",
      "\n",
      "### 1. Enumerate\n",
      "The first one is using `enumerate` to create a counter to keep track of where you are in the process:"
     ]
    },
    {
     "cell_type": "code",
     "collapsed": false,
     "input": [
      "for i, item in enumerate([\"one\", \"two\", \"three\"]):\n",
      "    print(\"%d: %s\" % (i, item))"
     ],
     "language": "python",
     "metadata": {},
     "outputs": [
      {
       "output_type": "stream",
       "stream": "stdout",
       "text": [
        "0: one\n",
        "1: two\n",
        "2: three\n"
       ]
      }
     ],
     "prompt_number": 2
    },
    {
     "cell_type": "markdown",
     "metadata": {},
     "source": [
      "This is similar to the `for(i=0; i<n; i++) {...}` syntax found in many other languages such as C++ and Java."
     ]
    },
    {
     "cell_type": "markdown",
     "metadata": {},
     "source": [
      "### 2. Dictionary iteration\n",
      "\n",
      "Often we will also want to iterate over more complex data structures than lists. In some cases, such as set iteration, the syntax is identical to that used for lists.\n",
      "\n",
      "For the case of dictionaries, there are several different ways to iterate over them, depending on what you are interested in."
     ]
    },
    {
     "cell_type": "code",
     "collapsed": false,
     "input": [
      "# first, let's create a simple dictionary to work with\n",
      "critters = {\n",
      "    'frog': 10,\n",
      "    'cat': 12,\n",
      "    'dog': 13\n",
      "}"
     ],
     "language": "python",
     "metadata": {},
     "outputs": [],
     "prompt_number": 3
    },
    {
     "cell_type": "code",
     "collapsed": false,
     "input": [
      "critters"
     ],
     "language": "python",
     "metadata": {},
     "outputs": [
      {
       "metadata": {},
       "output_type": "pyout",
       "prompt_number": 4,
       "text": [
        "{'cat': 12, 'dog': 13, 'frog': 10}"
       ]
      }
     ],
     "prompt_number": 4
    },
    {
     "cell_type": "code",
     "collapsed": false,
     "input": [
      "# If we just want to get the dictionary keys, we can use the same syntax as list iteration:\n",
      "for key in critters:\n",
      "    print(key)\n",
      "    print(critters[key])"
     ],
     "language": "python",
     "metadata": {},
     "outputs": [
      {
       "output_type": "stream",
       "stream": "stdout",
       "text": [
        "dog\n",
        "13\n",
        "frog\n",
        "10\n",
        "cat\n",
        "12\n"
       ]
      }
     ],
     "prompt_number": 5
    },
    {
     "cell_type": "code",
     "collapsed": false,
     "input": [
      "# Iterating over the dictionary values is also pretty straight-forward:\n",
      "for value in critters.values():\n",
      "    print(value)"
     ],
     "language": "python",
     "metadata": {},
     "outputs": [
      {
       "output_type": "stream",
       "stream": "stdout",
       "text": [
        "13\n",
        "10\n",
        "12\n"
       ]
      }
     ],
     "prompt_number": 6
    },
    {
     "cell_type": "code",
     "collapsed": false,
     "input": [
      "# Python also provides a simple way to keep track of both at the same, however using \"items\""
     ],
     "language": "python",
     "metadata": {},
     "outputs": [],
     "prompt_number": 7
    },
    {
     "cell_type": "code",
     "collapsed": false,
     "input": [
      "for key, value in critters.items():\n",
      "    print(\"I have %d %ss\" % (value, key))"
     ],
     "language": "python",
     "metadata": {},
     "outputs": [
      {
       "output_type": "stream",
       "stream": "stdout",
       "text": [
        "I have 13 dogs\n",
        "I have 10 frogs\n",
        "I have 12 cats\n"
       ]
      }
     ],
     "prompt_number": 8
    },
    {
     "cell_type": "markdown",
     "metadata": {},
     "source": [
      "List comprehension\n",
      "------------------\n",
      "One of the most useful features in Python is a powerful and elegant method of creating lists called \"list comprehension\".\n",
      "\n",
      "The tradition way of creating lists, and the way it's done is most other languages is to start with an empty list and then, using a for-loop, fill the list with items."
     ]
    },
    {
     "cell_type": "code",
     "collapsed": false,
     "input": [
      "# the old way of doing things..\n",
      "seqs = ['agt', 'cga', 'tca']\n",
      "\n",
      "uppercase_seqs = []\n",
      "for seq in seqs:\n",
      "    uppercase_seqs.append(seq.upper())\n",
      "\n",
      "uppercase_seqs"
     ],
     "language": "python",
     "metadata": {},
     "outputs": [
      {
       "metadata": {},
       "output_type": "pyout",
       "prompt_number": 9,
       "text": [
        "['AGT', 'CGA', 'TCA']"
       ]
      }
     ],
     "prompt_number": 9
    },
    {
     "cell_type": "markdown",
     "metadata": {},
     "source": [
      "[List comprehension ](http://docs.python.org/2/tutorial/datastructures.html#list-comprehensions) provides a quick way of achieving some of the same effects using a simple syntax within square-brackets:"
     ]
    },
    {
     "cell_type": "code",
     "collapsed": false,
     "input": [
      "# a more pythonic way of doing things\n",
      "uppercase_seqs = [seq.upper() for seq in seqs]\n",
      "\n",
      "uppercase_seqs"
     ],
     "language": "python",
     "metadata": {},
     "outputs": [
      {
       "metadata": {},
       "output_type": "pyout",
       "prompt_number": 10,
       "text": [
        "['AGT', 'CGA', 'TCA']"
       ]
      }
     ],
     "prompt_number": 10
    },
    {
     "cell_type": "markdown",
     "metadata": {},
     "source": [
      "The above syntax may seem a bit strange at first, but once you get used to it, it provides a very useful way to create new lists from old ones.\n",
      "\n",
      "By combining the above syntax we an `if` statement, we can create a filtered version of the original list:"
     ]
    },
    {
     "cell_type": "code",
     "collapsed": false,
     "input": [
      "seqs = ['agt', 'cga', 'tca']\n",
      "filtered_seqs = [seq.upper() for seq in seqs if seq.endswith('a')]\n",
      "\n",
      "filtered_seqs\n"
     ],
     "language": "python",
     "metadata": {},
     "outputs": [
      {
       "metadata": {},
       "output_type": "pyout",
       "prompt_number": 11,
       "text": [
        "['CGA', 'TCA']"
       ]
      }
     ],
     "prompt_number": 11
    },
    {
     "cell_type": "markdown",
     "metadata": {},
     "source": [
      "Interestingly, newer versions of Python (2.7+) provide a similar syntax to generate other data types such as dictionaries:"
     ]
    },
    {
     "cell_type": "code",
     "collapsed": false,
     "input": [
      "# dictionary comprehension example\n",
      "seqs = ['cgcct', 'accaggcg', 'tgactat']\n",
      "\n",
      "gc_ratios = {x: (x.count('g') + x.count('c')) / float(len(x)) for x in seqs}\n",
      "\n",
      "gc_ratios"
     ],
     "language": "python",
     "metadata": {},
     "outputs": [
      {
       "metadata": {},
       "output_type": "pyout",
       "prompt_number": 12,
       "text": [
        "{'accaggcg': 0.75, 'cgcct': 0.8, 'tgactat': 0.2857142857142857}"
       ]
      }
     ],
     "prompt_number": 12
    },
    {
     "cell_type": "code",
     "collapsed": false,
     "input": [
      "# note: if we didn't cast at least one of the values to a float, we would have this problem:\n",
      "5 / 8"
     ],
     "language": "python",
     "metadata": {},
     "outputs": [
      {
       "metadata": {},
       "output_type": "pyout",
       "prompt_number": 13,
       "text": [
        "0"
       ]
      }
     ],
     "prompt_number": 13
    },
    {
     "cell_type": "code",
     "collapsed": false,
     "input": [
      "# this is what we want though (same as 5 / 8.):\n",
      "5 / float(8)"
     ],
     "language": "python",
     "metadata": {},
     "outputs": [
      {
       "metadata": {},
       "output_type": "pyout",
       "prompt_number": 14,
       "text": [
        "0.625"
       ]
      }
     ],
     "prompt_number": 14
    },
    {
     "cell_type": "markdown",
     "metadata": {},
     "source": [
      "urllib2\n",
      "-------\n",
      "The Python [urllib2](http://docs.python.org/2/library/urllib2.html) module (just `urllib` in Python 3) is a simple module for dealing with internet requests.\n",
      "\n",
      "Let's use it to retrieve a famous data set, [Fisher's Iris data set](http://en.wikipedia.org/wiki/Iris_flower_data_set)."
     ]
    },
    {
     "cell_type": "code",
     "collapsed": false,
     "input": [
      "# first, we import the urllib2 module\n",
      "import urllib2\n",
      "\n",
      "# fetch the dataset from online\n",
      "handle = urllib2.urlopen(\"http://aima.cs.berkeley.edu/data/iris.csv\")\n",
      "contents = handle.read()\n",
      "\n",
      "# let's see what we have:\n",
      "contents\n",
      "    "
     ],
     "language": "python",
     "metadata": {},
     "outputs": [
      {
       "metadata": {},
       "output_type": "pyout",
       "prompt_number": 15,
       "text": [
        "'5.1,3.5,1.4,0.2,setosa\\n4.9,3.0,1.4,0.2,setosa\\n4.7,3.2,1.3,0.2,setosa\\n4.6,3.1,1.5,0.2,setosa\\n5.0,3.6,1.4,0.2,setosa\\n5.4,3.9,1.7,0.4,setosa\\n4.6,3.4,1.4,0.3,setosa\\n5.0,3.4,1.5,0.2,setosa\\n4.4,2.9,1.4,0.2,setosa\\n4.9,3.1,1.5,0.1,setosa\\n5.4,3.7,1.5,0.2,setosa\\n4.8,3.4,1.6,0.2,setosa\\n4.8,3.0,1.4,0.1,setosa\\n4.3,3.0,1.1,0.1,setosa\\n5.8,4.0,1.2,0.2,setosa\\n5.7,4.4,1.5,0.4,setosa\\n5.4,3.9,1.3,0.4,setosa\\n5.1,3.5,1.4,0.3,setosa\\n5.7,3.8,1.7,0.3,setosa\\n5.1,3.8,1.5,0.3,setosa\\n5.4,3.4,1.7,0.2,setosa\\n5.1,3.7,1.5,0.4,setosa\\n4.6,3.6,1.0,0.2,setosa\\n5.1,3.3,1.7,0.5,setosa\\n4.8,3.4,1.9,0.2,setosa\\n5.0,3.0,1.6,0.2,setosa\\n5.0,3.4,1.6,0.4,setosa\\n5.2,3.5,1.5,0.2,setosa\\n5.2,3.4,1.4,0.2,setosa\\n4.7,3.2,1.6,0.2,setosa\\n4.8,3.1,1.6,0.2,setosa\\n5.4,3.4,1.5,0.4,setosa\\n5.2,4.1,1.5,0.1,setosa\\n5.5,4.2,1.4,0.2,setosa\\n4.9,3.1,1.5,0.1,setosa\\n5.0,3.2,1.2,0.2,setosa\\n5.5,3.5,1.3,0.2,setosa\\n4.9,3.1,1.5,0.1,setosa\\n4.4,3.0,1.3,0.2,setosa\\n5.1,3.4,1.5,0.2,setosa\\n5.0,3.5,1.3,0.3,setosa\\n4.5,2.3,1.3,0.3,setosa\\n4.4,3.2,1.3,0.2,setosa\\n5.0,3.5,1.6,0.6,setosa\\n5.1,3.8,1.9,0.4,setosa\\n4.8,3.0,1.4,0.3,setosa\\n5.1,3.8,1.6,0.2,setosa\\n4.6,3.2,1.4,0.2,setosa\\n5.3,3.7,1.5,0.2,setosa\\n5.0,3.3,1.4,0.2,setosa\\n7.0,3.2,4.7,1.4,versicolor\\n6.4,3.2,4.5,1.5,versicolor\\n6.9,3.1,4.9,1.5,versicolor\\n5.5,2.3,4.0,1.3,versicolor\\n6.5,2.8,4.6,1.5,versicolor\\n5.7,2.8,4.5,1.3,versicolor\\n6.3,3.3,4.7,1.6,versicolor\\n4.9,2.4,3.3,1.0,versicolor\\n6.6,2.9,4.6,1.3,versicolor\\n5.2,2.7,3.9,1.4,versicolor\\n5.0,2.0,3.5,1.0,versicolor\\n5.9,3.0,4.2,1.5,versicolor\\n6.0,2.2,4.0,1.0,versicolor\\n6.1,2.9,4.7,1.4,versicolor\\n5.6,2.9,3.6,1.3,versicolor\\n6.7,3.1,4.4,1.4,versicolor\\n5.6,3.0,4.5,1.5,versicolor\\n5.8,2.7,4.1,1.0,versicolor\\n6.2,2.2,4.5,1.5,versicolor\\n5.6,2.5,3.9,1.1,versicolor\\n5.9,3.2,4.8,1.8,versicolor\\n6.1,2.8,4.0,1.3,versicolor\\n6.3,2.5,4.9,1.5,versicolor\\n6.1,2.8,4.7,1.2,versicolor\\n6.4,2.9,4.3,1.3,versicolor\\n6.6,3.0,4.4,1.4,versicolor\\n6.8,2.8,4.8,1.4,versicolor\\n6.7,3.0,5.0,1.7,versicolor\\n6.0,2.9,4.5,1.5,versicolor\\n5.7,2.6,3.5,1.0,versicolor\\n5.5,2.4,3.8,1.1,versicolor\\n5.5,2.4,3.7,1.0,versicolor\\n5.8,2.7,3.9,1.2,versicolor\\n6.0,2.7,5.1,1.6,versicolor\\n5.4,3.0,4.5,1.5,versicolor\\n6.0,3.4,4.5,1.6,versicolor\\n6.7,3.1,4.7,1.5,versicolor\\n6.3,2.3,4.4,1.3,versicolor\\n5.6,3.0,4.1,1.3,versicolor\\n5.5,2.5,4.0,1.3,versicolor\\n5.5,2.6,4.4,1.2,versicolor\\n6.1,3.0,4.6,1.4,versicolor\\n5.8,2.6,4.0,1.2,versicolor\\n5.0,2.3,3.3,1.0,versicolor\\n5.6,2.7,4.2,1.3,versicolor\\n5.7,3.0,4.2,1.2,versicolor\\n5.7,2.9,4.2,1.3,versicolor\\n6.2,2.9,4.3,1.3,versicolor\\n5.1,2.5,3.0,1.1,versicolor\\n5.7,2.8,4.1,1.3,versicolor\\n6.3,3.3,6.0,2.5,virginica\\n5.8,2.7,5.1,1.9,virginica\\n7.1,3.0,5.9,2.1,virginica\\n6.3,2.9,5.6,1.8,virginica\\n6.5,3.0,5.8,2.2,virginica\\n7.6,3.0,6.6,2.1,virginica\\n4.9,2.5,4.5,1.7,virginica\\n7.3,2.9,6.3,1.8,virginica\\n6.7,2.5,5.8,1.8,virginica\\n7.2,3.6,6.1,2.5,virginica\\n6.5,3.2,5.1,2.0,virginica\\n6.4,2.7,5.3,1.9,virginica\\n6.8,3.0,5.5,2.1,virginica\\n5.7,2.5,5.0,2.0,virginica\\n5.8,2.8,5.1,2.4,virginica\\n6.4,3.2,5.3,2.3,virginica\\n6.5,3.0,5.5,1.8,virginica\\n7.7,3.8,6.7,2.2,virginica\\n7.7,2.6,6.9,2.3,virginica\\n6.0,2.2,5.0,1.5,virginica\\n6.9,3.2,5.7,2.3,virginica\\n5.6,2.8,4.9,2.0,virginica\\n7.7,2.8,6.7,2.0,virginica\\n6.3,2.7,4.9,1.8,virginica\\n6.7,3.3,5.7,2.1,virginica\\n7.2,3.2,6.0,1.8,virginica\\n6.2,2.8,4.8,1.8,virginica\\n6.1,3.0,4.9,1.8,virginica\\n6.4,2.8,5.6,2.1,virginica\\n7.2,3.0,5.8,1.6,virginica\\n7.4,2.8,6.1,1.9,virginica\\n7.9,3.8,6.4,2.0,virginica\\n6.4,2.8,5.6,2.2,virginica\\n6.3,2.8,5.1,1.5,virginica\\n6.1,2.6,5.6,1.4,virginica\\n7.7,3.0,6.1,2.3,virginica\\n6.3,3.4,5.6,2.4,virginica\\n6.4,3.1,5.5,1.8,virginica\\n6.0,3.0,4.8,1.8,virginica\\n6.9,3.1,5.4,2.1,virginica\\n6.7,3.1,5.6,2.4,virginica\\n6.9,3.1,5.1,2.3,virginica\\n5.8,2.7,5.1,1.9,virginica\\n6.8,3.2,5.9,2.3,virginica\\n6.7,3.3,5.7,2.5,virginica\\n6.7,3.0,5.2,2.3,virginica\\n6.3,2.5,5.0,1.9,virginica\\n6.5,3.0,5.2,2.0,virginica\\n6.2,3.4,5.4,2.3,virginica\\n5.9,3.0,5.1,1.8,virginica\\n'"
       ]
      }
     ],
     "prompt_number": 15
    },
    {
     "cell_type": "markdown",
     "metadata": {},
     "source": [
      "So everything is returned as a single string. If we wanted to get the individual lines of the file, we could use the `split` function, e.g.:"
     ]
    },
    {
     "cell_type": "code",
     "collapsed": false,
     "input": [
      "# print the first five lines\n",
      "for line in contents.split('\\n')[:5]:\n",
      "    print(line)"
     ],
     "language": "python",
     "metadata": {},
     "outputs": [
      {
       "output_type": "stream",
       "stream": "stdout",
       "text": [
        "5.1,3.5,1.4,0.2,setosa\n",
        "4.9,3.0,1.4,0.2,setosa\n",
        "4.7,3.2,1.3,0.2,setosa\n",
        "4.6,3.1,1.5,0.2,setosa\n",
        "5.0,3.6,1.4,0.2,setosa\n"
       ]
      }
     ],
     "prompt_number": 16
    },
    {
     "cell_type": "markdown",
     "metadata": {},
     "source": [
      "However, python also provides a convenience function to return the contents of a file as a list of lines:"
     ]
    },
    {
     "cell_type": "code",
     "collapsed": false,
     "input": [
      "# this also works when reading files from disk!\n",
      "lines = urllib2.urlopen(\"http://aima.cs.berkeley.edu/data/iris.csv\").readlines()\n",
      "lines[:5]"
     ],
     "language": "python",
     "metadata": {},
     "outputs": [
      {
       "metadata": {},
       "output_type": "pyout",
       "prompt_number": 17,
       "text": [
        "['5.1,3.5,1.4,0.2,setosa\\n',\n",
        " '4.9,3.0,1.4,0.2,setosa\\n',\n",
        " '4.7,3.2,1.3,0.2,setosa\\n',\n",
        " '4.6,3.1,1.5,0.2,setosa\\n',\n",
        " '5.0,3.6,1.4,0.2,setosa\\n']"
       ]
      }
     ],
     "prompt_number": 17
    },
    {
     "cell_type": "markdown",
     "metadata": {},
     "source": [
      "For now, let's add a header field and save the file to disk. We will come back to this in the next section."
     ]
    },
    {
     "cell_type": "code",
     "collapsed": false,
     "input": [
      "# add header fields\n",
      "column_names = \"Sepal Length,Sepal Width,Petal Length,Petal Width,Species\\n\"\n",
      "contents = column_names + contents\n",
      "\n",
      "# write to a file\n",
      "output = open('iris.csv', 'w')\n",
      "output.write(contents)\n",
      "output.close()"
     ],
     "language": "python",
     "metadata": {},
     "outputs": [],
     "prompt_number": 18
    },
    {
     "cell_type": "markdown",
     "metadata": {},
     "source": [
      "csv\n",
      "---\n",
      "One of the most common tasks we perform in bioinformatics analysis is reading and writing data files.\n",
      "\n",
      "A common standard for storing data is called \"comma-separated values\" or \"csv\". There are many variations on this (e.g. tab-delimited files) but the basic idea is the same: each line in the file is a row in a table, with values seperated by commas or some other delimiter. Sometimes row and column names may be included, but this is not always the case.\n",
      "\n",
      "A simple approach to processing a csv file would be to use the `read` method presented in the earlier file I/O lecture, and then use `split` to break up each line into individual items.\n",
      "\n",
      "Once again, however, Python simplifies things for us by providing a module ([csv](http://docs.python.org/2/library/csv.html)) specialized for reading and writing all kinds of delimited files."
     ]
    },
    {
     "cell_type": "code",
     "collapsed": false,
     "input": [
      "import csv\n",
      "\n",
      "# first, we create a file handler to the input file\n",
      "with open('iris.csv') as csvfile:\n",
      "    \n",
      "    # next we creata 'csv.reader' instance\n",
      "    reader = csv.reader(csvfile)\n",
      "    \n",
      "    # now we can iterate through the csv file as we wish\n",
      "    # for example, the below lines will iterate through the rows\n",
      "    # and print the first item in each row\n",
      "    for row in reader:\n",
      "        print(row[0])"
     ],
     "language": "python",
     "metadata": {},
     "outputs": [
      {
       "output_type": "stream",
       "stream": "stdout",
       "text": [
        "Sepal Length\n",
        "5.1\n",
        "4.9\n",
        "4.7\n",
        "4.6\n",
        "5.0\n",
        "5.4\n",
        "4.6\n",
        "5.0\n",
        "4.4\n",
        "4.9\n",
        "5.4\n",
        "4.8\n",
        "4.8\n",
        "4.3\n",
        "5.8\n",
        "5.7\n",
        "5.4\n",
        "5.1\n",
        "5.7\n",
        "5.1\n",
        "5.4\n",
        "5.1\n",
        "4.6\n",
        "5.1\n",
        "4.8\n",
        "5.0\n",
        "5.0\n",
        "5.2\n",
        "5.2\n",
        "4.7\n",
        "4.8\n",
        "5.4\n",
        "5.2\n",
        "5.5\n",
        "4.9\n",
        "5.0\n",
        "5.5\n",
        "4.9\n",
        "4.4\n",
        "5.1\n",
        "5.0\n",
        "4.5\n",
        "4.4\n",
        "5.0\n",
        "5.1\n",
        "4.8\n",
        "5.1\n",
        "4.6\n",
        "5.3\n",
        "5.0\n",
        "7.0\n",
        "6.4\n",
        "6.9\n",
        "5.5\n",
        "6.5\n",
        "5.7\n",
        "6.3\n",
        "4.9\n",
        "6.6\n",
        "5.2\n",
        "5.0\n",
        "5.9\n",
        "6.0\n",
        "6.1\n",
        "5.6\n",
        "6.7\n",
        "5.6\n",
        "5.8\n",
        "6.2\n",
        "5.6\n",
        "5.9\n",
        "6.1\n",
        "6.3\n",
        "6.1\n",
        "6.4\n",
        "6.6\n",
        "6.8\n",
        "6.7\n",
        "6.0\n",
        "5.7\n",
        "5.5\n",
        "5.5\n",
        "5.8\n",
        "6.0\n",
        "5.4\n",
        "6.0\n",
        "6.7\n",
        "6.3\n",
        "5.6\n",
        "5.5\n",
        "5.5\n",
        "6.1\n",
        "5.8\n",
        "5.0\n",
        "5.6\n",
        "5.7\n",
        "5.7\n",
        "6.2\n",
        "5.1\n",
        "5.7\n",
        "6.3\n",
        "5.8\n",
        "7.1\n",
        "6.3\n",
        "6.5\n",
        "7.6\n",
        "4.9\n",
        "7.3\n",
        "6.7\n",
        "7.2\n",
        "6.5\n",
        "6.4\n",
        "6.8\n",
        "5.7\n",
        "5.8\n",
        "6.4\n",
        "6.5\n",
        "7.7\n",
        "7.7\n",
        "6.0\n",
        "6.9\n",
        "5.6\n",
        "7.7\n",
        "6.3\n",
        "6.7\n",
        "7.2\n",
        "6.2\n",
        "6.1\n",
        "6.4\n",
        "7.2\n",
        "7.4\n",
        "7.9\n",
        "6.4\n",
        "6.3\n",
        "6.1\n",
        "7.7\n",
        "6.3\n",
        "6.4\n",
        "6.0\n",
        "6.9\n",
        "6.7\n",
        "6.9\n",
        "5.8\n",
        "6.8\n",
        "6.7\n",
        "6.7\n",
        "6.3\n",
        "6.5\n",
        "6.2\n",
        "5.9\n"
       ]
      }
     ],
     "prompt_number": 19
    },
    {
     "cell_type": "markdown",
     "metadata": {},
     "source": [
      "While the above example is already an improvement compared with reading the CSV file manually, and the `reader` class provides many options specifying what the input file looks like (delimiter, comment characters, etc.,) the basic reader class is fairly na\u00efve and doesn't know how to differentiate between the column names and the actual column values.\n",
      "\n",
      "Further, in order to reference a specific column, we have to use the column index, e.g. `line[0]` or `line[3]`. For tables with many columns this can quickly become unwieldy.\n",
      "\n",
      "Fortunately, Python also provides a more intelligent [DictReader](http://docs.python.org/2/library/csv.html#csv.DictReader) class to help us with this."
     ]
    },
    {
     "cell_type": "code",
     "collapsed": false,
     "input": [
      "from csv import DictReader\n",
      "\n",
      "with open('iris.csv') as csvfile:\n",
      "    iris = DictReader(csvfile)\n",
      "    \n",
      "    # the csv file's field names are stored as a property of the DictReader instance\n",
      "    print(\"Field names:\")\n",
      "    print(iris.fieldnames)\n",
      "    \n",
      "    # iteration is similar to that above, but now we can refer to the fields using\n",
      "    # the column names\n",
      "    print (\"\\nSpecies:\")\n",
      "    for row in iris:\n",
      "        print row['Species']\n",
      "\n",
      "\n",
      "    "
     ],
     "language": "python",
     "metadata": {},
     "outputs": [
      {
       "output_type": "stream",
       "stream": "stdout",
       "text": [
        "Field names:\n",
        "['Sepal Length', 'Sepal Width', 'Petal Length', 'Petal Width', 'Species']\n",
        "\n",
        "Species:\n",
        "setosa\n",
        "setosa\n",
        "setosa\n",
        "setosa\n",
        "setosa\n",
        "setosa\n",
        "setosa\n",
        "setosa\n",
        "setosa\n",
        "setosa\n",
        "setosa\n",
        "setosa\n",
        "setosa\n",
        "setosa\n",
        "setosa\n",
        "setosa\n",
        "setosa\n",
        "setosa\n",
        "setosa\n",
        "setosa\n",
        "setosa\n",
        "setosa\n",
        "setosa\n",
        "setosa\n",
        "setosa\n",
        "setosa\n",
        "setosa\n",
        "setosa\n",
        "setosa\n",
        "setosa\n",
        "setosa\n",
        "setosa\n",
        "setosa\n",
        "setosa\n",
        "setosa\n",
        "setosa\n",
        "setosa\n",
        "setosa\n",
        "setosa\n",
        "setosa\n",
        "setosa\n",
        "setosa\n",
        "setosa\n",
        "setosa\n",
        "setosa\n",
        "setosa\n",
        "setosa\n",
        "setosa\n",
        "setosa\n",
        "setosa\n",
        "versicolor\n",
        "versicolor\n",
        "versicolor\n",
        "versicolor\n",
        "versicolor\n",
        "versicolor\n",
        "versicolor\n",
        "versicolor\n",
        "versicolor\n",
        "versicolor\n",
        "versicolor\n",
        "versicolor\n",
        "versicolor\n",
        "versicolor\n",
        "versicolor\n",
        "versicolor\n",
        "versicolor\n",
        "versicolor\n",
        "versicolor\n",
        "versicolor\n",
        "versicolor\n",
        "versicolor\n",
        "versicolor\n",
        "versicolor\n",
        "versicolor\n",
        "versicolor\n",
        "versicolor\n",
        "versicolor\n",
        "versicolor\n",
        "versicolor\n",
        "versicolor\n",
        "versicolor\n",
        "versicolor\n",
        "versicolor\n",
        "versicolor\n",
        "versicolor\n",
        "versicolor\n",
        "versicolor\n",
        "versicolor\n",
        "versicolor\n",
        "versicolor\n",
        "versicolor\n",
        "versicolor\n",
        "versicolor\n",
        "versicolor\n",
        "versicolor\n",
        "versicolor\n",
        "versicolor\n",
        "versicolor\n",
        "versicolor\n",
        "virginica\n",
        "virginica\n",
        "virginica\n",
        "virginica\n",
        "virginica\n",
        "virginica\n",
        "virginica\n",
        "virginica\n",
        "virginica\n",
        "virginica\n",
        "virginica\n",
        "virginica\n",
        "virginica\n",
        "virginica\n",
        "virginica\n",
        "virginica\n",
        "virginica\n",
        "virginica\n",
        "virginica\n",
        "virginica\n",
        "virginica\n",
        "virginica\n",
        "virginica\n",
        "virginica\n",
        "virginica\n",
        "virginica\n",
        "virginica\n",
        "virginica\n",
        "virginica\n",
        "virginica\n",
        "virginica\n",
        "virginica\n",
        "virginica\n",
        "virginica\n",
        "virginica\n",
        "virginica\n",
        "virginica\n",
        "virginica\n",
        "virginica\n",
        "virginica\n",
        "virginica\n",
        "virginica\n",
        "virginica\n",
        "virginica\n",
        "virginica\n",
        "virginica\n",
        "virginica\n",
        "virginica\n",
        "virginica\n",
        "virginica\n"
       ]
      }
     ],
     "prompt_number": 20
    },
    {
     "cell_type": "markdown",
     "metadata": {},
     "source": [
      "Finally, just like there are `csv.reader` and `csv.DictReader` classes, there are also `csv.writer` and `csv.DictWriter` classes which provide a similar syntax for creating your own csv files.\n",
      "\n",
      "(For even more power over data file I/O, check out the `read_csv` and related functions in the  [Pandas library](http://pandas.pydata.org/pandas-docs/stable/generated/pandas.io.parsers.read_csv.html))"
     ]
    },
    {
     "cell_type": "markdown",
     "metadata": {},
     "source": [
      "Argparse\n",
      "--------\n",
      "Another common task for scripting is to accept input via the command-line. When a python script is called, the `sys.argv` list will contain the name of the script executed (`sys.argv[0]`) as well as any additional arguments passed in (`sys.argv[1:]`), so for example, you could do something like:"
     ]
    },
    {
     "cell_type": "code",
     "collapsed": false,
     "input": [
      "# myscript.py arg1 arg2 arg3 ....\n",
      "import sys\n",
      "arg1, arg2, arg3 = sys.argv[1:]"
     ],
     "language": "python",
     "metadata": {},
     "outputs": []
    },
    {
     "cell_type": "markdown",
     "metadata": {},
     "source": [
      "For very simple scripts that may be sufficient, however, as you develop more and more complex scripts, you may find it useful to add a number of parameters that can be set from the command-line in order to control how the script behaves. At this point, simply using sys.argv may become messy and would require extra effort to document each of the valid input parameters. This is where [argparse](http://docs.python.org/2.7/library/argparse.html#module-argparse) comes in.\n",
      "\n",
      "`argparse` is a module for parsing command-line arguments, and generating nice command-line interfaces. To use it, you create a new `ArgumentParser` instance, and then describe each of the input parameters you want to accept.\n",
      "\n",
      "You can control different properties of the input, such as:\n",
      "\n",
      "* Whether the parameter is options or required\n",
      "* What flags the user can use to specifiy the parameter\n",
      "* The type of the parameter\n",
      "* If the parameter has a default value\n",
      "* etc.\n",
      "\n",
      "Below is an example of what this might look like in practice."
     ]
    },
    {
     "cell_type": "code",
     "collapsed": false,
     "input": [
      "#!/bin/env python\n",
      "# test.py\n",
      "import argparse\n",
      "\n",
      "def main():\n",
      "    \"\"\"Main\"\"\"\n",
      "    parser = argparse.ArgumentParser(description='My super useful application.')\n",
      "    parser.add_argument('-t', '--type', help='Type of animal.')\n",
      "    parser.add_argument('-a', '--age', type=int, dest='pet_age', \n",
      "                        default=0, help='Pet age.')\n",
      "    parser.add_argument(dest='pet_name', help='(Required) Pet name')\n",
      "    args = parser.parse_args()\n",
      "\n",
      "    print(\"Pet name: %s\" % args.pet_name)\n",
      "    print(\"type: %s\" % args.type)\n",
      "    print(\"age: %d\" % args.pet_age)\n",
      "\n",
      "if __name__ == \"__main__\":\n",
      "    main()"
     ],
     "language": "python",
     "metadata": {},
     "outputs": []
    },
    {
     "cell_type": "markdown",
     "metadata": {},
     "source": [
      "In the above example, there is one required input parameter (pet name) and two optional parameters. In the above scenario, the optional parameters are the ones with the hyphenated input flags: using either the short or long version works. The `pet_name` parameter is required since it was not given a name, and is thus assumed to be positional and required: this can be changed by setting the [required](http://docs.python.org/dev/library/argparse.html#required) field to `False`.\n",
      "\n",
      "Some example invocations of the above script:\n",
      "\n",
      "    python test.py max\n",
      "    python test.py --age=3 --type='turtle' max\n",
      "    python test.py -a 3 -t 'turtle' max\n",
      "    python test.py --help"
     ]
    },
    {
     "cell_type": "markdown",
     "metadata": {},
     "source": [
      "In addition to helping you collect user input in an organized way, `argparse` also has the added benefit of helping generate a simple command-line user interface for you. For example, running `python test.py --help` as shown above would produce the following output:\n",
      "\n",
      "<pre>\n",
      "$ ./test.py --help   \n",
      "usage: test.py [-h] [-t TYPE] [-a PET_AGE] pet_name\n",
      "\n",
      "My super useful application.\n",
      "\n",
      "positional arguments:\n",
      "    pet_name              (Required) Pet name\n",
      "\n",
      "optional arguments:\n",
      "    -h, --help            show this help message and exit\n",
      "    -t TYPE, --type TYPE  Type of animal.\n",
      "    -a PET_AGE, --age PET_AGE\n",
      "                          Pet age.\n",
      "</pre>\n"
     ]
    },
    {
     "cell_type": "markdown",
     "metadata": {},
     "source": [
      "Subprocess\n",
      "----------\n",
      "Sometimes it is necessary to call scripts or programs outside of Python. For example, you may  want to do some work in Python and then pass the results on to another command-line program, or perhaps you want to use Python to string together a bunch of different programs to create your own bioinformatics pipeline.\n",
      "\n",
      "Python provides complex and powerful module called [subprocess](http://docs.python.org/2/library/subprocess.html) to help you with these tasks.\n",
      "\n",
      "There are different methods we can use, depending on how granular control we want over the process. Below are a couple common use cases. For more detailed examples, see the Python docs."
     ]
    },
    {
     "cell_type": "code",
     "collapsed": false,
     "input": [
      "import subprocess\n",
      "\n",
      "# run a command and get its output\n",
      "print(subprocess.check_output([\"ls\", \"-l\"]))"
     ],
     "language": "python",
     "metadata": {},
     "outputs": [
      {
       "output_type": "stream",
       "stream": "stdout",
       "text": [
        "total 5956\n",
        "-rw-r--r-- 1 keith users   39796 Dec  9 17:59 Additional_Topics_In_Python.ipynb\n",
        "-rw-r--r-- 1 keith users 6030264 Dec  9 17:13 argparse\n",
        "-rw-r--r-- 1 keith users    1372 Dec  9 13:26 Homework.md\n",
        "drwxr-xr-x 2 keith users    4096 Dec  9 12:34 images\n",
        "-rw-r--r-- 1 keith users    3858 Dec  9 17:59 iris.csv\n",
        "-rw-r--r-- 1 keith users    3800 Dec  9 14:30 iris_new.csv\n",
        "-rw-r--r-- 1 keith users     279 Dec  9 11:53 README.md\n",
        "-rwxr-xr-x 1 keith users     577 Dec  9 17:32 test.py\n",
        "\n"
       ]
      }
     ],
     "prompt_number": 21
    },
    {
     "cell_type": "markdown",
     "metadata": {},
     "source": [
      "While that works for the most simple cases os running a command, the `Popen` class provides a much finer level of control over subprocess execution:"
     ]
    },
    {
     "cell_type": "code",
     "collapsed": false,
     "input": [
      "# Using Popen\n",
      "process = subprocess.Popen(['tophat', '--version'])\n",
      "\n",
      "# get pid\n",
      "print(\"Process id: %d\" % process.pid)\n",
      "\n",
      "# wait until process finishes before continuing execution:\n",
      "# here it won't matter much, but for longer tasks this may be useful\n",
      "process.wait()"
     ],
     "language": "python",
     "metadata": {},
     "outputs": [
      {
       "output_type": "stream",
       "stream": "stdout",
       "text": [
        "Process id: 20393\n"
       ]
      },
      {
       "metadata": {},
       "output_type": "pyout",
       "prompt_number": 22,
       "text": [
        "0"
       ]
      }
     ],
     "prompt_number": 22
    },
    {
     "cell_type": "code",
     "collapsed": false,
     "input": [
      "# Saving the output from Open\n",
      "process = subprocess.Popen([\"cat\", \"iris.csv\"], stdout=subprocess.PIPE)\n",
      "output, error = process.communicate()\n",
      "\n",
      "# print the first 200 characters of the output\n",
      "print(output[:200])"
     ],
     "language": "python",
     "metadata": {},
     "outputs": [
      {
       "output_type": "stream",
       "stream": "stdout",
       "text": [
        "Sepal Length,Sepal Width,Petal Length,Petal Width,Species\n",
        "5.1,3.5,1.4,0.2,setosa\n",
        "4.9,3.0,1.4,0.2,setosa\n",
        "4.7,3.2,1.3,0.2,setosa\n",
        "4.6,3.1,1.5,0.2,setosa\n",
        "5.0,3.6,1.4,0.2,setosa\n",
        "5.4,3.9,1.7,0.4,setosa\n",
        "4.6,\n"
       ]
      }
     ],
     "prompt_number": 23
    },
    {
     "cell_type": "markdown",
     "metadata": {},
     "source": [
      "Survey of scientific libraries for Python\n",
      "=========================================\n",
      "\n",
      "1. Numpy\n",
      "--------\n",
      "\n",
      "![numpy logo](http://upload.wikimedia.org/wikipedia/en/1/1b/NumPy_logo.png)\n",
      "\n",
      "\n",
      "Numpy provides powerful datatypes for numeric computation in Python. The main datatype is an n-dimensional array (`ndarray`) although it also includes more specialized classes such as a `matrix` class.\n",
      "\n",
      "Most of the other software that will be discussed below is built on top of Numpy.\n",
      "\n",
      "### Tutorials:\n",
      "\n",
      "* http://nbviewer.ipython.org/url/mentat.za.net/numpy/pydata/pydata2012_nyc_numpy.ipynb\n",
      "* http://nbviewer.ipython.org/github/swcarpentry/2013-04-az/blob/master/notebooks/numpy-and-graphing.ipynb\n",
      "* http://nbviewer.ipython.org/github/jrjohansson/scientific-python-lectures/blob/master/Lecture-2-Numpy.ipynb\n",
      "\n",
      "\n",
      "2. Matplotlib\n",
      "-------------\n",
      "\n",
      "Matplotlib is the most widely used plotting library for Python.\n",
      "\n",
      "![mpl logo](http://upload.wikimedia.org/wikipedia/en/thumb/5/56/Matplotlib_logo.svg/540px-Matplotlib_logo.svg.png)\n",
      "\n",
      "A very useful feature of Matplotlib is an online gallery of example plots. For each plot, a screenshot of the result and the code used to generate the plot are included.\n",
      "\n",
      "![mpl gallery](http://i.imgur.com/abfuNV4.png)\n",
      "\n",
      "### Tutorials\n",
      "\n",
      "* http://nbviewer.ipython.org/github/jrjohansson/scientific-python-lectures/blob/master/Lecture-4-Matplotlib.ipynb\n",
      "* http://matplotlib.org/users/pyplot_tutorial.html\n",
      "\n",
      "\n",
      "3. Pandas\n",
      "---------\n",
      "\n",
      "![pandas logo](http://pandas.pydata.org/_static/pandas_logo.png)\n",
      "\n",
      "Pandas is an excellent library for data analysis in Python. It uses both NumPy and Matplotlib, and provides some familiar R-inspired data structures such as a `DataFrame`.\n",
      "\n",
      "### Tutorials\n",
      "\n",
      "* http://nbviewer.ipython.org/urls/gist.github.com/fonnesbeck/5850375/raw/c18cfcd9580d382cb6d14e4708aab33a0916ff3e/1.+Introduction+to+Pandas.ipynb\n",
      "* http://nbviewer.ipython.org/urls/bitbucket.org/hrojas/learn-pandas/raw/master/lessons/01%20-%20Lesson.ipynb\n",
      "* http://nbviewer.ipython.org/github/pyconca/2013-talks/blob/master/Diving%20into%20Open%20Data%20with%20IPython%20Notebook%20and%20Pandas%20-%20Julia%20Evans.ipynb\n",
      "\n",
      "\n",
      "4. SciPy\n",
      "--------\n",
      "\n",
      "The SciPy library includes a collection of generally useful routines for scientific data analysis: clustering, image processing, etc.\n",
      "\n",
      "![scipy logo](http://wiki.scipy.org/images/scipy_logo.gif)\n",
      "\n",
      "### Tutorials\n",
      "\n",
      "* http://nbviewer.ipython.org/github/jrjohansson/scientific-python-lectures/blob/master/Lecture-3-Scipy.ipynb\n",
      "* http://conference.scipy.org/scipy2013/tutorials.php\n",
      "* http://conference.scipy.org/scipy2012/tutorials.php\n"
     ]
    }
   ],
   "metadata": {}
  }
 ]
}