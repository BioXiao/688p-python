{
 "metadata": {
  "name": ""
 },
 "nbformat": 3,
 "nbformat_minor": 0,
 "worksheets": [
  {
   "cells": [
    {
     "cell_type": "markdown",
     "metadata": {},
     "source": [
      "Some more useful python topics\n",
      "==============================\n",
      "\n",
      "Overview\n",
      "--------\n",
      "\n",
      "So far in class we have covered a number of useful Python programming topics including file I/O, string manipulation, regular expressions, functions, object-oriented programming, and BioPython.\n",
      "\n",
      "Today we will see how to pull some of these topics together to perform a useful and non-trivial bioinformatics task.\n",
      "\n",
      "First, however, there are a few more useful topics not yet covered in class that are worth discussing:\n",
      "\n",
      "* iteration\n",
      "* list comprehension\n",
      "* urllib\n",
      "* csv\n",
      "* subprocess\n",
      "\n",
      "Below, I provide some simple examples of each of these.\n",
      "\n"
     ]
    },
    {
     "cell_type": "markdown",
     "metadata": {},
     "source": [
      "Iteration\n",
      "---------\n",
      "We have already seen a couple examples in class of looping through (\"iterating\") lists of items.\n",
      "\n",
      "A simple example was iterating over lists using `for`:"
     ]
    },
    {
     "cell_type": "code",
     "collapsed": false,
     "input": [
      "for item in [\"one\", \"two\", \"three\"]:\n",
      "    print(item)"
     ],
     "language": "python",
     "metadata": {},
     "outputs": [
      {
       "output_type": "stream",
       "stream": "stdout",
       "text": [
        "one\n",
        "two\n",
        "three\n"
       ]
      }
     ],
     "prompt_number": 44
    },
    {
     "cell_type": "markdown",
     "metadata": {},
     "source": [
      "There are a couple other variations on this that are useful to be aware of.\n",
      "\n",
      "### 1. Enumerate\n",
      "The first one is using `enumerate` to create a counter to keep track of where you are in the process:"
     ]
    },
    {
     "cell_type": "code",
     "collapsed": false,
     "input": [
      "for i, item in enumerate([\"one\", \"two\", \"three\"]):\n",
      "    print(\"%d: %s\" % (i, item))"
     ],
     "language": "python",
     "metadata": {},
     "outputs": [
      {
       "output_type": "stream",
       "stream": "stdout",
       "text": [
        "0: one\n",
        "1: two\n",
        "2: three\n"
       ]
      }
     ],
     "prompt_number": 45
    },
    {
     "cell_type": "markdown",
     "metadata": {},
     "source": [
      "This is similar to the `for(i=0; i<n; i++) {...}` syntax found in many other languages such as C++ and Java."
     ]
    },
    {
     "cell_type": "markdown",
     "metadata": {},
     "source": [
      "### 2. Dictionary iteration\n",
      "\n",
      "Often we will also want to iterate over more complex data structures than lists. In some cases, such as set iteration, the syntax is identical to that used for lists.\n",
      "\n",
      "For the case of dictionaries, there are several different ways to iterate over them, depending on what you are interested in."
     ]
    },
    {
     "cell_type": "code",
     "collapsed": false,
     "input": [
      "# first, let's create a simple dictionary to work with\n",
      "critters = {\n",
      "    'frog': 10,\n",
      "    'cat': 12,\n",
      "    'dog': 13\n",
      "}"
     ],
     "language": "python",
     "metadata": {},
     "outputs": [],
     "prompt_number": 46
    },
    {
     "cell_type": "code",
     "collapsed": false,
     "input": [
      "critters"
     ],
     "language": "python",
     "metadata": {},
     "outputs": [
      {
       "metadata": {},
       "output_type": "pyout",
       "prompt_number": 47,
       "text": [
        "{'cat': 12, 'dog': 13, 'frog': 10}"
       ]
      }
     ],
     "prompt_number": 47
    },
    {
     "cell_type": "code",
     "collapsed": false,
     "input": [
      "# If we just want to get the dictionary keys, we can use the same syntax as list iteration:\n",
      "for key in critters:\n",
      "    print(item)"
     ],
     "language": "python",
     "metadata": {},
     "outputs": [
      {
       "output_type": "stream",
       "stream": "stdout",
       "text": [
        "three\n",
        "three\n",
        "three\n"
       ]
      }
     ],
     "prompt_number": 48
    },
    {
     "cell_type": "code",
     "collapsed": false,
     "input": [
      "# Iterating over the dictionary values is also pretty straight-forward:\n",
      "for value in critters.values():\n",
      "    print(value)"
     ],
     "language": "python",
     "metadata": {},
     "outputs": [
      {
       "output_type": "stream",
       "stream": "stdout",
       "text": [
        "13\n",
        "10\n",
        "12\n"
       ]
      }
     ],
     "prompt_number": 49
    },
    {
     "cell_type": "code",
     "collapsed": false,
     "input": [
      "# Python also provides a simple way to keep track of both at the same, however using \"items\""
     ],
     "language": "python",
     "metadata": {},
     "outputs": [],
     "prompt_number": 50
    },
    {
     "cell_type": "code",
     "collapsed": false,
     "input": [
      "for key, value in critters.items():\n",
      "    print(\"I have %d %ss\" % (value, key))"
     ],
     "language": "python",
     "metadata": {},
     "outputs": [
      {
       "output_type": "stream",
       "stream": "stdout",
       "text": [
        "I have 13 dogs\n",
        "I have 10 frogs\n",
        "I have 12 cats\n"
       ]
      }
     ],
     "prompt_number": 51
    },
    {
     "cell_type": "markdown",
     "metadata": {},
     "source": [
      "List comprehension\n",
      "------------------\n",
      "One of the most useful features in Python is a powerful and elegant method of creating lists called \"list comprehension\".\n",
      "\n",
      "The tradition way of creating lists, and the way it's done is most other languages is to start with an empty list and then, using a for-loop, fill the list with items."
     ]
    },
    {
     "cell_type": "code",
     "collapsed": false,
     "input": [
      "# the old way of doing things..\n",
      "seqs = ['agt', 'cga', 'tca']\n",
      "\n",
      "uppercase_seqs = []\n",
      "for seq in seqs:\n",
      "    uppercase_seqs.append(seq.upper())\n",
      "\n",
      "uppercase_seqs"
     ],
     "language": "python",
     "metadata": {},
     "outputs": [
      {
       "metadata": {},
       "output_type": "pyout",
       "prompt_number": 52,
       "text": [
        "['AGT', 'CGA', 'TCA']"
       ]
      }
     ],
     "prompt_number": 52
    },
    {
     "cell_type": "markdown",
     "metadata": {},
     "source": [
      "[List comprehension ](http://docs.python.org/2/tutorial/datastructures.html#list-comprehensions) provides a quick way of achieving some of the same effects using a simple syntax within square-brackets:"
     ]
    },
    {
     "cell_type": "code",
     "collapsed": false,
     "input": [
      "# a more pythonic way of doing things\n",
      "uppercase_seqs = [seq.upper() for seq in seqs]\n",
      "\n",
      "uppercase_seqs"
     ],
     "language": "python",
     "metadata": {},
     "outputs": [
      {
       "metadata": {},
       "output_type": "pyout",
       "prompt_number": 53,
       "text": [
        "['AGT', 'CGA', 'TCA']"
       ]
      }
     ],
     "prompt_number": 53
    },
    {
     "cell_type": "markdown",
     "metadata": {},
     "source": [
      "The above syntax may seem a bit strange at first, but once you get used to it, it provides a very useful way to create new lists from old ones.\n",
      "\n",
      "Interestingly, newer versions of Python (2.7+) provide a similar syntax to generate other data types such as dictionaries:"
     ]
    },
    {
     "cell_type": "code",
     "collapsed": false,
     "input": [
      "# dictionary comprehension example\n",
      "seqs = ['cgcct', 'accaggcg', 'tgactat']\n",
      "\n",
      "gc_ratios = {x: (x.count('g') + x.count('c')) / float(len(x)) for x in seqs}\n",
      "\n",
      "gc_ratios"
     ],
     "language": "python",
     "metadata": {},
     "outputs": [
      {
       "metadata": {},
       "output_type": "pyout",
       "prompt_number": 54,
       "text": [
        "{'accaggcg': 0.75, 'cgcct': 0.8, 'tgactat': 0.2857142857142857}"
       ]
      }
     ],
     "prompt_number": 54
    },
    {
     "cell_type": "code",
     "collapsed": false,
     "input": [
      "# note: if we didn't cast at least one of the values to a float, we would have this problem:\n",
      "5 / 8"
     ],
     "language": "python",
     "metadata": {},
     "outputs": [
      {
       "metadata": {},
       "output_type": "pyout",
       "prompt_number": 55,
       "text": [
        "0"
       ]
      }
     ],
     "prompt_number": 55
    },
    {
     "cell_type": "code",
     "collapsed": false,
     "input": [
      "# this is what we want though (same as 5 / 8.):\n",
      "5 / float(8)"
     ],
     "language": "python",
     "metadata": {},
     "outputs": [
      {
       "metadata": {},
       "output_type": "pyout",
       "prompt_number": 56,
       "text": [
        "0.625"
       ]
      }
     ],
     "prompt_number": 56
    },
    {
     "cell_type": "markdown",
     "metadata": {},
     "source": [
      "urllib2\n",
      "-------\n",
      "The Python [urllib2](http://docs.python.org/2/library/urllib2.html) module (just `urllib` in Python 3) is a simple module for dealing with internet requests.\n",
      "\n",
      "Let's use it to retrieve a famous data set, [Fisher's Iris data set](http://en.wikipedia.org/wiki/Iris_flower_data_set)."
     ]
    },
    {
     "cell_type": "code",
     "collapsed": false,
     "input": [
      "# first, we import the urllib2 module\n",
      "import urllib2\n",
      "\n",
      "# fetch the dataset from online\n",
      "handle = urllib2.urlopen(\"http://aima.cs.berkeley.edu/data/iris.csv\")\n",
      "contents = handle.read()\n",
      "\n",
      "# let's see what we have:\n",
      "contents\n",
      "    "
     ],
     "language": "python",
     "metadata": {},
     "outputs": [
      {
       "metadata": {},
       "output_type": "pyout",
       "prompt_number": 57,
       "text": [
        "'5.1,3.5,1.4,0.2,setosa\\n4.9,3.0,1.4,0.2,setosa\\n4.7,3.2,1.3,0.2,setosa\\n4.6,3.1,1.5,0.2,setosa\\n5.0,3.6,1.4,0.2,setosa\\n5.4,3.9,1.7,0.4,setosa\\n4.6,3.4,1.4,0.3,setosa\\n5.0,3.4,1.5,0.2,setosa\\n4.4,2.9,1.4,0.2,setosa\\n4.9,3.1,1.5,0.1,setosa\\n5.4,3.7,1.5,0.2,setosa\\n4.8,3.4,1.6,0.2,setosa\\n4.8,3.0,1.4,0.1,setosa\\n4.3,3.0,1.1,0.1,setosa\\n5.8,4.0,1.2,0.2,setosa\\n5.7,4.4,1.5,0.4,setosa\\n5.4,3.9,1.3,0.4,setosa\\n5.1,3.5,1.4,0.3,setosa\\n5.7,3.8,1.7,0.3,setosa\\n5.1,3.8,1.5,0.3,setosa\\n5.4,3.4,1.7,0.2,setosa\\n5.1,3.7,1.5,0.4,setosa\\n4.6,3.6,1.0,0.2,setosa\\n5.1,3.3,1.7,0.5,setosa\\n4.8,3.4,1.9,0.2,setosa\\n5.0,3.0,1.6,0.2,setosa\\n5.0,3.4,1.6,0.4,setosa\\n5.2,3.5,1.5,0.2,setosa\\n5.2,3.4,1.4,0.2,setosa\\n4.7,3.2,1.6,0.2,setosa\\n4.8,3.1,1.6,0.2,setosa\\n5.4,3.4,1.5,0.4,setosa\\n5.2,4.1,1.5,0.1,setosa\\n5.5,4.2,1.4,0.2,setosa\\n4.9,3.1,1.5,0.1,setosa\\n5.0,3.2,1.2,0.2,setosa\\n5.5,3.5,1.3,0.2,setosa\\n4.9,3.1,1.5,0.1,setosa\\n4.4,3.0,1.3,0.2,setosa\\n5.1,3.4,1.5,0.2,setosa\\n5.0,3.5,1.3,0.3,setosa\\n4.5,2.3,1.3,0.3,setosa\\n4.4,3.2,1.3,0.2,setosa\\n5.0,3.5,1.6,0.6,setosa\\n5.1,3.8,1.9,0.4,setosa\\n4.8,3.0,1.4,0.3,setosa\\n5.1,3.8,1.6,0.2,setosa\\n4.6,3.2,1.4,0.2,setosa\\n5.3,3.7,1.5,0.2,setosa\\n5.0,3.3,1.4,0.2,setosa\\n7.0,3.2,4.7,1.4,versicolor\\n6.4,3.2,4.5,1.5,versicolor\\n6.9,3.1,4.9,1.5,versicolor\\n5.5,2.3,4.0,1.3,versicolor\\n6.5,2.8,4.6,1.5,versicolor\\n5.7,2.8,4.5,1.3,versicolor\\n6.3,3.3,4.7,1.6,versicolor\\n4.9,2.4,3.3,1.0,versicolor\\n6.6,2.9,4.6,1.3,versicolor\\n5.2,2.7,3.9,1.4,versicolor\\n5.0,2.0,3.5,1.0,versicolor\\n5.9,3.0,4.2,1.5,versicolor\\n6.0,2.2,4.0,1.0,versicolor\\n6.1,2.9,4.7,1.4,versicolor\\n5.6,2.9,3.6,1.3,versicolor\\n6.7,3.1,4.4,1.4,versicolor\\n5.6,3.0,4.5,1.5,versicolor\\n5.8,2.7,4.1,1.0,versicolor\\n6.2,2.2,4.5,1.5,versicolor\\n5.6,2.5,3.9,1.1,versicolor\\n5.9,3.2,4.8,1.8,versicolor\\n6.1,2.8,4.0,1.3,versicolor\\n6.3,2.5,4.9,1.5,versicolor\\n6.1,2.8,4.7,1.2,versicolor\\n6.4,2.9,4.3,1.3,versicolor\\n6.6,3.0,4.4,1.4,versicolor\\n6.8,2.8,4.8,1.4,versicolor\\n6.7,3.0,5.0,1.7,versicolor\\n6.0,2.9,4.5,1.5,versicolor\\n5.7,2.6,3.5,1.0,versicolor\\n5.5,2.4,3.8,1.1,versicolor\\n5.5,2.4,3.7,1.0,versicolor\\n5.8,2.7,3.9,1.2,versicolor\\n6.0,2.7,5.1,1.6,versicolor\\n5.4,3.0,4.5,1.5,versicolor\\n6.0,3.4,4.5,1.6,versicolor\\n6.7,3.1,4.7,1.5,versicolor\\n6.3,2.3,4.4,1.3,versicolor\\n5.6,3.0,4.1,1.3,versicolor\\n5.5,2.5,4.0,1.3,versicolor\\n5.5,2.6,4.4,1.2,versicolor\\n6.1,3.0,4.6,1.4,versicolor\\n5.8,2.6,4.0,1.2,versicolor\\n5.0,2.3,3.3,1.0,versicolor\\n5.6,2.7,4.2,1.3,versicolor\\n5.7,3.0,4.2,1.2,versicolor\\n5.7,2.9,4.2,1.3,versicolor\\n6.2,2.9,4.3,1.3,versicolor\\n5.1,2.5,3.0,1.1,versicolor\\n5.7,2.8,4.1,1.3,versicolor\\n6.3,3.3,6.0,2.5,virginica\\n5.8,2.7,5.1,1.9,virginica\\n7.1,3.0,5.9,2.1,virginica\\n6.3,2.9,5.6,1.8,virginica\\n6.5,3.0,5.8,2.2,virginica\\n7.6,3.0,6.6,2.1,virginica\\n4.9,2.5,4.5,1.7,virginica\\n7.3,2.9,6.3,1.8,virginica\\n6.7,2.5,5.8,1.8,virginica\\n7.2,3.6,6.1,2.5,virginica\\n6.5,3.2,5.1,2.0,virginica\\n6.4,2.7,5.3,1.9,virginica\\n6.8,3.0,5.5,2.1,virginica\\n5.7,2.5,5.0,2.0,virginica\\n5.8,2.8,5.1,2.4,virginica\\n6.4,3.2,5.3,2.3,virginica\\n6.5,3.0,5.5,1.8,virginica\\n7.7,3.8,6.7,2.2,virginica\\n7.7,2.6,6.9,2.3,virginica\\n6.0,2.2,5.0,1.5,virginica\\n6.9,3.2,5.7,2.3,virginica\\n5.6,2.8,4.9,2.0,virginica\\n7.7,2.8,6.7,2.0,virginica\\n6.3,2.7,4.9,1.8,virginica\\n6.7,3.3,5.7,2.1,virginica\\n7.2,3.2,6.0,1.8,virginica\\n6.2,2.8,4.8,1.8,virginica\\n6.1,3.0,4.9,1.8,virginica\\n6.4,2.8,5.6,2.1,virginica\\n7.2,3.0,5.8,1.6,virginica\\n7.4,2.8,6.1,1.9,virginica\\n7.9,3.8,6.4,2.0,virginica\\n6.4,2.8,5.6,2.2,virginica\\n6.3,2.8,5.1,1.5,virginica\\n6.1,2.6,5.6,1.4,virginica\\n7.7,3.0,6.1,2.3,virginica\\n6.3,3.4,5.6,2.4,virginica\\n6.4,3.1,5.5,1.8,virginica\\n6.0,3.0,4.8,1.8,virginica\\n6.9,3.1,5.4,2.1,virginica\\n6.7,3.1,5.6,2.4,virginica\\n6.9,3.1,5.1,2.3,virginica\\n5.8,2.7,5.1,1.9,virginica\\n6.8,3.2,5.9,2.3,virginica\\n6.7,3.3,5.7,2.5,virginica\\n6.7,3.0,5.2,2.3,virginica\\n6.3,2.5,5.0,1.9,virginica\\n6.5,3.0,5.2,2.0,virginica\\n6.2,3.4,5.4,2.3,virginica\\n5.9,3.0,5.1,1.8,virginica\\n'"
       ]
      }
     ],
     "prompt_number": 57
    },
    {
     "cell_type": "markdown",
     "metadata": {},
     "source": [
      "So everything is returned as a single string. If we wanted to get the individual lines of the file, we could use the `split` function, e.g.:"
     ]
    },
    {
     "cell_type": "code",
     "collapsed": false,
     "input": [
      "# print the first five lines\n",
      "for line in contents.split('\\n')[:5]:\n",
      "    print(line)"
     ],
     "language": "python",
     "metadata": {},
     "outputs": [
      {
       "output_type": "stream",
       "stream": "stdout",
       "text": [
        "5.1,3.5,1.4,0.2,setosa\n",
        "4.9,3.0,1.4,0.2,setosa\n",
        "4.7,3.2,1.3,0.2,setosa\n",
        "4.6,3.1,1.5,0.2,setosa\n",
        "5.0,3.6,1.4,0.2,setosa\n"
       ]
      }
     ],
     "prompt_number": 58
    },
    {
     "cell_type": "markdown",
     "metadata": {},
     "source": [
      "However, python also provides a convenience function to return the contents of a file as a list of lines:"
     ]
    },
    {
     "cell_type": "code",
     "collapsed": false,
     "input": [
      "# this also works when reading files from disk!\n",
      "lines = urllib2.urlopen(\"http://aima.cs.berkeley.edu/data/iris.csv\").readlines()\n",
      "lines[:5]"
     ],
     "language": "python",
     "metadata": {},
     "outputs": [
      {
       "metadata": {},
       "output_type": "pyout",
       "prompt_number": 59,
       "text": [
        "['5.1,3.5,1.4,0.2,setosa\\n',\n",
        " '4.9,3.0,1.4,0.2,setosa\\n',\n",
        " '4.7,3.2,1.3,0.2,setosa\\n',\n",
        " '4.6,3.1,1.5,0.2,setosa\\n',\n",
        " '5.0,3.6,1.4,0.2,setosa\\n']"
       ]
      }
     ],
     "prompt_number": 59
    },
    {
     "cell_type": "markdown",
     "metadata": {},
     "source": [
      "For now, let's add a header field and save the file to disk. We will come back to this in the next section."
     ]
    },
    {
     "cell_type": "code",
     "collapsed": false,
     "input": [
      "# add header fields\n",
      "column_names = \"Sepal Length,Sepal Width,Petal Length,Petal Width,Species\\n\"\n",
      "contents = column_names + contents\n",
      "\n",
      "# write to a file\n",
      "output = open('iris.csv', 'w')\n",
      "output.write(contents)\n",
      "output.close()"
     ],
     "language": "python",
     "metadata": {},
     "outputs": [],
     "prompt_number": 60
    },
    {
     "cell_type": "markdown",
     "metadata": {},
     "source": [
      "csv\n",
      "---\n",
      "One of the most common tasks we perform in bioinformatics analysis is reading and writing data files.\n",
      "\n",
      "A common standard for storing data is called \"comma-separated values\" or \"csv\". There are many variations on this (e.g. tab-delimited files) but the basic idea is the same: each line in the file is a row in a table, with values seperated by commas or some other delimiter. Sometimes row and column names may be included, but this is not always the case.\n",
      "\n",
      "A simple approach to processing a csv file would be to use the `read` method presented in the earlier file I/O lecture, and then use `split` to break up each line into individual items.\n",
      "\n",
      "Once again, however, Python simplifies things for us by providing a module ([csv](http://docs.python.org/2/library/csv.html)) specialized for reading and writing all kinds of delimited files."
     ]
    },
    {
     "cell_type": "code",
     "collapsed": false,
     "input": [
      "import csv\n",
      "\n",
      "# first, we create a file handler to the input file\n",
      "with open('iris.csv') as csvfile:\n",
      "    \n",
      "    # next we creata 'csv.reader' instance\n",
      "    reader = csv.reader(csvfile)\n",
      "    \n",
      "    # now we can iterate through the csv file as we wish\n",
      "    # for example, the below lines will iterate through the rows\n",
      "    # and print the first item in each row\n",
      "    for row in reader:\n",
      "        print(row[0])"
     ],
     "language": "python",
     "metadata": {},
     "outputs": [
      {
       "output_type": "stream",
       "stream": "stdout",
       "text": [
        "Sepal Length\n",
        "5.1\n",
        "4.9\n",
        "4.7\n",
        "4.6\n",
        "5.0\n",
        "5.4\n",
        "4.6\n",
        "5.0\n",
        "4.4\n",
        "4.9\n",
        "5.4\n",
        "4.8\n",
        "4.8\n",
        "4.3\n",
        "5.8\n",
        "5.7\n",
        "5.4\n",
        "5.1\n",
        "5.7\n",
        "5.1\n",
        "5.4\n",
        "5.1\n",
        "4.6\n",
        "5.1\n",
        "4.8\n",
        "5.0\n",
        "5.0\n",
        "5.2\n",
        "5.2\n",
        "4.7\n",
        "4.8\n",
        "5.4\n",
        "5.2\n",
        "5.5\n",
        "4.9\n",
        "5.0\n",
        "5.5\n",
        "4.9\n",
        "4.4\n",
        "5.1\n",
        "5.0\n",
        "4.5\n",
        "4.4\n",
        "5.0\n",
        "5.1\n",
        "4.8\n",
        "5.1\n",
        "4.6\n",
        "5.3\n",
        "5.0\n",
        "7.0\n",
        "6.4\n",
        "6.9\n",
        "5.5\n",
        "6.5\n",
        "5.7\n",
        "6.3\n",
        "4.9\n",
        "6.6\n",
        "5.2\n",
        "5.0\n",
        "5.9\n",
        "6.0\n",
        "6.1\n",
        "5.6\n",
        "6.7\n",
        "5.6\n",
        "5.8\n",
        "6.2\n",
        "5.6\n",
        "5.9\n",
        "6.1\n",
        "6.3\n",
        "6.1\n",
        "6.4\n",
        "6.6\n",
        "6.8\n",
        "6.7\n",
        "6.0\n",
        "5.7\n",
        "5.5\n",
        "5.5\n",
        "5.8\n",
        "6.0\n",
        "5.4\n",
        "6.0\n",
        "6.7\n",
        "6.3\n",
        "5.6\n",
        "5.5\n",
        "5.5\n",
        "6.1\n",
        "5.8\n",
        "5.0\n",
        "5.6\n",
        "5.7\n",
        "5.7\n",
        "6.2\n",
        "5.1\n",
        "5.7\n",
        "6.3\n",
        "5.8\n",
        "7.1\n",
        "6.3\n",
        "6.5\n",
        "7.6\n",
        "4.9\n",
        "7.3\n",
        "6.7\n",
        "7.2\n",
        "6.5\n",
        "6.4\n",
        "6.8\n",
        "5.7\n",
        "5.8\n",
        "6.4\n",
        "6.5\n",
        "7.7\n",
        "7.7\n",
        "6.0\n",
        "6.9\n",
        "5.6\n",
        "7.7\n",
        "6.3\n",
        "6.7\n",
        "7.2\n",
        "6.2\n",
        "6.1\n",
        "6.4\n",
        "7.2\n",
        "7.4\n",
        "7.9\n",
        "6.4\n",
        "6.3\n",
        "6.1\n",
        "7.7\n",
        "6.3\n",
        "6.4\n",
        "6.0\n",
        "6.9\n",
        "6.7\n",
        "6.9\n",
        "5.8\n",
        "6.8\n",
        "6.7\n",
        "6.7\n",
        "6.3\n",
        "6.5\n",
        "6.2\n",
        "5.9\n"
       ]
      }
     ],
     "prompt_number": 61
    },
    {
     "cell_type": "markdown",
     "metadata": {},
     "source": [
      "While the above example is already an improvement compared with reading the CSV file manually, and the `reader` class provides many options specifying what the input file looks like (delimiter, comment characters, etc.,) the basic reader class is fairly na\u00efve and doesn't know how to differentiate between the column names and the actual column values.\n",
      "\n",
      "Further, in order to reference a specific column, we have to use the column index, e.g. `line[0]` or `line[3]`. For tables with many columns this can quickly become unwieldy.\n",
      "\n",
      "Fortunately, Python also provides a more intelligent [DictReader](http://docs.python.org/2/library/csv.html#csv.DictReader) class to help us with this."
     ]
    },
    {
     "cell_type": "code",
     "collapsed": false,
     "input": [
      "from csv import DictReader\n",
      "\n",
      "with open('iris.csv') as csvfile:\n",
      "    iris = DictReader(csvfile)\n",
      "    \n",
      "    # the csv file's field names are stored as a property of the DictReader instance\n",
      "    print(\"Field names:\")\n",
      "    print(iris.fieldnames)\n",
      "    \n",
      "    # iteration is similar to that above, but now we can refer to the fields using\n",
      "    # the column names\n",
      "    print (\"\\nSpecies:\")\n",
      "    for row in iris:\n",
      "        print row['Species']\n",
      "\n",
      "\n",
      "    "
     ],
     "language": "python",
     "metadata": {},
     "outputs": [
      {
       "output_type": "stream",
       "stream": "stdout",
       "text": [
        "Field names:\n",
        "['Sepal Length', 'Sepal Width', 'Petal Length', 'Petal Width', 'Species']\n",
        "\n",
        "Species:\n",
        "setosa\n",
        "setosa\n",
        "setosa\n",
        "setosa\n",
        "setosa\n",
        "setosa\n",
        "setosa\n",
        "setosa\n",
        "setosa\n",
        "setosa\n",
        "setosa\n",
        "setosa\n",
        "setosa\n",
        "setosa\n",
        "setosa\n",
        "setosa\n",
        "setosa\n",
        "setosa\n",
        "setosa\n",
        "setosa\n",
        "setosa\n",
        "setosa\n",
        "setosa\n",
        "setosa\n",
        "setosa\n",
        "setosa\n",
        "setosa\n",
        "setosa\n",
        "setosa\n",
        "setosa\n",
        "setosa\n",
        "setosa\n",
        "setosa\n",
        "setosa\n",
        "setosa\n",
        "setosa\n",
        "setosa\n",
        "setosa\n",
        "setosa\n",
        "setosa\n",
        "setosa\n",
        "setosa\n",
        "setosa\n",
        "setosa\n",
        "setosa\n",
        "setosa\n",
        "setosa\n",
        "setosa\n",
        "setosa\n",
        "setosa\n",
        "versicolor\n",
        "versicolor\n",
        "versicolor\n",
        "versicolor\n",
        "versicolor\n",
        "versicolor\n",
        "versicolor\n",
        "versicolor\n",
        "versicolor\n",
        "versicolor\n",
        "versicolor\n",
        "versicolor\n",
        "versicolor\n",
        "versicolor\n",
        "versicolor\n",
        "versicolor\n",
        "versicolor\n",
        "versicolor\n",
        "versicolor\n",
        "versicolor\n",
        "versicolor\n",
        "versicolor\n",
        "versicolor\n",
        "versicolor\n",
        "versicolor\n",
        "versicolor\n",
        "versicolor\n",
        "versicolor\n",
        "versicolor\n",
        "versicolor\n",
        "versicolor\n",
        "versicolor\n",
        "versicolor\n",
        "versicolor\n",
        "versicolor\n",
        "versicolor\n",
        "versicolor\n",
        "versicolor\n",
        "versicolor\n",
        "versicolor\n",
        "versicolor\n",
        "versicolor\n",
        "versicolor\n",
        "versicolor\n",
        "versicolor\n",
        "versicolor\n",
        "versicolor\n",
        "versicolor\n",
        "versicolor\n",
        "versicolor\n",
        "virginica\n",
        "virginica\n",
        "virginica\n",
        "virginica\n",
        "virginica\n",
        "virginica\n",
        "virginica\n",
        "virginica\n",
        "virginica\n",
        "virginica\n",
        "virginica\n",
        "virginica\n",
        "virginica\n",
        "virginica\n",
        "virginica\n",
        "virginica\n",
        "virginica\n",
        "virginica\n",
        "virginica\n",
        "virginica\n",
        "virginica\n",
        "virginica\n",
        "virginica\n",
        "virginica\n",
        "virginica\n",
        "virginica\n",
        "virginica\n",
        "virginica\n",
        "virginica\n",
        "virginica\n",
        "virginica\n",
        "virginica\n",
        "virginica\n",
        "virginica\n",
        "virginica\n",
        "virginica\n",
        "virginica\n",
        "virginica\n",
        "virginica\n",
        "virginica\n",
        "virginica\n",
        "virginica\n",
        "virginica\n",
        "virginica\n",
        "virginica\n",
        "virginica\n",
        "virginica\n",
        "virginica\n",
        "virginica\n",
        "virginica\n"
       ]
      }
     ],
     "prompt_number": 62
    },
    {
     "cell_type": "markdown",
     "metadata": {},
     "source": [
      "Finally, just like there are `csv.reader` and `csv.DictReader` classes, there are also `csv.writer` and `csv.DictWriter` classes which provide a similar syntax for creating your own csv files.\n",
      "\n",
      "(For even more power over data file I/O, check out the `read_csv` and related functions in the  [Pandas library](http://pandas.pydata.org/pandas-docs/stable/generated/pandas.io.parsers.read_csv.html))"
     ]
    },
    {
     "cell_type": "markdown",
     "metadata": {},
     "source": [
      "Subprocess\n",
      "----------\n",
      "Sometimes it is necessary to call scripts or programs outside of Python. For example, you may  want to do some work in Python and then pass the results on to another command-line program, or perhaps you want to use Python to string together a bunch of different programs to create your own bioinformatics pipeline.\n",
      "\n",
      "Python provides complex and powerful module called [subprocess](http://docs.python.org/2/library/subprocess.html) to help you with these tasks.\n",
      "\n",
      "There are different methods we can use, depending on how granular control we want over the process. Below are a couple common use cases. For more detailed examples, see the Python docs."
     ]
    },
    {
     "cell_type": "code",
     "collapsed": false,
     "input": [
      "import subprocess\n",
      "\n",
      "# run a command and get its output\n",
      "print(subprocess.check_output([\"ls\", \"-l\"]))"
     ],
     "language": "python",
     "metadata": {},
     "outputs": [
      {
       "output_type": "stream",
       "stream": "stdout",
       "text": [
        "total 36\n",
        "-rw-r--r-- 1 keith users  3858 Dec  9 11:24 iris.csv\n",
        "-rw-r--r-- 1 keith users 29143 Dec  9 11:24 Useful_Python_topics_not_yet_covered.ipynb\n",
        "\n"
       ]
      }
     ],
     "prompt_number": 63
    },
    {
     "cell_type": "code",
     "collapsed": false,
     "input": [
      "# Using Popen\n",
      "process = subprocess.Popen(['tophat', '--version'])\n",
      "\n",
      "# get pid\n",
      "print(\"Process id: %d\" % process.pid)\n",
      "\n",
      "# wait until process finishes before continuing execution:\n",
      "# here it won't matter much, but for longer tasks this may be useful\n",
      "process.wait()\n"
     ],
     "language": "python",
     "metadata": {},
     "outputs": [
      {
       "output_type": "stream",
       "stream": "stdout",
       "text": [
        "Process id: 16292\n"
       ]
      },
      {
       "metadata": {},
       "output_type": "pyout",
       "prompt_number": 64,
       "text": [
        "0"
       ]
      }
     ],
     "prompt_number": 64
    }
   ],
   "metadata": {}
  }
 ]
}