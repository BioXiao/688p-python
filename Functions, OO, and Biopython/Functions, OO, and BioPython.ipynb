{
 "metadata": {
  "name": ""
 },
 "nbformat": 3,
 "nbformat_minor": 0,
 "worksheets": [
  {
   "cells": [
    {
     "cell_type": "heading",
     "level": 1,
     "metadata": {},
     "source": [
      "Functions"
     ]
    },
    {
     "cell_type": "markdown",
     "metadata": {},
     "source": [
      "So far all of our programs have been structured so that it executes one line of code after another, sometimes repeating certain lines of code. This works well for small scripts, but as they get more complicated things can get *very* complicated.\n",
      "\n",
      "There are several tools common to many languages that let you structure your code in a way that it is easier to read, write, and understand. One of these, common to most languages, is the *function*.\n",
      "\n",
      "What follows is an explanation of how functions function (get it?) in Python. Other languages may be slightly to dramatically different, although the rules may change the concepts are more universal."
     ]
    },
    {
     "cell_type": "markdown",
     "metadata": {},
     "source": [
      "You have seen and used functions before. Things like set() constructors, and the open() function you used to open a file for reading or writing are functions defined as part of the Python standard library, but you can code your own functions in your own scripts.\n",
      "\n",
      "Functions are defined using the **def** operator, followed by the function name, arguments in parentheses, and finally a colon indicated that a block of code will follow.\n",
      "\n",
      "These blocks function just like those in **if/else** statements. The following lines indented to the same level below to that block of code, and are assigned to the function."
     ]
    },
    {
     "cell_type": "code",
     "collapsed": false,
     "input": [
      "def my_function(first_argument, second_argument):\n",
      "    print first_argument + second_argument\n",
      "    \n",
      "\n",
      "my_function(2, 2)"
     ],
     "language": "python",
     "metadata": {},
     "outputs": [
      {
       "output_type": "stream",
       "stream": "stdout",
       "text": [
        "4\n"
       ]
      }
     ],
     "prompt_number": 1
    },
    {
     "cell_type": "markdown",
     "metadata": {},
     "source": [
      "For most functions you don't necessarily want them to print information directly to the screen, you might want to get the result and assign it to a variable. To do this you use the **return** keyword."
     ]
    },
    {
     "cell_type": "code",
     "collapsed": false,
     "input": [
      "def my_function(a, b):\n",
      "    return a + b\n",
      "\n",
      "x = my_function(2, 2)\n",
      "print x"
     ],
     "language": "python",
     "metadata": {},
     "outputs": [
      {
       "output_type": "stream",
       "stream": "stdout",
       "text": [
        "4\n"
       ]
      }
     ],
     "prompt_number": 2
    },
    {
     "cell_type": "markdown",
     "metadata": {},
     "source": [
      "The argument names in the function definition line create variables that only exist in the **scope** of the function itself, the variable names do not exist outside of the function by default."
     ]
    },
    {
     "cell_type": "code",
     "collapsed": false,
     "input": [
      "def my_print(a):\n",
      "    a = 2\n",
      "    b = 3\n",
      "    print b\n",
      "    return a\n",
      "    \n",
      "my_print(1)\n"
     ],
     "language": "python",
     "metadata": {},
     "outputs": [
      {
       "output_type": "stream",
       "stream": "stdout",
       "text": [
        "3\n"
       ]
      },
      {
       "metadata": {},
       "output_type": "pyout",
       "prompt_number": 7,
       "text": [
        "2"
       ]
      }
     ],
     "prompt_number": 7
    },
    {
     "cell_type": "markdown",
     "metadata": {},
     "source": [
      "Functions can, however, access variables declared outside of the function themselves."
     ]
    },
    {
     "cell_type": "code",
     "collapsed": false,
     "input": [
      "a=1\n",
      "\n",
      "def my_function():\n",
      "    return a\n",
      "\n",
      "my_function()\n"
     ],
     "language": "python",
     "metadata": {},
     "outputs": [
      {
       "metadata": {},
       "output_type": "pyout",
       "prompt_number": 8,
       "text": [
        "1"
       ]
      }
     ],
     "prompt_number": 8
    },
    {
     "cell_type": "markdown",
     "metadata": {},
     "source": [
      "However, by default functions cannot change variables declared outside of the function itself. Any state from inside the function that you want to access later you should return."
     ]
    },
    {
     "cell_type": "code",
     "collapsed": false,
     "input": [
      "a=1 \n",
      "\n",
      "def my_function():\n",
      "    a=2\n",
      "\n",
      "my_function()\n",
      "print a # after calling my_function(), a should still be equal to 1"
     ],
     "language": "python",
     "metadata": {},
     "outputs": [
      {
       "output_type": "stream",
       "stream": "stdout",
       "text": [
        "1\n"
       ]
      }
     ],
     "prompt_number": 9
    },
    {
     "cell_type": "markdown",
     "metadata": {},
     "source": [
      "You may have noticed previously that some functions can be called with different numbers of arguments. For instance the open() function can be called with just a filename, which will by default open the file in read-only mode, or optionally can take both a file name and a mode string. Functions can be defined with so-called **default arguments**. If you wondered how that worked..."
     ]
    },
    {
     "cell_type": "code",
     "collapsed": false,
     "input": [
      "def fake_open(filename, mode='r'):\n",
      "    return filename, mode\n",
      "    \n",
      "print fake_open('my_file.txt')\n",
      "print fake_open('my_file.txt', 'w')"
     ],
     "language": "python",
     "metadata": {},
     "outputs": [
      {
       "output_type": "stream",
       "stream": "stdout",
       "text": [
        "('my_file.txt', 'r')\n",
        "('my_file.txt', 'w')\n"
       ]
      }
     ],
     "prompt_number": 10
    },
    {
     "cell_type": "markdown",
     "metadata": {},
     "source": [
      "Additionally, Python wants to make designing and calling functions very flexible. You can pass arguments to a function in the order they are declared (known as **positional arguments**) and Python will automatically assign them in order. You can also pass arguments directly by name as opposed to position, known as **keyword arguments**."
     ]
    },
    {
     "cell_type": "code",
     "collapsed": false,
     "input": [
      "def my_function(argument_one, argument_two, argument_three):\n",
      "    print argument_one, argument_two, argument_three\n",
      "\n",
      "my_function(1, 2, 3)\n",
      "my_function(argument_two=1, argument_one=2, argument_three=3)\n",
      "my_function(1, 2, argument_three=3)"
     ],
     "language": "python",
     "metadata": {},
     "outputs": [
      {
       "output_type": "stream",
       "stream": "stdout",
       "text": [
        "1 2 3\n",
        "2 1 3\n",
        "1 2 3\n"
       ]
      }
     ],
     "prompt_number": 13
    },
    {
     "cell_type": "markdown",
     "metadata": {},
     "source": [
      "...as long as you follow the rule that once you pass an argument by keyword, you must pass all following arguments by keyword as well."
     ]
    },
    {
     "cell_type": "code",
     "collapsed": false,
     "input": [
      "def my_function(a, b, c):\n",
      "    print a, b, c\n",
      "\n",
      "my_function(1, b=2, 3)"
     ],
     "language": "python",
     "metadata": {},
     "outputs": [
      {
       "ename": "SyntaxError",
       "evalue": "non-keyword arg after keyword arg (<ipython-input-12-a44992a3e98f>, line 4)",
       "output_type": "pyerr",
       "traceback": [
        "\u001b[1;36m  File \u001b[1;32m\"<ipython-input-12-a44992a3e98f>\"\u001b[1;36m, line \u001b[1;32m4\u001b[0m\n\u001b[1;33m    my_function(1, b=2, 3)\u001b[0m\n\u001b[1;31mSyntaxError\u001b[0m\u001b[1;31m:\u001b[0m non-keyword arg after keyword arg\n"
       ]
      }
     ],
     "prompt_number": 12
    },
    {
     "cell_type": "markdown",
     "metadata": {},
     "source": [
      "This is very useful if you have a function that has a lot of default arguments, and you only want to call a few of them."
     ]
    },
    {
     "cell_type": "code",
     "collapsed": false,
     "input": [
      "def multi_print(a=1, b=2, c=3, d=4, e=5, f=6):\n",
      "    print a, b, c, d, e, f\n",
      "    \n",
      "multi_print(c='hello')"
     ],
     "language": "python",
     "metadata": {},
     "outputs": [
      {
       "output_type": "stream",
       "stream": "stdout",
       "text": [
        "1 2 hello 4 5 6\n"
       ]
      }
     ],
     "prompt_number": 14
    },
    {
     "cell_type": "markdown",
     "metadata": {},
     "source": [
      "What if you don't necessarily know how many arguments your function will take, but they are all of the same type?\n",
      "\n",
      "For instance let's write a function that can take an arbitrary number of numbers and sum them all.\n",
      "\n",
      "This uses a special argument option in Python, an asterisk followed by the word args (\\*args). This causes all normal positional arguments to be placed into a tuple named args."
     ]
    },
    {
     "cell_type": "code",
     "collapsed": false,
     "input": [
      "def sum(*args):\n",
      "    print type(args)\n",
      "    print args\n",
      "\n",
      "    if len(args)==0:\n",
      "        return None\n",
      "    for arg in args:\n",
      "        total += arg\n",
      "    return total\n",
      "\n",
      "x = sum(1,2,3)\n",
      "print 'x: {}'.format(x)"
     ],
     "language": "python",
     "metadata": {},
     "outputs": [
      {
       "ename": "UnboundLocalError",
       "evalue": "local variable 'total' referenced before assignment",
       "output_type": "pyerr",
       "traceback": [
        "\u001b[1;31m---------------------------------------------------------------------------\u001b[0m\n\u001b[1;31mUnboundLocalError\u001b[0m                         Traceback (most recent call last)",
        "\u001b[1;32m<ipython-input-20-4b74d0d320a7>\u001b[0m in \u001b[0;36m<module>\u001b[1;34m()\u001b[0m\n\u001b[0;32m      9\u001b[0m     \u001b[1;32mreturn\u001b[0m \u001b[0mtotal\u001b[0m\u001b[1;33m\u001b[0m\u001b[0m\n\u001b[0;32m     10\u001b[0m \u001b[1;33m\u001b[0m\u001b[0m\n\u001b[1;32m---> 11\u001b[1;33m \u001b[0mx\u001b[0m \u001b[1;33m=\u001b[0m \u001b[0msum\u001b[0m\u001b[1;33m(\u001b[0m\u001b[1;36m1\u001b[0m\u001b[1;33m,\u001b[0m\u001b[1;36m2\u001b[0m\u001b[1;33m,\u001b[0m\u001b[1;36m3\u001b[0m\u001b[1;33m)\u001b[0m\u001b[1;33m\u001b[0m\u001b[0m\n\u001b[0m\u001b[0;32m     12\u001b[0m \u001b[1;32mprint\u001b[0m \u001b[1;34m'x: {}'\u001b[0m\u001b[1;33m.\u001b[0m\u001b[0mformat\u001b[0m\u001b[1;33m(\u001b[0m\u001b[0mx\u001b[0m\u001b[1;33m)\u001b[0m\u001b[1;33m\u001b[0m\u001b[0m\n",
        "\u001b[1;32m<ipython-input-20-4b74d0d320a7>\u001b[0m in \u001b[0;36msum\u001b[1;34m(*args)\u001b[0m\n\u001b[0;32m      6\u001b[0m         \u001b[1;32mreturn\u001b[0m \u001b[0mNone\u001b[0m\u001b[1;33m\u001b[0m\u001b[0m\n\u001b[0;32m      7\u001b[0m     \u001b[1;32mfor\u001b[0m \u001b[0marg\u001b[0m \u001b[1;32min\u001b[0m \u001b[0margs\u001b[0m\u001b[1;33m:\u001b[0m\u001b[1;33m\u001b[0m\u001b[0m\n\u001b[1;32m----> 8\u001b[1;33m         \u001b[0mtotal\u001b[0m \u001b[1;33m+=\u001b[0m \u001b[0marg\u001b[0m\u001b[1;33m\u001b[0m\u001b[0m\n\u001b[0m\u001b[0;32m      9\u001b[0m     \u001b[1;32mreturn\u001b[0m \u001b[0mtotal\u001b[0m\u001b[1;33m\u001b[0m\u001b[0m\n\u001b[0;32m     10\u001b[0m \u001b[1;33m\u001b[0m\u001b[0m\n",
        "\u001b[1;31mUnboundLocalError\u001b[0m: local variable 'total' referenced before assignment"
       ]
      },
      {
       "output_type": "stream",
       "stream": "stdout",
       "text": [
        "<type 'tuple'>\n",
        "(1, 2, 3)\n"
       ]
      }
     ],
     "prompt_number": 20
    },
    {
     "cell_type": "markdown",
     "metadata": {},
     "source": [
      "This can also be used with regular named arguments, as long as \\*args is placed after all named arguments, it will collect all subsequent positional arguments."
     ]
    },
    {
     "cell_type": "code",
     "collapsed": false,
     "input": [
      "def my_function(a, *args):\n",
      "    print a\n",
      "    print args\n",
      "    \n",
      "my_function(1,2,3,4)"
     ],
     "language": "python",
     "metadata": {},
     "outputs": [
      {
       "output_type": "stream",
       "stream": "stdout",
       "text": [
        "1\n",
        "(2, 3, 4)\n"
       ]
      }
     ],
     "prompt_number": 21
    },
    {
     "cell_type": "markdown",
     "metadata": {},
     "source": [
      "Similarly, you can assign \\*\\*kwargs as a variable and it will accept any extra keyword arguments and place them in the dictionary *kwargs*. This must be placed after any named arguments, as well as after an \\*args, if it exists."
     ]
    },
    {
     "cell_type": "code",
     "collapsed": false,
     "input": [
      "def my_function(*args, **kwargs):\n",
      "    print args\n",
      "    print kwargs\n",
      "    \n",
      "my_function(1, 2, 3, a='a', b='b', c='c')"
     ],
     "language": "python",
     "metadata": {},
     "outputs": [
      {
       "output_type": "stream",
       "stream": "stdout",
       "text": [
        "(1, 2, 3)\n",
        "{'a': 'a', 'c': 'c', 'b': 'b'}\n"
       ]
      }
     ],
     "prompt_number": 22
    },
    {
     "cell_type": "heading",
     "level": 1,
     "metadata": {},
     "source": [
      "Classes"
     ]
    },
    {
     "cell_type": "markdown",
     "metadata": {},
     "source": [
      "Another element of Python that you have had exposure to is objects. \n",
      "\n",
      "Objects are the basis of a paradigm of programming known as Object Oriented Programming (OOP). Different languages encourage OOP to different extents, some like Java almost require everything to be OOP, some provide you the tools but do not require you to utilize them (C++, Python, Scala) and some use very different paradigms (Haskell, SQL, ActionScript) \n",
      "\n",
      "You may be able to do almost everything you might want to do in Python without making your own objects, but you have already used them, and will probably need to know more about how they work to take advantage of most libraries.\n",
      "\n",
      "In OOP concepts are represented as \"objects\", essentially a container, a machine, that holds both data (variables) as well as methods of working with that data (functions). Objects are an **instance** of a **class**. A class defines all of the variable names that an object can hold, as well as what functions it will have.\n",
      "\n",
      "Let's start by examining an object that we have already used."
     ]
    },
    {
     "cell_type": "code",
     "collapsed": false,
     "input": [
      "x = 3\n",
      "\n",
      "dir(x)"
     ],
     "language": "python",
     "metadata": {},
     "outputs": [
      {
       "metadata": {},
       "output_type": "pyout",
       "prompt_number": 24,
       "text": [
        "['__abs__',\n",
        " '__add__',\n",
        " '__and__',\n",
        " '__class__',\n",
        " '__cmp__',\n",
        " '__coerce__',\n",
        " '__delattr__',\n",
        " '__div__',\n",
        " '__divmod__',\n",
        " '__doc__',\n",
        " '__float__',\n",
        " '__floordiv__',\n",
        " '__format__',\n",
        " '__getattribute__',\n",
        " '__getnewargs__',\n",
        " '__hash__',\n",
        " '__hex__',\n",
        " '__index__',\n",
        " '__init__',\n",
        " '__int__',\n",
        " '__invert__',\n",
        " '__long__',\n",
        " '__lshift__',\n",
        " '__mod__',\n",
        " '__mul__',\n",
        " '__neg__',\n",
        " '__new__',\n",
        " '__nonzero__',\n",
        " '__oct__',\n",
        " '__or__',\n",
        " '__pos__',\n",
        " '__pow__',\n",
        " '__radd__',\n",
        " '__rand__',\n",
        " '__rdiv__',\n",
        " '__rdivmod__',\n",
        " '__reduce__',\n",
        " '__reduce_ex__',\n",
        " '__repr__',\n",
        " '__rfloordiv__',\n",
        " '__rlshift__',\n",
        " '__rmod__',\n",
        " '__rmul__',\n",
        " '__ror__',\n",
        " '__rpow__',\n",
        " '__rrshift__',\n",
        " '__rshift__',\n",
        " '__rsub__',\n",
        " '__rtruediv__',\n",
        " '__rxor__',\n",
        " '__setattr__',\n",
        " '__sizeof__',\n",
        " '__str__',\n",
        " '__sub__',\n",
        " '__subclasshook__',\n",
        " '__truediv__',\n",
        " '__trunc__',\n",
        " '__xor__',\n",
        " 'bit_length',\n",
        " 'conjugate',\n",
        " 'denominator',\n",
        " 'imag',\n",
        " 'numerator',\n",
        " 'real']"
       ]
      }
     ],
     "prompt_number": 24
    },
    {
     "cell_type": "markdown",
     "metadata": {},
     "source": [
      "The dir() function lists all of the attributes and methods for an object. \n",
      "\n",
      "A string is an example of an object that contains only one piece of data, the string content itself, with a great many functions that can operate on that single piece of data. \n",
      "\n",
      "An object is a unique instance of the class. We can make two strings that contain the exact same information, but are different objects. You will notice that if you assign an existing object to a new variable name, it does not create a new copy of that object, simply gives you a new reference to that same object."
     ]
    },
    {
     "cell_type": "code",
     "collapsed": false,
     "input": [
      "x = \"This is a test\"\n",
      "y = \"This is a test\"\n",
      "z = y\n",
      "\n",
      "print id(x)\n",
      "print id(y)\n",
      "print id(z)"
     ],
     "language": "python",
     "metadata": {},
     "outputs": [
      {
       "output_type": "stream",
       "stream": "stdout",
       "text": [
        "91716080\n",
        "91716272\n",
        "91716272\n"
       ]
      }
     ],
     "prompt_number": 27
    },
    {
     "cell_type": "markdown",
     "metadata": {},
     "source": [
      "When you call a function that is part of an object, it will usually use some information embedded in the object itself when it returns a value or performs a task. Let's take a look at another example of a simple object we have used, in this case an integer. Integers contain two important variables, a real part and an imaginary part, which we can access directly from the object, as well as some functions we can call directly."
     ]
    },
    {
     "cell_type": "code",
     "collapsed": false,
     "input": [
      "x = 30\n",
      "\n",
      "print x.real\n",
      "print x.imag\n",
      "\n",
      "print x.bit_length()"
     ],
     "language": "python",
     "metadata": {},
     "outputs": [
      {
       "output_type": "stream",
       "stream": "stdout",
       "text": [
        "30\n",
        "0\n",
        "5\n"
       ]
      }
     ],
     "prompt_number": 28
    },
    {
     "cell_type": "code",
     "collapsed": false,
     "input": [
      "help(x.bit_length)"
     ],
     "language": "python",
     "metadata": {},
     "outputs": [
      {
       "output_type": "stream",
       "stream": "stdout",
       "text": [
        "Help on built-in function bit_length:\n",
        "\n",
        "bit_length(...)\n",
        "    int.bit_length() -> int\n",
        "    \n",
        "    Number of bits necessary to represent self in binary.\n",
        "    >>> bin(37)\n",
        "    '0b100101'\n",
        "    >>> (37).bit_length()\n",
        "    6\n",
        "\n"
       ]
      }
     ],
     "prompt_number": 29
    },
    {
     "cell_type": "markdown",
     "metadata": {},
     "source": [
      "You might have noticed that most of the variables or methods in these objects start and end with two underscores. This is a naming convention in Python used internally in the design of a class. Usually this means you can safely ignore them and shouldn't touch them unless you know what you are doing with them.\n",
      "\n"
     ]
    },
    {
     "cell_type": "markdown",
     "metadata": {},
     "source": [
      "The topic of OOP in Python is very large and well beyond the scope of this class period, but a very brief overview of how they are constructed might be helpful. A minimal object is made like this:"
     ]
    },
    {
     "cell_type": "code",
     "collapsed": false,
     "input": [
      "class my_class:\n",
      "    x = \"my variable\"\n",
      "\n",
      "my_object = my_class()\n",
      "print my_object\n",
      "\n",
      "print my_object.x"
     ],
     "language": "python",
     "metadata": {},
     "outputs": [
      {
       "output_type": "stream",
       "stream": "stdout",
       "text": [
        "<__main__.my_class instance at 0x0000000005735888>\n",
        "my variable\n"
       ]
      }
     ],
     "prompt_number": 30
    },
    {
     "cell_type": "markdown",
     "metadata": {},
     "source": [
      "The **class** keyword is used similarly to the **def** keyword, followed by the class name and a colon, and the code block. \n",
      "\n",
      "An object with only variable doesn't seem much more useful than a dictionary (in fact it is mostly just a dictionary with a few extra object-specific functions). Let's add some methods"
     ]
    },
    {
     "cell_type": "code",
     "collapsed": false,
     "input": [
      "class my_class:\n",
      "    x = \"my variable\"\n",
      "    \n",
      "    def return_x():\n",
      "        return x\n",
      "    \n",
      "my_object = my_class()\n",
      "\n",
      "my_object.return_x()\n"
     ],
     "language": "python",
     "metadata": {},
     "outputs": [
      {
       "ename": "TypeError",
       "evalue": "return_x() takes no arguments (1 given)",
       "output_type": "pyerr",
       "traceback": [
        "\u001b[1;31m---------------------------------------------------------------------------\u001b[0m\n\u001b[1;31mTypeError\u001b[0m                                 Traceback (most recent call last)",
        "\u001b[1;32m<ipython-input-31-309755cebd35>\u001b[0m in \u001b[0;36m<module>\u001b[1;34m()\u001b[0m\n\u001b[0;32m      7\u001b[0m \u001b[0mmy_object\u001b[0m \u001b[1;33m=\u001b[0m \u001b[0mmy_class\u001b[0m\u001b[1;33m(\u001b[0m\u001b[1;33m)\u001b[0m\u001b[1;33m\u001b[0m\u001b[0m\n\u001b[0;32m      8\u001b[0m \u001b[1;33m\u001b[0m\u001b[0m\n\u001b[1;32m----> 9\u001b[1;33m \u001b[0mmy_object\u001b[0m\u001b[1;33m.\u001b[0m\u001b[0mreturn_x\u001b[0m\u001b[1;33m(\u001b[0m\u001b[1;33m)\u001b[0m\u001b[1;33m\u001b[0m\u001b[0m\n\u001b[0m",
        "\u001b[1;31mTypeError\u001b[0m: return_x() takes no arguments (1 given)"
       ]
      }
     ],
     "prompt_number": 31
    },
    {
     "cell_type": "markdown",
     "metadata": {},
     "source": [
      "Well what happened here? We called return_x() with no arguments, because we didn't design it with any arguments.\n",
      "\n",
      "This illustrates sort of an architectural design of Python. Because functions don't need to be replicated for each object like variables are, they are stored as a part of the class itself once. But because there might be more than one object of any given class, those methods need to know which one to operate on.\n",
      "\n",
      "The solution to this problem is that whenever you call an object method, Python passes an instance of that object as the first argument. The error above is because we did not provide the function an argument name with which to accept that object reference."
     ]
    },
    {
     "cell_type": "code",
     "collapsed": false,
     "input": [
      "class Person:\n",
      "    def __init__(self, name):\n",
      "        self.name = name\n",
      "    \n",
      "    def say_hello(self):\n",
      "        print \"My Name is %s\" % self.name \n",
      "\n",
      "    \n",
      "teacher = Person(\"Jonathan\")\n",
      "\n",
      "teacher.say_hello()"
     ],
     "language": "python",
     "metadata": {},
     "outputs": [
      {
       "output_type": "stream",
       "stream": "stdout",
       "text": [
        "My Name is Jonathan\n"
       ]
      }
     ],
     "prompt_number": 36
    },
    {
     "cell_type": "markdown",
     "metadata": {},
     "source": [
      "Objects are usually used to hold some information that we want to provide it when we make a new object. In order to let our objects accept a variable at instantiation, we give it an initialization function. This is one of those special internal functions that we saw above that you never need to directly call. This can be defined just like a normal method function, with any number of arguments, except that it is called directly when you create a new instance of the class."
     ]
    },
    {
     "cell_type": "code",
     "collapsed": false,
     "input": [
      "class my_class:\n",
      "    \n",
      "    def __init__(self, my_variable):\n",
      "        print \"initializing\"\n",
      "        self.x = my_variable\n",
      "    \n",
      "    def return_x(self):\n",
      "        print \"returning\"\n",
      "        return self.x  # Now the self variable contains a reference to the instance \n",
      "                       # of my_class that called return_x\n",
      "    \n",
      "my_object = my_class(my_variable=\"test\")\n",
      "\n",
      "print my_object.return_x()\n"
     ],
     "language": "python",
     "metadata": {},
     "outputs": [
      {
       "output_type": "stream",
       "stream": "stdout",
       "text": [
        "initializing\n",
        "returning\n",
        "test\n"
       ]
      }
     ],
     "prompt_number": 35
    },
    {
     "cell_type": "heading",
     "level": 1,
     "metadata": {},
     "source": [
      "BioPython"
     ]
    },
    {
     "cell_type": "heading",
     "level": 2,
     "metadata": {},
     "source": [
      "Sequences"
     ]
    },
    {
     "cell_type": "markdown",
     "metadata": {},
     "source": [
      "Now that you know a little bit more about functions and object oriented programming, let's look at a very useful Python library called BioPython that makes extensive use of objects."
     ]
    },
    {
     "cell_type": "markdown",
     "metadata": {},
     "source": [
      "A couple times so far we have represented DNA sequences in the form of strings containing A, T, G, and C. This does contain the information needed to define a given 5'-3' DNA sequence, but the built-in string methods are lacking when it comes to the sort of basic functions you might want to do with DNA."
     ]
    },
    {
     "cell_type": "code",
     "collapsed": false,
     "input": [
      "from Bio import Seq\n",
      "\n",
      "my_seq = Seq.Seq('AGTACACTGGT')\n",
      "print repr(my_seq)"
     ],
     "language": "python",
     "metadata": {},
     "outputs": [
      {
       "output_type": "stream",
       "stream": "stdout",
       "text": [
        "Seq('AGTACACTGGT', Alphabet())\n"
       ]
      }
     ],
     "prompt_number": 37
    },
    {
     "cell_type": "markdown",
     "metadata": {},
     "source": [
      "What we did here was create a new object, an instance of the **Seq** class. Just examining the object we can see that in addition to holding the sequence, it contains at least on additional piece of information, an alphabet. This is useful because biological sequences come in more than flavor, there are RNA and DNA which share most of a language but with slightly different alphabets, and there are proteins with very different rules and alphabet. In this case because we didn't give it any information, it doesn't have any way to know that it is DNA, so it uses a generic alphabet object."
     ]
    },
    {
     "cell_type": "code",
     "collapsed": false,
     "input": [
      "from Bio.Alphabet import IUPAC\n",
      "from Bio.Seq import Seq\n",
      "\n",
      "my_seq = Seq('AGTACACTGGT', IUPAC.unambiguous_dna)\n",
      "print repr(my_seq)"
     ],
     "language": "python",
     "metadata": {},
     "outputs": [
      {
       "output_type": "stream",
       "stream": "stdout",
       "text": [
        "Seq('AGTACACTGGT', IUPACUnambiguousDNA())\n"
       ]
      }
     ],
     "prompt_number": 38
    },
    {
     "cell_type": "markdown",
     "metadata": {},
     "source": [
      "But that sequence could just as easily be a rather strange peptide...\n"
     ]
    },
    {
     "cell_type": "code",
     "collapsed": false,
     "input": [
      "from Bio.Alphabet import IUPAC\n",
      "from Bio.Seq import Seq\n",
      "\n",
      "my_seq = Seq('AGTACACTGGT', IUPAC.protein)\n",
      "print repr(my_seq)"
     ],
     "language": "python",
     "metadata": {},
     "outputs": [
      {
       "output_type": "stream",
       "stream": "stdout",
       "text": [
        "Seq('AGTACACTGGT', IUPACProtein())\n"
       ]
      }
     ],
     "prompt_number": 39
    },
    {
     "cell_type": "markdown",
     "metadata": {},
     "source": [
      "Sequences are kind of like strings, you can index and sequence. As I was typing this up I realized that indexing and slicing a Seq returns two different types. Why might this be?"
     ]
    },
    {
     "cell_type": "code",
     "collapsed": false,
     "input": [
      "my_seq = Seq('AGTACACTGGT', IUPAC.unambiguous_dna)\n",
      "print my_seq[0], type(my_seq[0])\n",
      "print my_seq[1:4], type(my_seq[1:4])\n",
      "print my_seq.count('G')"
     ],
     "language": "python",
     "metadata": {},
     "outputs": [
      {
       "output_type": "stream",
       "stream": "stdout",
       "text": [
        "A <type 'str'>\n",
        "GTA <class 'Bio.Seq.Seq'>\n",
        "3\n"
       ]
      }
     ],
     "prompt_number": 40
    },
    {
     "cell_type": "markdown",
     "metadata": {},
     "source": [
      "If you want to convert a Seq back into a normal string that is easy enough"
     ]
    },
    {
     "cell_type": "code",
     "collapsed": false,
     "input": [
      "print my_seq.tostring()\n",
      "print str(my_seq) #recommended with current BioPython"
     ],
     "language": "python",
     "metadata": {},
     "outputs": [
      {
       "output_type": "stream",
       "stream": "stdout",
       "text": [
        "AGTACACTGGT\n",
        "AGTACACTGGT\n"
       ]
      }
     ],
     "prompt_number": 41
    },
    {
     "cell_type": "markdown",
     "metadata": {},
     "source": [
      "You can concatenate sequences just like strings, as long as they are a compatible alphabet!"
     ]
    },
    {
     "cell_type": "code",
     "collapsed": false,
     "input": [
      "my_nt_seq = Seq('AGTACACTGGT', IUPAC.unambiguous_dna)\n",
      "my_prot_seq = Seq('AGTACACTGGT', IUPAC.protein)\n",
      "\n",
      "print my_nt_seq+my_nt_seq #works\n",
      "print my_nt_seq+my_prot_seq #doesn't work"
     ],
     "language": "python",
     "metadata": {},
     "outputs": [
      {
       "ename": "TypeError",
       "evalue": "Incompatible alphabets IUPACUnambiguousDNA() and IUPACProtein()",
       "output_type": "pyerr",
       "traceback": [
        "\u001b[1;31m---------------------------------------------------------------------------\u001b[0m\n\u001b[1;31mTypeError\u001b[0m                                 Traceback (most recent call last)",
        "\u001b[1;32m<ipython-input-44-adf733327fc4>\u001b[0m in \u001b[0;36m<module>\u001b[1;34m()\u001b[0m\n\u001b[0;32m      3\u001b[0m \u001b[1;33m\u001b[0m\u001b[0m\n\u001b[0;32m      4\u001b[0m \u001b[1;32mprint\u001b[0m \u001b[0mmy_nt_seq\u001b[0m\u001b[1;33m+\u001b[0m\u001b[0mmy_nt_seq\u001b[0m \u001b[1;31m#works\u001b[0m\u001b[1;33m\u001b[0m\u001b[0m\n\u001b[1;32m----> 5\u001b[1;33m \u001b[1;32mprint\u001b[0m \u001b[0mmy_nt_seq\u001b[0m\u001b[1;33m+\u001b[0m\u001b[0mmy_prot_seq\u001b[0m \u001b[1;31m#doesn't work\u001b[0m\u001b[1;33m\u001b[0m\u001b[0m\n\u001b[0m",
        "\u001b[1;32mC:\\Anaconda\\lib\\site-packages\\Bio\\Seq.pyc\u001b[0m in \u001b[0;36m__add__\u001b[1;34m(self, other)\u001b[0m\n\u001b[0;32m    239\u001b[0m                                                     other.alphabet]):\n\u001b[0;32m    240\u001b[0m                 raise TypeError(\"Incompatible alphabets %s and %s\"\n\u001b[1;32m--> 241\u001b[1;33m                                 % (repr(self.alphabet), repr(other.alphabet)))\n\u001b[0m\u001b[0;32m    242\u001b[0m             \u001b[1;31m#They should be the same sequence type (or one of them is generic)\u001b[0m\u001b[1;33m\u001b[0m\u001b[1;33m\u001b[0m\u001b[0m\n\u001b[0;32m    243\u001b[0m             \u001b[0ma\u001b[0m \u001b[1;33m=\u001b[0m \u001b[0mAlphabet\u001b[0m\u001b[1;33m.\u001b[0m\u001b[0m_consensus_alphabet\u001b[0m\u001b[1;33m(\u001b[0m\u001b[1;33m[\u001b[0m\u001b[0mself\u001b[0m\u001b[1;33m.\u001b[0m\u001b[0malphabet\u001b[0m\u001b[1;33m,\u001b[0m \u001b[0mother\u001b[0m\u001b[1;33m.\u001b[0m\u001b[0malphabet\u001b[0m\u001b[1;33m]\u001b[0m\u001b[1;33m)\u001b[0m\u001b[1;33m\u001b[0m\u001b[0m\n",
        "\u001b[1;31mTypeError\u001b[0m: Incompatible alphabets IUPACUnambiguousDNA() and IUPACProtein()"
       ]
      },
      {
       "output_type": "stream",
       "stream": "stdout",
       "text": [
        "AGTACACTGGTAGTACACTGGT\n"
       ]
      }
     ],
     "prompt_number": 44
    },
    {
     "cell_type": "markdown",
     "metadata": {},
     "source": [
      "You can (reverse) complement nucleotide sequences"
     ]
    },
    {
     "cell_type": "code",
     "collapsed": false,
     "input": [
      "my_nt_seq = Seq('GATCGATGGGCCTATATAGGATCGAAAATCGC', IUPAC.unambiguous_dna)\n",
      "print my_nt_seq\n",
      "print my_nt_seq.reverse_complement()"
     ],
     "language": "python",
     "metadata": {},
     "outputs": [
      {
       "output_type": "stream",
       "stream": "stdout",
       "text": [
        "GATCGATGGGCCTATATAGGATCGAAAATCGC\n",
        "GCGATTTTCGATCCTATATAGGCCCATCGATC\n"
       ]
      }
     ],
     "prompt_number": 45
    },
    {
     "cell_type": "code",
     "collapsed": false,
     "input": [
      "my_prot_seq.reverse_complement()"
     ],
     "language": "python",
     "metadata": {},
     "outputs": [
      {
       "ename": "ValueError",
       "evalue": "Proteins do not have complements!",
       "output_type": "pyerr",
       "traceback": [
        "\u001b[1;31m---------------------------------------------------------------------------\u001b[0m\n\u001b[1;31mValueError\u001b[0m                                Traceback (most recent call last)",
        "\u001b[1;32m<ipython-input-46-ab3cca351499>\u001b[0m in \u001b[0;36m<module>\u001b[1;34m()\u001b[0m\n\u001b[1;32m----> 1\u001b[1;33m \u001b[0mmy_prot_seq\u001b[0m\u001b[1;33m.\u001b[0m\u001b[0mreverse_complement\u001b[0m\u001b[1;33m(\u001b[0m\u001b[1;33m)\u001b[0m\u001b[1;33m\u001b[0m\u001b[0m\n\u001b[0m",
        "\u001b[1;32mC:\\Anaconda\\lib\\site-packages\\Bio\\Seq.pyc\u001b[0m in \u001b[0;36mreverse_complement\u001b[1;34m(self)\u001b[0m\n\u001b[0;32m    759\u001b[0m         \"\"\"\n\u001b[0;32m    760\u001b[0m         \u001b[1;31m#Use -1 stride/step to reverse the complement\u001b[0m\u001b[1;33m\u001b[0m\u001b[1;33m\u001b[0m\u001b[0m\n\u001b[1;32m--> 761\u001b[1;33m         \u001b[1;32mreturn\u001b[0m \u001b[0mself\u001b[0m\u001b[1;33m.\u001b[0m\u001b[0mcomplement\u001b[0m\u001b[1;33m(\u001b[0m\u001b[1;33m)\u001b[0m\u001b[1;33m[\u001b[0m\u001b[1;33m:\u001b[0m\u001b[1;33m:\u001b[0m\u001b[1;33m-\u001b[0m\u001b[1;36m1\u001b[0m\u001b[1;33m]\u001b[0m\u001b[1;33m\u001b[0m\u001b[0m\n\u001b[0m\u001b[0;32m    762\u001b[0m \u001b[1;33m\u001b[0m\u001b[0m\n\u001b[0;32m    763\u001b[0m     \u001b[1;32mdef\u001b[0m \u001b[0mtranscribe\u001b[0m\u001b[1;33m(\u001b[0m\u001b[0mself\u001b[0m\u001b[1;33m)\u001b[0m\u001b[1;33m:\u001b[0m\u001b[1;33m\u001b[0m\u001b[0m\n",
        "\u001b[1;32mC:\\Anaconda\\lib\\site-packages\\Bio\\Seq.pyc\u001b[0m in \u001b[0;36mcomplement\u001b[1;34m(self)\u001b[0m\n\u001b[0;32m    709\u001b[0m         \u001b[0mbase\u001b[0m \u001b[1;33m=\u001b[0m \u001b[0mAlphabet\u001b[0m\u001b[1;33m.\u001b[0m\u001b[0m_get_base_alphabet\u001b[0m\u001b[1;33m(\u001b[0m\u001b[0mself\u001b[0m\u001b[1;33m.\u001b[0m\u001b[0malphabet\u001b[0m\u001b[1;33m)\u001b[0m\u001b[1;33m\u001b[0m\u001b[0m\n\u001b[0;32m    710\u001b[0m         \u001b[1;32mif\u001b[0m \u001b[0misinstance\u001b[0m\u001b[1;33m(\u001b[0m\u001b[0mbase\u001b[0m\u001b[1;33m,\u001b[0m \u001b[0mAlphabet\u001b[0m\u001b[1;33m.\u001b[0m\u001b[0mProteinAlphabet\u001b[0m\u001b[1;33m)\u001b[0m\u001b[1;33m:\u001b[0m\u001b[1;33m\u001b[0m\u001b[0m\n\u001b[1;32m--> 711\u001b[1;33m             \u001b[1;32mraise\u001b[0m \u001b[0mValueError\u001b[0m\u001b[1;33m(\u001b[0m\u001b[1;34m\"Proteins do not have complements!\"\u001b[0m\u001b[1;33m)\u001b[0m\u001b[1;33m\u001b[0m\u001b[0m\n\u001b[0m\u001b[0;32m    712\u001b[0m         \u001b[1;32mif\u001b[0m \u001b[0misinstance\u001b[0m\u001b[1;33m(\u001b[0m\u001b[0mbase\u001b[0m\u001b[1;33m,\u001b[0m \u001b[0mAlphabet\u001b[0m\u001b[1;33m.\u001b[0m\u001b[0mDNAAlphabet\u001b[0m\u001b[1;33m)\u001b[0m\u001b[1;33m:\u001b[0m\u001b[1;33m\u001b[0m\u001b[0m\n\u001b[0;32m    713\u001b[0m             \u001b[0mttable\u001b[0m \u001b[1;33m=\u001b[0m \u001b[0m_dna_complement_table\u001b[0m\u001b[1;33m\u001b[0m\u001b[0m\n",
        "\u001b[1;31mValueError\u001b[0m: Proteins do not have complements!"
       ]
      }
     ],
     "prompt_number": 46
    },
    {
     "cell_type": "markdown",
     "metadata": {},
     "source": [
      "Transcription"
     ]
    },
    {
     "cell_type": "code",
     "collapsed": false,
     "input": [
      "my_nt_seq = Seq('ATTGCGATGGCGCCGTATACCCATAACATGGCGAGCACCGAACGCTAA', IUPAC.unambiguous_dna)\n",
      "print repr(my_nt_seq.transcribe())"
     ],
     "language": "python",
     "metadata": {},
     "outputs": [
      {
       "output_type": "stream",
       "stream": "stdout",
       "text": [
        "Seq('AUUGCGAUGGCGCCGUAUACCCAUAACAUGGCGAGCACCGAACGCUAA', IUPACUnambiguousRNA())\n"
       ]
      }
     ],
     "prompt_number": 48
    },
    {
     "cell_type": "markdown",
     "metadata": {},
     "source": [
      "Translation!"
     ]
    },
    {
     "cell_type": "code",
     "collapsed": false,
     "input": [
      "my_nt_seq = Seq('ATTGCGATGGCGCCGTATACCCATAACATGGCGAGCACCGAACGCTAA', IUPAC.unambiguous_dna)\n",
      "print my_nt_seq..translate()\n",
      "print my_nt_seq[1:].translate()\n",
      "print my_nt_seq[2:].translate()\n"
     ],
     "language": "python",
     "metadata": {},
     "outputs": [
      {
       "output_type": "stream",
       "stream": "stdout",
       "text": [
        "IAMAPYTHNMASTER*\n",
        "LRWRRIPITWRAPNA\n",
        "CDGAVYP*HGEHRTL\n"
       ]
      }
     ],
     "prompt_number": 55
    },
    {
     "cell_type": "code",
     "collapsed": false,
     "input": [
      "print my_nt_seq.translate"
     ],
     "language": "python",
     "metadata": {},
     "outputs": [
      {
       "output_type": "stream",
       "stream": "stdout",
       "text": [
        "<bound method Seq.translate of Seq('ATTGCGATGGCGCCGTATACCCATAACATGGCGAGCACCGAACGCTAA', IUPACUnambiguousDNA())>\n"
       ]
      }
     ],
     "prompt_number": 56
    },
    {
     "cell_type": "heading",
     "level": 2,
     "metadata": {},
     "source": [
      "Sequence annotation"
     ]
    },
    {
     "cell_type": "markdown",
     "metadata": {},
     "source": [
      "There is a lot more to using information from databases like NCBI than manipulating raw sequence information. There is an incredible amount of annotation for many sequences, from whole genomes to indiviudual domains in a gene. BioPython includes objects designed to make dealing with annotation easy. "
     ]
    },
    {
     "cell_type": "markdown",
     "metadata": {},
     "source": [
      "A **SeqRecord** is an object designed to hold both sequence information in the form of a **Seq** object, as well as annotation information about what that sequence actually is and does."
     ]
    },
    {
     "cell_type": "code",
     "collapsed": false,
     "input": [
      "from Bio.Seq import Seq\n",
      "simple_seq = Seq(\"GATC\")\n",
      "from Bio.SeqRecord import SeqRecord\n",
      "simple_seq_r = SeqRecord(simple_seq)\n",
      "\n",
      "print simple_seq_r"
     ],
     "language": "python",
     "metadata": {},
     "outputs": [
      {
       "output_type": "stream",
       "stream": "stdout",
       "text": [
        "ID: <unknown id>\n",
        "Name: <unknown name>\n",
        "Description: <unknown description>\n",
        "Number of features: 0\n",
        "Seq('GATC', Alphabet())\n"
       ]
      }
     ],
     "prompt_number": 58
    },
    {
     "cell_type": "markdown",
     "metadata": {},
     "source": [
      "As you can see these **SeqRecords**s contain a lot more information than a bare **Seq** object. We can pass additional information directly during the construction of the record, or we can set it later."
     ]
    },
    {
     "cell_type": "code",
     "collapsed": false,
     "input": [
      "simple_seq_r.id = 'AC12345'\n",
      "simple_seq_r.name = \"The Best Sequence\"\n",
      "simple_seq_r.description = \"This is a very nice sequence that I made up\"\n",
      "print simple_seq_r"
     ],
     "language": "python",
     "metadata": {},
     "outputs": [
      {
       "output_type": "stream",
       "stream": "stdout",
       "text": [
        "ID: AC12345\n",
        "Name: The Best Sequence\n",
        "Description: This is a very nice sequence that I made up\n",
        "Number of features: 0\n",
        "Seq('GATC', Alphabet())\n"
       ]
      }
     ],
     "prompt_number": 59
    },
    {
     "cell_type": "markdown",
     "metadata": {},
     "source": [
      "If a SeqRecord needs to contain more annotation than fits in the fields described directly by the SeqRecord class, that information can be put into the **annotations** dictionary field of the SeqRecord."
     ]
    },
    {
     "cell_type": "code",
     "collapsed": false,
     "input": [
      "simple_seq_r.annotations['evidence'] = \"None at all, I just made it up\"\n",
      "print simple_seq_r"
     ],
     "language": "python",
     "metadata": {},
     "outputs": [
      {
       "output_type": "stream",
       "stream": "stdout",
       "text": [
        "ID: AC12345\n",
        "Name: The Best Sequence\n",
        "Description: This is a very nice sequence that I made up\n",
        "Number of features: 0\n",
        "/evidence=None at all, I just made it up\n",
        "Seq('GATC', Alphabet())\n"
       ]
      }
     ],
     "prompt_number": 60
    },
    {
     "cell_type": "markdown",
     "metadata": {},
     "source": [
      "One of the most useful features of BioPython is the ability to directly import many standard types of sequence and annotation files and automatically parse them into these **SeqRecord** objects. Most of this functionality is placed into the **SeqIO** class."
     ]
    },
    {
     "cell_type": "code",
     "collapsed": false,
     "input": [
      "from Bio import SeqIO\n",
      "record = SeqIO.read('kinD.fasta', 'fasta')\n",
      "print record"
     ],
     "language": "python",
     "metadata": {},
     "outputs": [
      {
       "output_type": "stream",
       "stream": "stdout",
       "text": [
        "ID: gi|255767013:c1433006-1431486\n",
        "Name: gi|255767013:c1433006-1431486\n",
        "Description: gi|255767013:c1433006-1431486 Bacillus subtilis subsp. subtilis str. 168 chromosome, complete genome\n",
        "Number of features: 0\n",
        "Seq('ATGTTGGAGCGATGCAAATTGAAAATACTAAAAGGCGCCTGCGGGAGAGTCAAA...TAG', SingleLetterAlphabet())\n"
       ]
      }
     ],
     "prompt_number": 63
    },
    {
     "cell_type": "markdown",
     "metadata": {},
     "source": [
      "This **SeqRecord** will automatically be populated with all of the annotation present in the file, which in the case of FASTA is not very much. It will automatically create empty placeholders for "
     ]
    },
    {
     "cell_type": "code",
     "collapsed": false,
     "input": [
      "print record.id\n",
      "print record.description\n",
      "print record.annotations\n",
      "print record.features"
     ],
     "language": "python",
     "metadata": {},
     "outputs": [
      {
       "output_type": "stream",
       "stream": "stdout",
       "text": [
        "gi|255767013:c1433006-1431486\n",
        "gi|255767013:c1433006-1431486 Bacillus subtilis subsp. subtilis str. 168 chromosome, complete genome\n",
        "{}\n",
        "[]\n"
       ]
      }
     ],
     "prompt_number": 64
    },
    {
     "cell_type": "markdown",
     "metadata": {},
     "source": [
      "Another useful file type, the one that I almost always choose to use, is the GenBank file format heavily used by NCBI. SeqIO works very well with these files."
     ]
    },
    {
     "cell_type": "code",
     "collapsed": false,
     "input": [
      "yp_plasmid = SeqIO.read('NC_005816.1.gb', 'gb')\n",
      "print yp_plasmid"
     ],
     "language": "python",
     "metadata": {},
     "outputs": [
      {
       "output_type": "stream",
       "stream": "stdout",
       "text": [
        "ID: NC_005816.1\n",
        "Name: NC_005816\n",
        "Description: Yersinia pestis biovar Microtus str. 91001 plasmid pPCP1, complete sequence.\n",
        "Database cross-references: Project:58037 BioProject:PRJNA58037\n",
        "Number of features: 29\n",
        "/comment=PROVISIONAL REFSEQ: This record has not yet been subject to final\n",
        "NCBI review. The reference sequence was derived from AE017046.\n",
        "COMPLETENESS: full length.\n",
        "/sequence_version=1\n",
        "/source=Yersinia pestis biovar Microtus str. 91001\n",
        "/taxonomy=['Bacteria', 'Proteobacteria', 'Gammaproteobacteria', 'Enterobacteriales', 'Enterobacteriaceae', 'Yersinia']\n",
        "/keywords=['RefSeq']\n",
        "/references=[Reference(title='Genetics of metabolic variations between Yersinia pestis biovars and the proposal of a new biovar, microtus', ...), Reference(title='Complete genome sequence of Yersinia pestis strain 91001, an isolate avirulent to humans', ...), Reference(title='Direct Submission', ...), Reference(title='Direct Submission', ...)]\n",
        "/accessions=['NC_005816']\n",
        "/data_file_division=CON\n",
        "/date=23-MAY-2013\n",
        "/organism=Yersinia pestis biovar Microtus str. 91001\n",
        "/gi=45478711\n",
        "Seq('TGTAACGAACGGTGCAATAGTGATCCACACCCAACGCCTGAAATCAGATCCAGG...CTG', IUPACAmbiguousDNA())\n"
       ]
      }
     ],
     "prompt_number": 65
    },
    {
     "cell_type": "code",
     "collapsed": false,
     "input": [
      "yp_plasmid.seq"
     ],
     "language": "python",
     "metadata": {},
     "outputs": [
      {
       "metadata": {},
       "output_type": "pyout",
       "prompt_number": 67,
       "text": [
        "Seq('TGTAACGAACGGTGCAATAGTGATCCACACCCAACGCCTGAAATCAGATCCAGG...CTG', IUPACAmbiguousDNA())"
       ]
      }
     ],
     "prompt_number": 67
    },
    {
     "cell_type": "markdown",
     "metadata": {},
     "source": [
      "This is a GenBank formatted file containing the sequence and annotation for a plasmid in a Yersenia pestis strain, the causative agent of plague. We can see quite a bit of annotation about this particular sequence, and that there is a very large Seq object contained here with the entire sequence.\n",
      "\n",
      "Since we are dealing with a plasmid that contains hundreds of genes and other features, we are probably interested in looking at those. Because this file contains that kind of information, SeqIO has helpfully placed it all into the **features** list field in the record."
     ]
    },
    {
     "cell_type": "code",
     "collapsed": false,
     "input": [
      "yp_plasmid.features"
     ],
     "language": "python",
     "metadata": {},
     "outputs": [
      {
       "metadata": {},
       "output_type": "pyout",
       "prompt_number": 68,
       "text": [
        "[SeqFeature(FeatureLocation(ExactPosition(0), ExactPosition(9609), strand=1), type='source'),\n",
        " SeqFeature(FeatureLocation(ExactPosition(0), ExactPosition(1954), strand=1), type='mobile_element'),\n",
        " SeqFeature(FeatureLocation(ExactPosition(86), ExactPosition(1109), strand=1), type='gene'),\n",
        " SeqFeature(FeatureLocation(ExactPosition(86), ExactPosition(1109), strand=1), type='CDS'),\n",
        " SeqFeature(FeatureLocation(ExactPosition(1105), ExactPosition(1888), strand=1), type='gene'),\n",
        " SeqFeature(FeatureLocation(ExactPosition(1105), ExactPosition(1888), strand=1), type='CDS'),\n",
        " SeqFeature(FeatureLocation(ExactPosition(2924), ExactPosition(3119), strand=1), type='gene'),\n",
        " SeqFeature(FeatureLocation(ExactPosition(2924), ExactPosition(3119), strand=1), type='CDS'),\n",
        " SeqFeature(FeatureLocation(ExactPosition(3485), ExactPosition(3857), strand=1), type='gene'),\n",
        " SeqFeature(FeatureLocation(ExactPosition(3485), ExactPosition(3857), strand=1), type='CDS'),\n",
        " SeqFeature(FeatureLocation(ExactPosition(3497), ExactPosition(3626), strand=1), type='misc_feature'),\n",
        " SeqFeature(FeatureLocation(ExactPosition(4342), ExactPosition(4780), strand=1), type='gene'),\n",
        " SeqFeature(FeatureLocation(ExactPosition(4342), ExactPosition(4780), strand=1), type='CDS'),\n",
        " SeqFeature(FeatureLocation(ExactPosition(4814), ExactPosition(5888), strand=-1), type='gene'),\n",
        " SeqFeature(FeatureLocation(ExactPosition(4814), ExactPosition(5888), strand=-1), type='CDS'),\n",
        " SeqFeature(FeatureLocation(ExactPosition(5909), ExactPosition(5911), strand=1), type='variation'),\n",
        " SeqFeature(FeatureLocation(ExactPosition(5933), ExactPosition(5933), strand=1), type='variation'),\n",
        " SeqFeature(FeatureLocation(ExactPosition(5933), ExactPosition(5933), strand=1), type='variation'),\n",
        " SeqFeature(FeatureLocation(ExactPosition(5947), ExactPosition(5948), strand=1), type='variation'),\n",
        " SeqFeature(FeatureLocation(ExactPosition(6004), ExactPosition(6421), strand=1), type='gene'),\n",
        " SeqFeature(FeatureLocation(ExactPosition(6004), ExactPosition(6421), strand=1), type='CDS'),\n",
        " SeqFeature(FeatureLocation(ExactPosition(6524), ExactPosition(6525), strand=1), type='variation'),\n",
        " SeqFeature(FeatureLocation(ExactPosition(6663), ExactPosition(7602), strand=1), type='gene'),\n",
        " SeqFeature(FeatureLocation(ExactPosition(6663), ExactPosition(7602), strand=1), type='CDS'),\n",
        " SeqFeature(FeatureLocation(ExactPosition(7788), ExactPosition(8088), strand=-1), type='gene'),\n",
        " SeqFeature(FeatureLocation(ExactPosition(7788), ExactPosition(8088), strand=-1), type='CDS'),\n",
        " SeqFeature(FeatureLocation(ExactPosition(8087), ExactPosition(8360), strand=-1), type='gene'),\n",
        " SeqFeature(FeatureLocation(ExactPosition(8087), ExactPosition(8360), strand=-1), type='CDS'),\n",
        " SeqFeature(FeatureLocation(ExactPosition(8529), ExactPosition(8529), strand=1), type='variation')]"
       ]
      }
     ],
     "prompt_number": 68
    },
    {
     "cell_type": "raw",
     "metadata": {},
     "source": [
      "Let's take a look at what these **SeqFeatures**s look like."
     ]
    },
    {
     "cell_type": "code",
     "collapsed": false,
     "input": [
      "gene = yp_plasmid.features[2]\n",
      "print gene"
     ],
     "language": "python",
     "metadata": {},
     "outputs": [
      {
       "output_type": "stream",
       "stream": "stdout",
       "text": [
        "type: gene\n",
        "location: [86:1109](+)\n",
        "qualifiers: \n",
        "    Key: db_xref, Value: ['GeneID:2767718']\n",
        "    Key: locus_tag, Value: ['YP_pPCP01']\n",
        "\n"
       ]
      }
     ],
     "prompt_number": 70
    },
    {
     "cell_type": "code",
     "collapsed": false,
     "input": [
      "print gene.type"
     ],
     "language": "python",
     "metadata": {},
     "outputs": [
      {
       "output_type": "stream",
       "stream": "stdout",
       "text": [
        "gene\n"
       ]
      }
     ],
     "prompt_number": 71
    },
    {
     "cell_type": "code",
     "collapsed": false,
     "input": [
      "print gene.location\n",
      "print gene.location.start\n",
      "print gene.location.end\n",
      "print gene.location.strand"
     ],
     "language": "python",
     "metadata": {},
     "outputs": [
      {
       "output_type": "stream",
       "stream": "stdout",
       "text": [
        "[86:1109](+)\n",
        "86\n",
        "1109\n",
        "1\n"
       ]
      }
     ],
     "prompt_number": 72
    },
    {
     "cell_type": "code",
     "collapsed": false,
     "input": [
      "gene.qualifiers"
     ],
     "language": "python",
     "metadata": {},
     "outputs": [
      {
       "metadata": {},
       "output_type": "pyout",
       "prompt_number": 73,
       "text": [
        "{'db_xref': ['GeneID:2767718'], 'locus_tag': ['YP_pPCP01']}"
       ]
      }
     ],
     "prompt_number": 73
    },
    {
     "cell_type": "markdown",
     "metadata": {},
     "source": [
      "You can use in **in** keyword to directly test if a location is contained in a feature"
     ]
    },
    {
     "cell_type": "code",
     "collapsed": false,
     "input": [
      "my_snp = 1000\n",
      "my_snp in gene"
     ],
     "language": "python",
     "metadata": {},
     "outputs": [
      {
       "metadata": {},
       "output_type": "pyout",
       "prompt_number": 75,
       "text": [
        "True"
       ]
      }
     ],
     "prompt_number": 75
    },
    {
     "cell_type": "markdown",
     "metadata": {},
     "source": [
      "You might notice that these feature objects do no actually contain the sequence information (although some of them do contain the translated sequence). If you need to access the sequence **SeqFeatures** contain a method called extract() that accepts the sequence that it is a feature of, and returns the corresponding sequence data."
     ]
    },
    {
     "cell_type": "code",
     "collapsed": false,
     "input": [
      "gene.extract(yp_plasmid.seq)"
     ],
     "language": "python",
     "metadata": {},
     "outputs": [
      {
       "metadata": {},
       "output_type": "pyout",
       "prompt_number": 79,
       "text": [
        "Seq('ATGGTCACTTTTGAGACAGTTATGGAAATTAAAATCCTGCACAAGCAGGGAATG...TGA', IUPACAmbiguousDNA())"
       ]
      }
     ],
     "prompt_number": 79
    },
    {
     "cell_type": "markdown",
     "metadata": {},
     "source": [
      "These **SeqFeatures** are more powerful and complicated, for instance they can handle eukaryotic genes, in which case the location will be a special form called a CompoundLocation that handles exon joining, and the extract() function will take advantage of this."
     ]
    },
    {
     "cell_type": "markdown",
     "metadata": {},
     "source": [
      "If you want to take a SeqRecord object and output it back to a text file in a standard format, you should use the format() function which is analagous to the one for a string."
     ]
    },
    {
     "cell_type": "code",
     "collapsed": false,
     "input": [
      "print yp_plasmid.format('gb')"
     ],
     "language": "python",
     "metadata": {},
     "outputs": [
      {
       "output_type": "stream",
       "stream": "stdout",
       "text": [
        "LOCUS       NC_005816               9609 bp    DNA              CON 23-MAY-2013\n",
        "DEFINITION  Yersinia pestis biovar Microtus str. 91001 plasmid pPCP1, complete\n",
        "            sequence.\n",
        "ACCESSION   NC_005816\n",
        "VERSION     NC_005816.1  GI:45478711\n",
        "DBLINK      Project:58037 BioProject:PRJNA58037\n",
        "KEYWORDS    RefSeq.\n",
        "SOURCE      Yersinia pestis biovar Microtus str. 91001\n",
        "  ORGANISM  Yersinia pestis biovar Microtus str. 91001\n",
        "            Bacteria; Proteobacteria; Gammaproteobacteria; Enterobacteriales;\n",
        "            Enterobacteriaceae; Yersinia.\n",
        "REFERENCE   1  (bases 1 to 9609)\n",
        "  AUTHORS   Zhou,D., Tong,Z., Song,Y., Han,Y., Pei,D., Pang,X., Zhai,J., Li,M.,\n",
        "            Cui,B., Qi,Z., Jin,L., Dai,R., Du,Z., Wang,J., Guo,Z., Wang,J.,\n",
        "            Huang,P. and Yang,R.\n",
        "  TITLE     Genetics of metabolic variations between Yersinia pestis biovars and\n",
        "            the proposal of a new biovar, microtus\n",
        "  JOURNAL   J. Bacteriol. 186 (15), 5147-5152 (2004)\n",
        "   PUBMED   15262951\n",
        "REFERENCE   2  (bases 1 to 9609)\n",
        "  AUTHORS   Song,Y., Tong,Z., Wang,J., Wang,L., Guo,Z., Han,Y., Zhang,J.,\n",
        "            Pei,D., Zhou,D., Qin,H., Pang,X., Han,Y., Zhai,J., Li,M., Cui,B.,\n",
        "            Qi,Z., Jin,L., Dai,R., Chen,F., Li,S., Ye,C., Du,Z., Lin,W.,\n",
        "            Wang,J., Yu,J., Yang,H., Wang,J., Huang,P. and Yang,R.\n",
        "  TITLE     Complete genome sequence of Yersinia pestis strain 91001, an isolate\n",
        "            avirulent to humans\n",
        "  JOURNAL   DNA Res. 11 (3), 179-197 (2004)\n",
        "   PUBMED   15368893\n",
        "REFERENCE   3  (bases 1 to 9609)\n",
        "  CONSRTM   NCBI Genome Project\n",
        "  TITLE     Direct Submission\n",
        "  JOURNAL   Submitted (16-MAR-2004) National Center for Biotechnology\n",
        "            Information, NIH, Bethesda, MD 20894, USA\n",
        "REFERENCE   4  (bases 1 to 9609)\n",
        "  AUTHORS   Song,Y., Tong,Z., Wang,L., Han,Y., Zhang,J., Pei,D., Wang,J.,\n",
        "            Zhou,D., Han,Y., Pang,X., Zhai,J., Chen,F., Qin,H., Wang,J., Li,S.,\n",
        "            Guo,Z., Ye,C., Du,Z., Lin,W., Wang,J., Yu,J., Yang,H., Wang,J.,\n",
        "            Huang,P. and Yang,R.\n",
        "  TITLE     Direct Submission\n",
        "  JOURNAL   Submitted (24-APR-2003) The Institute of Microbiology and\n",
        "            Epidemiology, Academy of Military Medical Sciences, No. 20,\n",
        "            Dongdajie Street, Fengtai District, Beijing 100071, People's\n",
        "            Republic of China\n",
        "COMMENT     PROVISIONAL REFSEQ: This record has not yet been subject to final\n",
        "            NCBI review. The reference sequence was derived from AE017046.\n",
        "            COMPLETENESS: full length.\n",
        "FEATURES             Location/Qualifiers\n",
        "     source          1..9609\n",
        "                     /mol_type=\"genomic DNA\"\n",
        "                     /biovar=\"Microtus\"\n",
        "                     /db_xref=\"taxon:229193\"\n",
        "                     /strain=\"91001\"\n",
        "                     /plasmid=\"pPCP1\"\n",
        "                     /organism=\"Yersinia pestis biovar Microtus str. 91001\"\n",
        "     mobile_element  1..1954\n",
        "                     /mobile_element_type=\"insertion sequence:IS100\"\n",
        "     gene            87..1109\n",
        "                     /db_xref=\"GeneID:2767718\"\n",
        "                     /locus_tag=\"YP_pPCP01\"\n",
        "     CDS             87..1109\n",
        "                     /locus_tag=\"YP_pPCP01\"\n",
        "                     /codon_start=1\n",
        "                     /product=\"putative transposase\"\n",
        "                     /transl_table=11\n",
        "                     /note=\"similar to corresponding CDS from previously\n",
        "                     sequenced pPCP plasmid of Yersinia pestis KIM (AF053945)\n",
        "                     and CO92 (AL109969), also many transposase entries for\n",
        "                     insertion sequence IS100 of Yersinia pestis. Contains\n",
        "                     IS21-like element transposase, HTH domain\n",
        "                     (Interpro|IPR007101)\"\n",
        "                     /db_xref=\"GI:45478712\"\n",
        "                     /db_xref=\"GeneID:2767718\"\n",
        "                     /translation=\"MVTFETVMEIKILHKQGMSSRAIARELGISRNTVKRYLQAKSEPP\n",
        "                     KYTPRPAVASLLDEYRDYIRQRIADAHPYKIPATVIAREIRDQGYRGGMTILRAFIRSL\n",
        "                     SVPQEQEPAVRFETEPGRQMQVDWGTMRNGRSPLHVFVAVLGYSRMLYIEFTDNMRYDT\n",
        "                     LETCHRNAFRFFGGVPREVLYDNMKTVVLQRDAYQTGQHRFHPSLWQFGKEMGFSPRLC\n",
        "                     RPFRAQTKGKVERMVQYTRNSFYIPLMTRLRPMGITVDVETANRHGLRWLHDVANQRKH\n",
        "                     ETIQARPCDRWLEEQQSMLALPPEKKEYDVHLDENLVNFDKHPLHHPLSIYDSFCRGVA\n",
        "                     \"\n",
        "                     /protein_id=\"NP_995567.1\"\n",
        "     gene            1106..1888\n",
        "                     /db_xref=\"GeneID:2767716\"\n",
        "                     /locus_tag=\"YP_pPCP02\"\n",
        "     CDS             1106..1888\n",
        "                     /locus_tag=\"YP_pPCP02\"\n",
        "                     /codon_start=1\n",
        "                     /product=\"transposase/IS protein\"\n",
        "                     /transl_table=11\n",
        "                     /note=\"similar to corresponding CDS form previously\n",
        "                     sequenced pPCP plasmid of Yersinia pestis KIM (AF053945)\n",
        "                     and CO92 (AL109969), also many ATP-binding protein entries\n",
        "                     for insertion sequence IS100 of Yersinia pestis. Contains\n",
        "                     Chaperonin clpA/B (Interpro|IPR001270). Contains\n",
        "                     ATP/GTP-binding site motif A (P-loop) (Interpro|IPR001687,\n",
        "                     Molecular Function: ATP binding (GO:0005524)). Contains\n",
        "                     Bacterial chromosomal replication initiator protein, DnaA\n",
        "                     (Interpro|IPR001957, Molecular Function: DNA binding\n",
        "                     (GO:0003677), Molecular Function: DNA replication origin\n",
        "                     binding (GO:0003688), Molecular Function: ATP binding\n",
        "                     (GO:0005524), Biological Process: DNA replication\n",
        "                     initiation (GO:0006270), Biological Process: regulation of\n",
        "                     DNA replication (GO:0006275)). Contains AAA ATPase\n",
        "                     (Interpro|IPR003593, Molecular Function: nucleotide binding\n",
        "                     (GO:0000166))\"\n",
        "                     /db_xref=\"GI:45478713\"\n",
        "                     /db_xref=\"GeneID:2767716\"\n",
        "                     /translation=\"MMMELQHQRLMALAGQLQLESLISAAPALSQQAVDQEWSYMDFLE\n",
        "                     HLLHEEKLARHQRKQAMYTRMAAFPAVKTFEEYDFTFATGAPQKQLQSLRSLSFIERNE\n",
        "                     NIVLLGPSGVGKTHLAIAMGYEAVRAGIKVRFTTAADLLLQLSTAQRQGRYKTTLQRGV\n",
        "                     MAPRLLIIDEIGYLPFSQEEAKLFFQVIAKRYEKSAMILTSNLPFGQWDQTFAGDAALT\n",
        "                     SAMLDRILHHSHVVQIKGESYRLRQKRKAGVIAEANPE\"\n",
        "                     /protein_id=\"NP_995568.1\"\n",
        "     gene            2925..3119\n",
        "                     /db_xref=\"GeneID:2767717\"\n",
        "                     /locus_tag=\"YP_pPCP03\"\n",
        "                     /gene=\"rop\"\n",
        "                     /gene_synonym=\"rom\"\n",
        "     CDS             2925..3119\n",
        "                     /locus_tag=\"YP_pPCP03\"\n",
        "                     /codon_start=1\n",
        "                     /gene_synonym=\"rom\"\n",
        "                     /transl_table=11\n",
        "                     /note=\"Best Blastp hit =gi|16082682|ref|NP_395229.1|\n",
        "                     (NC_003132) putative replication regulatory protein\n",
        "                     [Yersinia pestis], gi|5763813|emb|CAB531 66.1| (AL109969)\n",
        "                     putative replication regulatory protein [Yersinia pestis];\n",
        "                     similar to gb|AAK91579.1| (AY048853), RNAI modulator\n",
        "                     protein Rom [Salmonella choleraesuis], Contains Regulatory\n",
        "                     protein Rop (Interpro|IPR000769)\"\n",
        "                     /db_xref=\"GI:45478714\"\n",
        "                     /db_xref=\"GeneID:2767717\"\n",
        "                     /translation=\"MNKQQQTALNMARFIRSQSLILLEKLDALDADEQAAMCERLHELA\n",
        "                     EELQNSIQARFEAESETGT\"\n",
        "                     /gene=\"rop\"\n",
        "                     /product=\"putative replication regulatory protein\"\n",
        "                     /protein_id=\"NP_995569.1\"\n",
        "     gene            3486..3857\n",
        "                     /db_xref=\"GeneID:2767720\"\n",
        "                     /locus_tag=\"YP_pPCP04\"\n",
        "     CDS             3486..3857\n",
        "                     /locus_tag=\"YP_pPCP04\"\n",
        "                     /codon_start=1\n",
        "                     /product=\"hypothetical protein\"\n",
        "                     /transl_table=11\n",
        "                     /note=\"Best Blastp hit = gi|321919|pir||JQ1541 hypothetical\n",
        "                     16.9K protein - Salmonella typhi murium plasmid NTP16.\"\n",
        "                     /db_xref=\"GI:45478715\"\n",
        "                     /db_xref=\"GeneID:2767720\"\n",
        "                     /translation=\"MSKKRRPQKRPRRRRFFHRLRPPDEHHKNRRSSQRWRNPTGLKDT\n",
        "                     RRFPPEAPSCALLFRPCRLPDTSPPFSLREAWRFLIAHAVGISVRCRSFAPSWAVCTNP\n",
        "                     PFSPTTAPYPVTIVLSPTR\"\n",
        "                     /protein_id=\"NP_995570.1\"\n",
        "     misc_feature    3498..3626\n",
        "                     /note=\"ProfileScan match to entry PS50323 ARG_RICH, E-value\n",
        "                     8.981\"\n",
        "                     /locus_tag=\"YP_pPCP04\"\n",
        "     gene            4343..4780\n",
        "                     /db_xref=\"GeneID:2767712\"\n",
        "                     /locus_tag=\"YP_pPCP05\"\n",
        "                     /gene=\"pim\"\n",
        "     CDS             4343..4780\n",
        "                     /locus_tag=\"YP_pPCP05\"\n",
        "                     /codon_start=1\n",
        "                     /product=\"pesticin immunity protein\"\n",
        "                     /transl_table=11\n",
        "                     /note=\"similar to many previously sequenced pesticin\n",
        "                     immunity protein entries of Yersinia pestis plasmid pPCP,\n",
        "                     e.g. gi| 16082683|,ref|NP_395230.1| (NC_003132) ,\n",
        "                     gi|1200166|emb|CAA90861.1| (Z54145 ) , gi|1488655|\n",
        "                     emb|CAA63439.1| (X92856) , gi|2996219|gb|AAC62543.1|\n",
        "                     (AF053945) , and gi|5763814|emb|CAB531 67.1| (AL109969)\"\n",
        "                     /db_xref=\"GI:45478716\"\n",
        "                     /db_xref=\"GeneID:2767712\"\n",
        "                     /translation=\"MGGGMISKLFCLALIFLSSSGLAEKNTYTAKDILQNLELNTFGNS\n",
        "                     LSHGIYGKQTTFKQTEFTNIKSNTKKHIALINKDNSWMISLKILGIKRDEYTVCFEDFS\n",
        "                     LIRPPTYVAIHPLLIKKVKSGNFIVVKEIKKSIPGCTVYYH\"\n",
        "                     /gene=\"pim\"\n",
        "                     /protein_id=\"NP_995571.1\"\n",
        "     gene            complement(4815..5888)\n",
        "                     /db_xref=\"GeneID:2767721\"\n",
        "                     /locus_tag=\"YP_pPCP06\"\n",
        "                     /gene=\"pst\"\n",
        "     CDS             complement(4815..5888)\n",
        "                     /locus_tag=\"YP_pPCP06\"\n",
        "                     /codon_start=1\n",
        "                     /product=\"pesticin\"\n",
        "                     /transl_table=11\n",
        "                     /note=\"Best Blastp hit =|16082684|ref|NP_395231.1|\n",
        "                     (NC_003132) pesticin [Yersinia pestis],\n",
        "                     gi|984824|gb|AAA75369.1| (U31974) pesticin [Yersinia\n",
        "                     pestis], gi|1488654|emb|CAA63438.1| (X92856) pesticin\n",
        "                     [Yersinia pestis], gi|2996220|gb|AAC62544.1| (AF053945)\n",
        "                     pesticin [Yersinia pestis], gi|5763815|emb|CAB53168.1|\n",
        "                     (AL1099 69) pesticin [Yersinia pestis]\"\n",
        "                     /db_xref=\"GI:45478717\"\n",
        "                     /db_xref=\"GeneID:2767721\"\n",
        "                     /translation=\"MSDTMVVNGSGGVPAFLFSGSTLSSYRPNFEANSITIALPHYVDL\n",
        "                     PGRSNFKLMYIMGFPIDTEMEKDSEYSNKIRQESKISKTEGTVSYEQKITVETGQEKDG\n",
        "                     VKVYRVMVLEGTIAESIEHLDKKENEDILNNNRNRIVLADNTVINFDNISQLKEFLRRS\n",
        "                     VNIVDHDIFSSNGFEGFNPTSHFPSNPSSDYFNSTGVTFGSGVDLGQRSKQDLLNDGVP\n",
        "                     QYIADRLDGYYMLRGKEAYDKVRTAPLTLSDNEAHLLSNIYIDKFSHKIEGLFNDANIG\n",
        "                     LRFSDLPLRTRTALVSIGYQKGFKLSRTAPTVWNKVIAKDWNGLVNAFNNIVDGMSDRR\n",
        "                     KREGALVQKDIDSGLLK\"\n",
        "                     /gene=\"pst\"\n",
        "                     /protein_id=\"NP_995572.1\"\n",
        "     variation       5910..5911\n",
        "                     /note=\"compared to AF053945\"\n",
        "                     /replace\n",
        "     variation       5933^5934\n",
        "                     /note=\"compared to AL109969\"\n",
        "                     /replace=\"a\"\n",
        "     variation       5933^5934\n",
        "                     /note=\"compared to AF053945\"\n",
        "                     /replace=\"aa\"\n",
        "     variation       5948\n",
        "                     /note=\"compared to AL109969\"\n",
        "                     /replace=\"c\"\n",
        "     gene            6005..6421\n",
        "                     /db_xref=\"GeneID:2767719\"\n",
        "                     /locus_tag=\"YP_pPCP07\"\n",
        "     CDS             6005..6421\n",
        "                     /locus_tag=\"YP_pPCP07\"\n",
        "                     /codon_start=1\n",
        "                     /product=\"hypothetical protein\"\n",
        "                     /transl_table=11\n",
        "                     /note=\"Best Blastp hit = gi|16082685|ref|NP_395232.1|\n",
        "                     (NC_003132) hypothetical protein [Yersinia pestis],\n",
        "                     gi|5763816|emb|CAB53169.1| (AL109969) hypothetical protein\n",
        "                     [Yersinia pestis]\"\n",
        "                     /db_xref=\"GI:45478718\"\n",
        "                     /db_xref=\"GeneID:2767719\"\n",
        "                     /translation=\"MKFHFCDLNHSYKNQEGKIRSRKTAPGNIRKKQKGDNVSKTKSGR\n",
        "                     HRLSKTDKRLLAALVVAGYEERTARDLIQKHVYTLTQADLRHLVSEISNGVGQSQAYDA\n",
        "                     IYQARRIRLARKYLSGKKPEGVEPREGQEREDLP\"\n",
        "                     /protein_id=\"NP_995573.1\"\n",
        "     variation       6525\n",
        "                     /note=\"compared to AF053945 and AL109969\"\n",
        "                     /replace=\"c\"\n",
        "     gene            6664..7602\n",
        "                     /db_xref=\"GeneID:2767715\"\n",
        "                     /locus_tag=\"YP_pPCP08\"\n",
        "                     /gene=\"pla\"\n",
        "     CDS             6664..7602\n",
        "                     /locus_tag=\"YP_pPCP08\"\n",
        "                     /codon_start=1\n",
        "                     /EC_number=\"3.4.23.48\"\n",
        "                     /transl_table=11\n",
        "                     /note=\"outer membrane protease; involved in virulence in\n",
        "                     many organisms; OmpT; IcsP; SopA; Pla; PgtE; omptin; in\n",
        "                     Escherichia coli OmpT can degrade antimicrobial peptides;\n",
        "                     in Yersinia Pla activates plasminogen during infection; in\n",
        "                     Shigella flexneria SopA cleaves the autotransporter IcsA\"\n",
        "                     /db_xref=\"GI:45478719\"\n",
        "                     /db_xref=\"GeneID:2767715\"\n",
        "                     /translation=\"MKKSSIVATIITILSGSANAASSQLIPNISPDSFTVAASTGMLSG\n",
        "                     KSHEMLYDAETGRKISQLDWKIKNVAILKGDISWDPYSFLTLNARGWTSLASGSGNMDD\n",
        "                     YDWMNENQSEWTDHSSHPATNVNHANEYDLNVKGWLLQDENYKAGITAGYQETRFSWTA\n",
        "                     TGGSYSYNNGAYTGNFPKGVRVIGYNQRFSMPYIGLAGQYRINDFELNALFKFSDWVRA\n",
        "                     HDNDEHYMRDLTFREKTSGSRYYGTVINAGYYVTPNAKVFAEFTYSKYDEGKGGTQIID\n",
        "                     KNSGDSVSIGGDAAGISNKNYTVTAGLQYRF\"\n",
        "                     /gene=\"pla\"\n",
        "                     /product=\"outer membrane protease\"\n",
        "                     /protein_id=\"NP_995574.1\"\n",
        "     gene            complement(7789..8088)\n",
        "                     /db_xref=\"GeneID:2767713\"\n",
        "                     /locus_tag=\"YP_pPCP09\"\n",
        "     CDS             complement(7789..8088)\n",
        "                     /locus_tag=\"YP_pPCP09\"\n",
        "                     /codon_start=1\n",
        "                     /product=\"putative transcriptional regulator\"\n",
        "                     /transl_table=11\n",
        "                     /note=\"Best Blastp hit = gi|16082687|ref|NP_395234.1|\n",
        "                     (NC_003132) putative transcriptional regulator [Yersinia\n",
        "                     pestis], gi|5763818|emb|CAB53171.1| (AL109969) putative\n",
        "                     transcriptional regulator [Yersinia pestis].\"\n",
        "                     /db_xref=\"GI:45478720\"\n",
        "                     /db_xref=\"GeneID:2767713\"\n",
        "                     /translation=\"MRTLDEVIASRSPESQTRIKEMADEMILEVGLQMMREELQLSQKQ\n",
        "                     VAEAMGISQPAVTKLEQRGNDLKLATLKRYVEAMGGKLSLDVELPTGRRVAFHV\"\n",
        "                     /protein_id=\"NP_995575.1\"\n",
        "     gene            complement(8088..8360)\n",
        "                     /db_xref=\"GeneID:2767714\"\n",
        "                     /locus_tag=\"YP_pPCP10\"\n",
        "     CDS             complement(8088..8360)\n",
        "                     /locus_tag=\"YP_pPCP10\"\n",
        "                     /codon_start=1\n",
        "                     /product=\"hypothetical protein\"\n",
        "                     /transl_table=11\n",
        "                     /note=\"Best Blastp hit = gi|16082688|ref|NP_395235.1|\n",
        "                     (NC_003132) hypothetical protein [ Yersinia pestis],\n",
        "                     gi|5763819|emb|CAB53172.1| (AL109969) hypothetical protein\n",
        "                     [Yersinia pestis]\"\n",
        "                     /db_xref=\"GI:45478721\"\n",
        "                     /db_xref=\"GeneID:2767714\"\n",
        "                     /translation=\"MADLKKLQVYGPELPRPYADTVKGSRYKNMKELRVQFSGRPIRAF\n",
        "                     YAFDPIRRAIVLCAGDKSNDKRFYEKLVRIAEDEFTAHLNTLESK\"\n",
        "                     /protein_id=\"NP_995576.1\"\n",
        "     variation       8529^8530\n",
        "                     /note=\"compared to AL109969\"\n",
        "                     /replace=\"tt\"\n",
        "ORIGIN\n",
        "        1 tgtaacgaac ggtgcaatag tgatccacac ccaacgcctg aaatcagatc cagggggtaa\n",
        "       61 tctgctctcc tgattcagga gagtttatgg tcacttttga gacagttatg gaaattaaaa\n",
        "      121 tcctgcacaa gcagggaatg agtagccggg cgattgccag agaactgggg atctcccgca\n",
        "      181 ataccgttaa acgttatttg caggcaaaat ctgagccgcc aaaatatacg ccgcgacctg\n",
        "      241 ctgttgcttc actcctggat gaataccggg attatattcg tcaacgcatc gccgatgctc\n",
        "      301 atccttacaa aatcccggca acggtaatcg ctcgcgagat cagagaccag ggatatcgtg\n",
        "      361 gcggaatgac cattctcagg gcattcattc gttctctctc ggttcctcag gagcaggagc\n",
        "      421 ctgccgttcg gttcgaaact gaacccggac gacagatgca ggttgactgg ggcactatgc\n",
        "      481 gtaatggtcg ctcaccgctt cacgtgttcg ttgctgttct cggatacagc cgaatgctgt\n",
        "      541 acatcgaatt cactgacaat atgcgttatg acacgctgga gacctgccat cgtaatgcgt\n",
        "      601 tccgcttctt tggtggtgtg ccgcgcgaag tgttgtatga caatatgaaa actgtggttc\n",
        "      661 tgcaacgtga cgcatatcag accggtcagc accggttcca tccttcgctg tggcagttcg\n",
        "      721 gcaaggagat gggcttctct ccccgactgt gtcgcccctt cagggcacag actaaaggta\n",
        "      781 aggtggaacg gatggtgcag tacacccgta acagttttta catcccacta atgactcgcc\n",
        "      841 tgcgcccgat ggggatcact gtcgatgttg aaacagccaa ccgccacggt ctgcgctggc\n",
        "      901 tgcacgatgt cgctaaccaa cgaaagcatg aaacaatcca ggcccgtccc tgcgatcgct\n",
        "      961 ggctcgaaga gcagcagtcc atgctggcac tgcctccgga gaaaaaagag tatgacgtgc\n",
        "     1021 atcttgatga aaatctggtg aacttcgaca aacaccccct gcatcatcca ctctccatct\n",
        "     1081 acgactcatt ctgcagagga gtggcgtgat gatggaactg caacatcaac gactgatggc\n",
        "     1141 gctcgccggg cagttgcaac tggaaagcct tataagcgca gcgcctgcgc tgtcacaaca\n",
        "     1201 ggcagtagac caggaatgga gttatatgga cttcctggag catctgcttc atgaagaaaa\n",
        "     1261 actggcacgt catcaacgta aacaggcgat gtatacccga atggcagcct tcccggcggt\n",
        "     1321 gaaaacgttc gaagagtatg acttcacatt cgccaccgga gcaccgcaga agcaactcca\n",
        "     1381 gtcgttacgc tcactcagct tcatagaacg taatgaaaat atcgtattac tggggccatc\n",
        "     1441 aggtgtgggg aaaacccatc tggcaatagc gatgggctat gaagcagtcc gtgcaggtat\n",
        "     1501 caaagttcgc ttcacaacag cagcagatct gttacttcag ttatctacgg cacaacgtca\n",
        "     1561 gggccgttat aaaacgacgc ttcagcgtgg agtaatggcc ccccgcctgc tcatcattga\n",
        "     1621 tgaaataggc tatctgccgt tcagtcagga agaagcaaag ctgttcttcc aggtcatcgc\n",
        "     1681 taaacgttac gaaaagagcg caatgatcct gacatccaat ctgccgttcg ggcagtggga\n",
        "     1741 tcaaacgttc gccggtgatg cagcactgac ctcagcgatg ctggaccgta tcttacacca\n",
        "     1801 ctcacatgtc gttcaaatca aaggagaaag ctatcgactc agacagaaac gaaaggccgg\n",
        "     1861 ggttatagca gaagctaatc ctgagtaaaa cggtggatca atattgggcc gttggtggag\n",
        "     1921 atataagtgg atcacttttc atccgtcgtt gacaccctga tgaattcacg tgttcacgcc\n",
        "     1981 tgaataacaa gaatgccgga gatacgcagt catatttttt acacaattct ctaatcccga\n",
        "     2041 caaggtcgta ggtcgttata ggaaaattct tagcaccatt ccggaacaat cagaacagca\n",
        "     2101 ggccatgaac gactgacaac attacgaata taaaaaacgc acccgggcca gacattcccc\n",
        "     2161 ctactgatta aaccagccgg acttgtccac ggaacggtct ttttaaaccg acacacagtc\n",
        "     2221 tgagtacaga tacatgtcac gatgatgcag gattagcgga agagtgtgag cacgtttccg\n",
        "     2281 ggaactgtgg tgaaccatag ctcaatattc gagtgagggc ataccggaaa cgcgctcaga\n",
        "     2341 ttcgttgtaa cgcgattttc cgtaccgggc aattttttca gttgtttttt cgtttcatgt\n",
        "     2401 cgtcagaaac gttctgagcg cgtttccggc atctgatgct acgcaaacca tccccatggt\n",
        "     2461 cagttgacag ccggaaacac gcgggtgtcg ttttagcgta tcgacgggac ggcgtcgaga\n",
        "     2521 agcacaaaaa acagatgttg tactcagtca gttgttttac agacagcact gcggcagatt\n",
        "     2581 gaaaaagtac cgtactttca ggaatgtcca gaaaccatgt gtcagacttc gttctccccc\n",
        "     2641 ttccgggtga atttttttgt catccgttca ggaatctctt tataacgatt actccatttc\n",
        "     2701 aggatttttt atgtggcgtt tactacaggc aggatattca aaggcaaaaa aatcccccgg\n",
        "     2761 aacaggcgga acccggacag ggggagaacg aatcgctaaa taattttcgt agttgtattt\n",
        "     2821 cccatcgttg ctactgcaac gggatgaatt tgccgcagtt tatcctgtaa aacaatcctg\n",
        "     2881 atttactcac actccacata tcactgacgg agcacaacgg aatagtgaac aaacaacaac\n",
        "     2941 aaactgcgct gaatatggcg cgatttatca gaagccagag cctgatactg cttgaaaaac\n",
        "     3001 tggatgctct ggatgccgac gagcaggcgg ccatgtgtga acgactgcac gaactcgcgg\n",
        "     3061 aagaactcca gaacagcatc caggctcgct ttgaagccga aagtgaaaca ggaacataac\n",
        "     3121 gaagctcccg gagacggtca cagcttgtct gtgaacggat gccgggagca gacaagcccg\n",
        "     3181 tcagggcgcg tcagcgggtt ttagcgggtg tcggggcgca gccatgaccc agtcacgtag\n",
        "     3241 cgatagcgga gtgtatactg gcttagtcat gcggcatcag tgcggattgt atgaaaagtg\n",
        "     3301 caccatgtac ggtgtgaaat gccgcacaga tgcgtaagga gaacatgcag atgccgatgc\n",
        "     3361 tcttccgctt cctcgctcac tgactcgctg cgctcggtcg ttcggctgcg gcgagcggtg\n",
        "     3421 tctgctcact caaaagcggt gatactgtta tccacacaat caggggataa cgccggaaag\n",
        "     3481 aacatgtgag caaaaaacga agaccccaga aaaggccgcg ccggaggcgc tttttccata\n",
        "     3541 ggctccgccc ccctgacgag catcacaaaa atcgacgctc aagtcagagg tggcgaaacc\n",
        "     3601 cgacaggact taaagatacc aggcgtttcc ccccggaagc tccctcgtgc gctctcctgt\n",
        "     3661 tccgaccctg ccgcttaccg gatacctctc cgcctttctc ccttcgggaa gcgtggcgct\n",
        "     3721 ttctcatagc tcacgctgtt ggtatctcag ttcggtgtag gtcgttcgct ccaagctggg\n",
        "     3781 ctgtgtgcac gaaccccccg ttcagcccga ccactgcgcc ttatccggta actatcgtct\n",
        "     3841 tgagtccaac ccggtaagac acgactttac gccactggca gcagccattg gtaactgaaa\n",
        "     3901 agtggattta gatacgcaga actcttgaag ttgaagcctt atcgcggcta cactgaaagg\n",
        "     3961 acagcatttg gtatctgtgc tccacttaag ccagctacca caggttagaa agcctgagaa\n",
        "     4021 acttctaacc ttcgaaagaa cccacgcctg agaacgtggg ttttttcgtt tacaggcagc\n",
        "     4081 agattacgcg cagaaaaaaa ggatctcaag aagatccttt gatcttttct actgaattgc\n",
        "     4141 gctcccgatc agttcagcag aagattatga tggggttcta tgggtattgc tgcggtaaca\n",
        "     4201 cccatgttac ttgaggttgt atgtagtctg tgtagaatta tacacataag gcttaaactg\n",
        "     4261 ctcttttttt tcaatatgca attggaagtt cattgactac ataaatagat tattccaaat\n",
        "     4321 aatttattta tgtaagaaca ggatgggagg gggaatgatc tcaaagttat tttgcttggc\n",
        "     4381 tctcatattt ttatcatcaa gtggccttgc agaaaaaaac acatatacag caaaagacat\n",
        "     4441 cttgcaaaac ctagaattaa atacctttgg caattcattg tctcatggca tctatgggaa\n",
        "     4501 acagacaacc ttcaagcaaa ccgagtttac aaatattaaa agcaacacca aaaaacacat\n",
        "     4561 tgcacttatc aataaagaca actcatggat gatatcatta aaaatactag gaattaagag\n",
        "     4621 agatgagtat actgtctgtt ttgaagattt ctctctaata agaccgccaa catatgtagc\n",
        "     4681 catacatcct ctacttataa aaaaagtaaa atctggaaac tttatagtag tgaaagaaat\n",
        "     4741 aaagaaatct atccctggtt gcactgtata ttatcattaa tagcaagccc ctcattatta\n",
        "     4801 tgaggggctc atggttattt taacaatcca ctatcgatat ctttttgcac cagagcgccc\n",
        "     4861 tctcgtttac gtctgtcaga cattccatca acaatattat taaaagcatt tacaaggcca\n",
        "     4921 ttccagtctt ttgcgataac tttattccat actgtgggag cagttctgga taacttaaac\n",
        "     4981 cctttttgat atccaataga caccagtgct gtacgggttc tcaacggtaa atcgctgaac\n",
        "     5041 cgaagaccga tattagcgtc attgaaaaga ccttcaatct tatgtgagaa tttatcaata\n",
        "     5101 taaatattag ataagagatg agcttcatta tcagaaagcg tcagaggtgc tgttctcact\n",
        "     5161 ttatcataag cctccttccc tcgaagcata taatacccat caagtctatc tgcaatatac\n",
        "     5221 tgagggacac cgtcattcaa taaatcctgt ttgcttcgct gaccaaggtc aaccccggaa\n",
        "     5281 ccgaatgtaa caccggtact gttaaaataa tcgctactag gattagacgg aaaatgactt\n",
        "     5341 gtcggattaa acccttcaaa accattactg gagaaaatat cgtggtcaac aatatttacc\n",
        "     5401 gaacgacgta aaaattcctt cagttgacta atattgtcaa agttaatgac agtgttgtcc\n",
        "     5461 gctaggacga tgcgatttcg gttattattc agaatgtctt cgttctcttt cttatcgaga\n",
        "     5521 tgttcaatag attcggcaat cgttccctca agaaccatga cacggtagac tttcacaccg\n",
        "     5581 tctttttcct gacctgtttc aacagttatt ttctgttcgt aagacacggt cccttcagtt\n",
        "     5641 tttgaaattt tactttcctg gcggatctta tttgaatatt cactgtcttt ctccatctcc\n",
        "     5701 gtatcaatcg gaaaccccat aatgtacatc agtttaaaat tactccggcc aggcagatcc\n",
        "     5761 acataatgtg gtaatgcaat tgtaatcgaa ttagcttcaa aatttggtct gtaactgctt\n",
        "     5821 aatgtacttc cggaaaagag aaaagccgga acaccacctg aaccattcac taccattgta\n",
        "     5881 tctgacataa aaattcctct ttaacacata aaaaaaacaa taagttaaaa aaatactgta\n",
        "     5941 cataaaagca ctgtttttat gtacagtaat aaaattacgc cgctttattt tctctgtcaa\n",
        "     6001 taatatgaaa tttcattttt gtgatctgaa tcactcttat aaaaatcagg aagggaagat\n",
        "     6061 tcgcagcaga aaaacagcac cgggtaacat cagaaaaaaa cagaaaggag ataacgtgag\n",
        "     6121 caaaacaaaa tctggtcgcc accgactgag caaaacagac aaacgcctgc tggctgcact\n",
        "     6181 tgtcgttgcc ggatacgaag aacggacagc ccgtgacctc atccagaaac acgtttacac\n",
        "     6241 actgacacag gccgacctgc gccatctggt cagtgaaatc agtaacggtg tgggacagtc\n",
        "     6301 acaggcctac gatgcgattt accaggcgag acgcattcgt ctcgcccgta aatacctgag\n",
        "     6361 cggaaaaaaa ccggaagggg tggaaccccg ggaagggcag gaacgggaag atttaccata\n",
        "     6421 actcccgtta tcagtaccat cggctcaacg ctcgttgtcg gatctgaaaa attcgctcaa\n",
        "     6481 aagatcatat ttccctggat attttccacc gtttcttatg tgagaaaagt cacataattc\n",
        "     6541 tgtcagacga cgagaaaacg gatatcgatt attgtttaat atttttacat tattaaaaat\n",
        "     6601 gaaattagat aatcagatac aaataatatg ttttcgttca tgcagagaga ttaagggtgt\n",
        "     6661 ctaatgaaga aaagttctat tgtggcaacc attataacta ttctgtccgg gagtgctaat\n",
        "     6721 gcagcatcat ctcagttaat accaaatata tcccctgaca gctttacagt tgcagcctcc\n",
        "     6781 accgggatgc tgagtggaaa gtctcatgaa atgctttatg acgcagaaac aggaagaaag\n",
        "     6841 atcagccagt tagactggaa gatcaaaaat gtcgctatcc tgaaaggtga tatatcctgg\n",
        "     6901 gatccatact catttctgac cctgaatgcc agggggtgga cgtctctggc ttccgggtca\n",
        "     6961 ggtaatatgg atgactacga ctggatgaat gaaaatcaat ctgagtggac agatcactca\n",
        "     7021 tctcatcctg ctacaaatgt taatcatgcc aatgaatatg acctcaatgt gaaaggctgg\n",
        "     7081 ttactccagg atgagaatta taaagcaggt ataacagcag gatatcagga aacacgtttc\n",
        "     7141 agttggacag ctacaggtgg ttcatatagt tataataatg gagcttatac cggaaacttc\n",
        "     7201 ccgaaaggag tgcgggtaat aggttataac cagcgctttt ctatgccata tattggactt\n",
        "     7261 gcaggccagt atcgcattaa tgattttgag ttaaatgcat tatttaaatt cagcgactgg\n",
        "     7321 gttcgggcac atgataatga tgagcactat atgagagatc ttactttccg tgagaagaca\n",
        "     7381 tccggctcac gttattatgg taccgtaatt aacgctggat attatgtcac acctaatgcc\n",
        "     7441 aaagtctttg cggaatttac atacagtaaa tatgatgagg gcaaaggagg tactcagatc\n",
        "     7501 attgataaga atagtggaga ttctgtctct attggcggag atgctgccgg tatttccaat\n",
        "     7561 aaaaattata ctgtgacggc gggtctgcaa tatcgcttct gaaaaataca gatcatatct\n",
        "     7621 ctcttttcat cctcccctag cggggaggat gtctgtggaa aggaggttgg tgtttgacca\n",
        "     7681 accttcagat gtgtgaaaaa tcaccttttt caccataatg acggggcgct cattctgttg\n",
        "     7741 ttttgccttg acattctcca cgtctttcag ggcatggaga aggtcaaatt agacatggaa\n",
        "     7801 cgctactctc cttcctgtag gaagctcaac atccaagctt aatttgcctc ccattgcttc\n",
        "     7861 aacgtaacgc tttaacgtcg ccagctttaa atcatttccg cgctgctcca gctttgttac\n",
        "     7921 tgctggctgg cttataccca tcgcctcagc aacttgtttt tgtgataact ggagttcttc\n",
        "     7981 acgcatcatc tgcaagccga cctcaagaat catctcatct gccatttctt taattcgtgt\n",
        "     8041 ctggctttca ggtgaacgac tggcaatcac ctcatctaat gttctcatta cttgctctcc\n",
        "     8101 agtgtgttca gatgtgctgt aaattcatcc tcagctatac gcaccagttt ttcataaaac\n",
        "     8161 cgcttatcat tacttttatc tcctgcacaa agaacgatag cccgacgaat cggatcgaac\n",
        "     8221 gcataaaagg ctcttatcgg acggccagaa aactgaacgc gaagctcttt catatttttg\n",
        "     8281 taccgagaac ctttcacggt atcggcatat ggcctgggta actcaggtcc gtaaacctgt\n",
        "     8341 agctttttca aatcagccaa aaccttttcc tgaagagcgt cttcttgctc atttagccag\n",
        "     8401 tcgtcaaatc gctggctaaa aagtaccatc cacatgctca accctataac ctgtagctta\n",
        "     8461 ccccactaac aatataacct acgagttata ttttcaagaa aagctggcta tttaacataa\n",
        "     8521 cggcaatttg tacgcaccac tgaaatgcgt tcagcgcgat cacggcaaca gacaggcaaa\n",
        "     8581 aatagcaaca aacctcccga aaaaccgccg cgatcgcgcc tgataaattt taaccttatg\n",
        "     8641 catatctatg cagccaggcg aatcacgaac gaattgcctg cctgatgtaa ctgaaacggg\n",
        "     8701 tgttttttcc tgatttggtg ggcgtggaag acggaacatg aacgggaaaa cagaattcat\n",
        "     8761 gccagatgag cgcgatctgg caattaaggc aaaacacagc aacaaagaca cgccagaatc\n",
        "     8821 gcgcccggat atgttttaac gcgattttca gactcagaca aattcagcag aatgctactc\n",
        "     8881 cattcaccgg gctgatggtg aatacatgcg tatccaggat gagtacattt ctggctctgc\n",
        "     8941 cacagctctg tctgttggca gctttcgcct gtccggaaac ctgcttaaaa cgctcccgaa\n",
        "     9001 aggcctctga accagaaagc aacaaaacac aggccattaa gtaaatcgcg ttaaaacacg\n",
        "     9061 tctgatggat tgctgcaaaa aaaagtccct aatggagcag ggactgttaa acccagtgaa\n",
        "     9121 tagcgtctaa attaaagtaa gaatacgacc aggtactctt cagaaaagag attaatccac\n",
        "     9181 cgcacagaat aatcaacagt aaaaacaaac aaccctgatt ttttattttt ctttttttcg\n",
        "     9241 ataaaaacaa aattaaagaa ataattaatc agaacattcc ttaacttcag ggcattgcct\n",
        "     9301 gtgttccatt ttgtgattag tctgaaactt ccgaaggtgg ataacacccg gtattttttt\n",
        "     9361 gctcacataa agcccctcct tcaggcagag gggctttttc tttgccacca cataaaaaag\n",
        "     9421 gccctcacag gaggtgttct gtgagggcgt atgataagga ctgaatcgat ggttaatatg\n",
        "     9481 tctagtcctg acttttgcat ctccgaatat aaaaccctgt ttaacggcat gcaaaaccaa\n",
        "     9541 aaaataaaaa tgtgacatcg caatgccaga taatattgac gcatgaggga atgcgtaccc\n",
        "     9601 cgacccctg\n",
        "//\n",
        "\n"
       ]
      }
     ],
     "prompt_number": 78
    },
    {
     "cell_type": "heading",
     "level": 2,
     "metadata": {},
     "source": [
      "Other Features of BioPython"
     ]
    },
    {
     "cell_type": "markdown",
     "metadata": {},
     "source": [
      "This is all that we will talk about with BioPython, although there is much much more that it can do. Everything that I have shown you about BioPython was adapted from its very good Tutorial and Cookbook available at http://biopython.org/DIST/docs/tutorial/Tutorial.html"
     ]
    },
    {
     "cell_type": "markdown",
     "metadata": {},
     "source": [
      "Some things that BioPython can be used for\n",
      "\n",
      "- More advanced sequence input and output (SeqIO)\n",
      "- Dealing with multiple sequence alignments\n",
      "- Running BLAST searches and parsing the output, either remotely at NCBI or on your computer\n",
      "- Accessing the NCBI Entrez databases directly without using the website\n",
      "- Accessing and parsing Swiss-Prot and ExPASy files and databases\n",
      "- Working with PDB 3d models"
     ]
    },
    {
     "cell_type": "heading",
     "level": 1,
     "metadata": {},
     "source": [
      "Homework!"
     ]
    },
    {
     "cell_type": "markdown",
     "metadata": {},
     "source": [
      "Write a Python script. This script can do anything you want it to, it can be trivial. \n",
      "\n",
      "The script should define at least one class, that contains at least two variables of different data types, and at least two functions that operate on those data types. You should instantiate at least two instances of the class, and call every function at least once."
     ]
    }
   ],
   "metadata": {}
  }
 ]
}