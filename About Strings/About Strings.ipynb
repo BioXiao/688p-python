{
 "metadata": {
  "name": ""
 },
 "nbformat": 3,
 "nbformat_minor": 0,
 "worksheets": [
  {
   "cells": [
    {
     "cell_type": "heading",
     "level": 3,
     "metadata": {},
     "source": [
      "Remember strings? Strings are awesome."
     ]
    },
    {
     "cell_type": "markdown",
     "metadata": {},
     "source": [
      "Strings can be defined with either single or double quotes, they are interchangeable!"
     ]
    },
    {
     "cell_type": "code",
     "collapsed": false,
     "input": [
      "my_string = \"This is a test of a string.\"\n",
      "print my_string\n",
      "my_string = 'This is a test of a string.'\n",
      "print my_string"
     ],
     "language": "python",
     "metadata": {},
     "outputs": [
      {
       "output_type": "stream",
       "stream": "stdout",
       "text": [
        "This is a test of a string.\n",
        "This is a test of a string.\n"
       ]
      }
     ],
     "prompt_number": 2
    },
    {
     "cell_type": "markdown",
     "metadata": {},
     "source": [
      "You can however use them to put the other type of quotation mark in your string!"
     ]
    },
    {
     "cell_type": "code",
     "collapsed": false,
     "input": [
      "print 'Keith said, \"What is that smell???\"'\n",
      "print \"I am bad at 'examples'.\"\n",
      "print \"I need both types \\\" \""
     ],
     "language": "python",
     "metadata": {},
     "outputs": [
      {
       "output_type": "stream",
       "stream": "stdout",
       "text": [
        "Keith said, \"What is that smell???\"\n",
        "I am bad at 'examples'.\n",
        "I need both types \" \n"
       ]
      }
     ],
     "prompt_number": 4
    },
    {
     "cell_type": "markdown",
     "metadata": {},
     "source": [
      "By default strings must continue on the same line,"
     ]
    },
    {
     "cell_type": "code",
     "collapsed": false,
     "input": [
      "nl_string = \"This string\n",
      "will not work\" "
     ],
     "language": "python",
     "metadata": {},
     "outputs": [
      {
       "ename": "SyntaxError",
       "evalue": "EOL while scanning string literal (<ipython-input-5-8ed2ead16094>, line 1)",
       "output_type": "pyerr",
       "traceback": [
        "\u001b[1;36m  File \u001b[1;32m\"<ipython-input-5-8ed2ead16094>\"\u001b[1;36m, line \u001b[1;32m1\u001b[0m\n\u001b[1;33m    nl_string = \"This string\u001b[0m\n\u001b[1;37m                           ^\u001b[0m\n\u001b[1;31mSyntaxError\u001b[0m\u001b[1;31m:\u001b[0m EOL while scanning string literal\n"
       ]
      }
     ],
     "prompt_number": 5
    },
    {
     "cell_type": "markdown",
     "metadata": {},
     "source": [
      "But if you need to define a long multiline string you can do so without escaped newline characters (\\n)"
     ]
    },
    {
     "cell_type": "code",
     "collapsed": false,
     "input": [
      "nl_string = '''This string continues\n",
      "onto the next line'''\n",
      "print nl_string"
     ],
     "language": "python",
     "metadata": {},
     "outputs": [
      {
       "output_type": "stream",
       "stream": "stdout",
       "text": [
        "This string continues\n",
        "onto the next line\n"
       ]
      }
     ],
     "prompt_number": 6
    },
    {
     "cell_type": "markdown",
     "metadata": {},
     "source": [
      "You can index strings"
     ]
    },
    {
     "cell_type": "code",
     "collapsed": false,
     "input": [
      "print my_string[0]\n",
      "print type(my_string[0])"
     ],
     "language": "python",
     "metadata": {},
     "outputs": [
      {
       "output_type": "stream",
       "stream": "stdout",
       "text": [
        "T\n",
        "<type 'str'>\n"
       ]
      }
     ],
     "prompt_number": 9
    },
    {
     "cell_type": "markdown",
     "metadata": {},
     "source": [
      "You can slice strings. You don't need to specify the beginning of the string."
     ]
    },
    {
     "cell_type": "code",
     "collapsed": false,
     "input": [
      "print my_string[0:4]\n",
      "print my_string[:4]"
     ],
     "language": "python",
     "metadata": {},
     "outputs": [
      {
       "output_type": "stream",
       "stream": "stdout",
       "text": [
        "This\n",
        "This\n"
       ]
      }
     ],
     "prompt_number": 10
    },
    {
     "cell_type": "markdown",
     "metadata": {},
     "source": [
      "Or the end..."
     ]
    },
    {
     "cell_type": "code",
     "collapsed": false,
     "input": [
      "print my_string[27:20:-1]\n",
      "print my_string[20:]"
     ],
     "language": "python",
     "metadata": {},
     "outputs": [
      {
       "output_type": "stream",
       "stream": "stdout",
       "text": [
        ".gnirt\n",
        "string.\n"
       ]
      }
     ],
     "prompt_number": 23
    },
    {
     "cell_type": "markdown",
     "metadata": {},
     "source": [
      "Notice that the difference between start and end are the length of the slice! This is very handy and lets you slice a certain number of characters by simply adding that number to the start index."
     ]
    },
    {
     "cell_type": "code",
     "collapsed": false,
     "input": [
      "print 27-20\n",
      "print len(my_string[20:27])\n",
      "print\n",
      "start=20\n",
      "print my_string[start:start+6]"
     ],
     "language": "python",
     "metadata": {},
     "outputs": [
      {
       "output_type": "stream",
       "stream": "stdout",
       "text": [
        "7\n",
        "7\n",
        "\n",
        "string\n"
       ]
      }
     ],
     "prompt_number": 24
    },
    {
     "cell_type": "markdown",
     "metadata": {},
     "source": [
      "If you want to split up a string,"
     ]
    },
    {
     "cell_type": "code",
     "collapsed": false,
     "input": [
      "my_string = \"This  is  a  test\"\n",
      "print my_string.split()\n",
      "print my_string.split()[0]"
     ],
     "language": "python",
     "metadata": {},
     "outputs": [
      {
       "output_type": "stream",
       "stream": "stdout",
       "text": [
        "['This', 'is', 'a', 'test']\n",
        "This\n"
       ]
      }
     ],
     "prompt_number": 32
    },
    {
     "cell_type": "markdown",
     "metadata": {},
     "source": [
      "You can also split a string at a single instance of a character, for instance in filenames."
     ]
    },
    {
     "cell_type": "code",
     "collapsed": false,
     "input": [
      "filename = \"example.py\"\n",
      "print filename.partition('.')\n",
      "complicated_filename = \"complicated.example.py\"\n",
      "print complicated_filename.partition('.')\n",
      "print complicated_filename.rpartition('.')"
     ],
     "language": "python",
     "metadata": {},
     "outputs": [
      {
       "output_type": "stream",
       "stream": "stdout",
       "text": [
        "('example', '.', 'py')\n",
        "('complicated', '.', 'example.py')\n",
        "('complicated.example', '.', 'py')\n"
       ]
      }
     ],
     "prompt_number": 33
    },
    {
     "cell_type": "code",
     "collapsed": false,
     "input": [
      "?my_string.capitalize"
     ],
     "language": "python",
     "metadata": {},
     "outputs": [],
     "prompt_number": 38
    },
    {
     "cell_type": "heading",
     "level": 3,
     "metadata": {},
     "source": [
      "Modifying Strings"
     ]
    },
    {
     "cell_type": "markdown",
     "metadata": {},
     "source": [
      "Various capitalization methods"
     ]
    },
    {
     "cell_type": "code",
     "collapsed": false,
     "input": [
      "my_string = \"This is a test of a string.\"\n",
      "print my_string.upper()\n",
      "print my_string.lower()\n",
      "print my_string.title()\n",
      "print my_string.capitalize()\n",
      "print my_string.swapcase()"
     ],
     "language": "python",
     "metadata": {},
     "outputs": [
      {
       "output_type": "stream",
       "stream": "stdout",
       "text": [
        "THIS IS A TEST OF A STRING.\n",
        "this is a test of a string.\n",
        "This Is A Test Of A String.\n",
        "This is a test of a string.\n",
        "tHIS IS A TEST OF A STRING.\n"
       ]
      }
     ],
     "prompt_number": 39
    },
    {
     "cell_type": "markdown",
     "metadata": {},
     "source": [
      "Replacing parts of a string"
     ]
    },
    {
     "cell_type": "code",
     "collapsed": false,
     "input": [
      "print my_string.replace(' ', ',')\n",
      "print my_string.replace('test', 'example')"
     ],
     "language": "python",
     "metadata": {},
     "outputs": [
      {
       "output_type": "stream",
       "stream": "stdout",
       "text": [
        "This,is,a,test,of,a,string.\n",
        "This is a example of a string.\n"
       ]
      }
     ],
     "prompt_number": 40
    },
    {
     "cell_type": "markdown",
     "metadata": {},
     "source": [
      "Removing leading and trailing characters"
     ]
    },
    {
     "cell_type": "code",
     "collapsed": false,
     "input": [
      "spaced_string = \"   A string with excess space    \"\n",
      "print 'Original:    \"%s\"' % spaced_string\n",
      "print 'Full Strip:  \"%s\"' % spaced_string.strip()\n",
      "print 'Right Strip: \"%s\"' % spaced_string.rstrip()\n",
      "print 'Left Strip:  \"%s\"' % spaced_string.lstrip()"
     ],
     "language": "python",
     "metadata": {},
     "outputs": [
      {
       "output_type": "stream",
       "stream": "stdout",
       "text": [
        "Original:    \"   A string with excess space    \"\n",
        "Full Strip:  \"A string with excess space\"\n",
        "Right Strip: \"   A string with excess space\"\n",
        "Left Strip:  \"A string with excess space    \"\n"
       ]
      }
     ],
     "prompt_number": 41
    },
    {
     "cell_type": "markdown",
     "metadata": {},
     "source": [
      "This does not just work on whitespace."
     ]
    },
    {
     "cell_type": "code",
     "collapsed": false,
     "input": [
      "abcd_string = 'aaaabbbbbbccccddddd'\n",
      "print abcd_string.strip('ad')"
     ],
     "language": "python",
     "metadata": {},
     "outputs": [
      {
       "output_type": "stream",
       "stream": "stdout",
       "text": [
        "bbbbbbcccc\n"
       ]
      }
     ],
     "prompt_number": 43
    },
    {
     "cell_type": "heading",
     "level": 4,
     "metadata": {},
     "source": [
      "This also brings us the newer (and better) method of string formatting."
     ]
    },
    {
     "cell_type": "code",
     "collapsed": false,
     "input": [
      "print '{0} {1} {2}'.format(1,2,3)"
     ],
     "language": "python",
     "metadata": {},
     "outputs": [
      {
       "output_type": "stream",
       "stream": "stdout",
       "text": [
        "1 2 3\n"
       ]
      }
     ],
     "prompt_number": 44
    },
    {
     "cell_type": "markdown",
     "metadata": {},
     "source": [
      "You can use the arguments in any order"
     ]
    },
    {
     "cell_type": "code",
     "collapsed": false,
     "input": [
      "print '{2} {1} {0}'.format(1,2,3)"
     ],
     "language": "python",
     "metadata": {},
     "outputs": [
      {
       "output_type": "stream",
       "stream": "stdout",
       "text": [
        "3 2 1\n"
       ]
      }
     ],
     "prompt_number": 45
    },
    {
     "cell_type": "markdown",
     "metadata": {},
     "source": [
      "And they can be reused"
     ]
    },
    {
     "cell_type": "code",
     "collapsed": false,
     "input": [
      "print '{0} {1} {0}'.format(1,2)"
     ],
     "language": "python",
     "metadata": {},
     "outputs": [
      {
       "output_type": "stream",
       "stream": "stdout",
       "text": [
        "1 2 1\n"
       ]
      }
     ],
     "prompt_number": 46
    },
    {
     "cell_type": "markdown",
     "metadata": {},
     "source": [
      "You can use similar formatting syntax"
     ]
    },
    {
     "cell_type": "code",
     "collapsed": false,
     "input": [
      "print '{0:.2f}'.format(1)"
     ],
     "language": "python",
     "metadata": {},
     "outputs": [
      {
       "output_type": "stream",
       "stream": "stdout",
       "text": [
        "1.00\n"
       ]
      }
     ],
     "prompt_number": 47
    },
    {
     "cell_type": "markdown",
     "metadata": {},
     "source": [
      "With some additions"
     ]
    },
    {
     "cell_type": "code",
     "collapsed": false,
     "input": [
      "print '{0:,}'.format(1000000)"
     ],
     "language": "python",
     "metadata": {},
     "outputs": [
      {
       "output_type": "stream",
       "stream": "stdout",
       "text": [
        "1,000,000\n"
       ]
      }
     ],
     "prompt_number": 51
    },
    {
     "cell_type": "markdown",
     "metadata": {},
     "source": [
      "You can give arguments names"
     ]
    },
    {
     "cell_type": "code",
     "collapsed": false,
     "input": [
      "print '{name}: {dob}'.format(name='Jonathan', dob='02/1988')"
     ],
     "language": "python",
     "metadata": {},
     "outputs": [
      {
       "output_type": "stream",
       "stream": "stdout",
       "text": [
        "Jonathan: 02/1988\n"
       ]
      }
     ],
     "prompt_number": 52
    },
    {
     "cell_type": "markdown",
     "metadata": {},
     "source": [
      "And a lot of more advanced powerful options I won't go into"
     ]
    },
    {
     "cell_type": "heading",
     "level": 3,
     "metadata": {},
     "source": [
      "Asking questions about strings"
     ]
    },
    {
     "cell_type": "markdown",
     "metadata": {},
     "source": [
      "There are a number of methods designed to test whether a string fits certain criteria, such as whether it is alphanueric, or capitalized a certain way."
     ]
    },
    {
     "cell_type": "code",
     "collapsed": false,
     "input": [
      "print \"'abc'\"\n",
      "print 'abc'.isalpha()\n",
      "print 'abc'.isalnum()\n",
      "print 'abc'.isdigit()\n",
      "\n",
      "print\n",
      "print \"'123'\"\n",
      "print '123'.isalpha()\n",
      "print '123'.isalnum()\n",
      "print '123'.isdigit()\n",
      "\n",
      "print \n",
      "print \"'Capitalized'\"\n",
      "print 'Capitalized'.isupper()\n",
      "print 'Capitalized'.islower()"
     ],
     "language": "python",
     "metadata": {},
     "outputs": [
      {
       "output_type": "stream",
       "stream": "stdout",
       "text": [
        "'abc'\n",
        "True\n",
        "True\n",
        "False\n",
        "\n",
        "'123'\n",
        "False\n",
        "True\n",
        "True\n",
        "\n",
        "'Capitalized'\n",
        "False\n",
        "False\n"
       ]
      }
     ],
     "prompt_number": 53
    },
    {
     "cell_type": "markdown",
     "metadata": {},
     "source": [
      "There are many methods to determine certain characteristics about a string, for instance how many instances of a substring are in a string."
     ]
    },
    {
     "cell_type": "code",
     "collapsed": false,
     "input": [
      "'This is a test of a string.'.count('is')"
     ],
     "language": "python",
     "metadata": {},
     "outputs": [
      {
       "metadata": {},
       "output_type": "pyout",
       "prompt_number": 54,
       "text": [
        "2"
       ]
      }
     ],
     "prompt_number": 54
    },
    {
     "cell_type": "markdown",
     "metadata": {},
     "source": [
      "You can check whether a string has a certain prefix or suffice"
     ]
    },
    {
     "cell_type": "code",
     "collapsed": false,
     "input": [
      "print 'test string'.startswith('test')\n",
      "print 'test string'.endswith('ing')"
     ],
     "language": "python",
     "metadata": {},
     "outputs": [
      {
       "output_type": "stream",
       "stream": "stdout",
       "text": [
        "True\n",
        "True\n"
       ]
      }
     ],
     "prompt_number": 55
    },
    {
     "cell_type": "markdown",
     "metadata": {},
     "source": [
      "You can also find out where a substring is (by index position) in a string using find() or index()"
     ]
    },
    {
     "cell_type": "code",
     "collapsed": false,
     "input": [
      "print 'This is a test of a string.'.find('is')\n",
      "print 'This is a test of a string.'.index('is')\n",
      "print 'This is a test of a string.'.rfind('is')\n",
      "print 'This is a test of a string.'.rindex('is')"
     ],
     "language": "python",
     "metadata": {},
     "outputs": [
      {
       "output_type": "stream",
       "stream": "stdout",
       "text": [
        "2\n",
        "2\n",
        "5\n",
        "5\n"
       ]
      }
     ],
     "prompt_number": 56
    },
    {
     "cell_type": "markdown",
     "metadata": {},
     "source": [
      "These do have an important difference. find() is used when you aren't sure whether the substring is in the string, while with index() assumes you know that it is there."
     ]
    },
    {
     "cell_type": "code",
     "collapsed": false,
     "input": [
      "print \"Test string\".find('not in string')"
     ],
     "language": "python",
     "metadata": {},
     "outputs": [
      {
       "output_type": "stream",
       "stream": "stdout",
       "text": [
        "-1\n"
       ]
      }
     ],
     "prompt_number": 60
    },
    {
     "cell_type": "code",
     "collapsed": false,
     "input": [
      "print \"Test string\".index('not in string')"
     ],
     "language": "python",
     "metadata": {},
     "outputs": [
      {
       "ename": "ValueError",
       "evalue": "substring not found",
       "output_type": "pyerr",
       "traceback": [
        "\u001b[1;31m---------------------------------------------------------------------------\u001b[0m\n\u001b[1;31mValueError\u001b[0m                                Traceback (most recent call last)",
        "\u001b[1;32m<ipython-input-61-1f205755f42f>\u001b[0m in \u001b[0;36m<module>\u001b[1;34m()\u001b[0m\n\u001b[1;32m----> 1\u001b[1;33m \u001b[1;32mprint\u001b[0m \u001b[1;34m\"Test string\"\u001b[0m\u001b[1;33m.\u001b[0m\u001b[0mindex\u001b[0m\u001b[1;33m(\u001b[0m\u001b[1;34m'not in string'\u001b[0m\u001b[1;33m)\u001b[0m\u001b[1;33m\u001b[0m\u001b[0m\n\u001b[0m",
        "\u001b[1;31mValueError\u001b[0m: substring not found"
       ]
      }
     ],
     "prompt_number": 61
    },
    {
     "cell_type": "code",
     "collapsed": false,
     "input": [],
     "language": "python",
     "metadata": {},
     "outputs": []
    },
    {
     "cell_type": "code",
     "collapsed": false,
     "input": [],
     "language": "python",
     "metadata": {},
     "outputs": []
    },
    {
     "cell_type": "heading",
     "level": 4,
     "metadata": {},
     "source": [
      "Regular Expressions http://docs.python.org/2/library/re.html"
     ]
    },
    {
     "cell_type": "markdown",
     "metadata": {},
     "source": [
      "More complicated patterns of subtstrings that aren't necessarily exact matches can be found using regular expressions"
     ]
    },
    {
     "cell_type": "code",
     "collapsed": false,
     "input": [
      "import re"
     ],
     "language": "python",
     "metadata": {},
     "outputs": [],
     "prompt_number": 63
    },
    {
     "cell_type": "markdown",
     "metadata": {},
     "source": [
      "Instead of returning a simple result like a string or an integer index, re methods return \"match\" objects. These are specialized type of data structure that contain information about the substring matched by the regular expression. This is important because regular expressions are incredibly powerful and can be used in many ways."
     ]
    },
    {
     "cell_type": "code",
     "collapsed": false,
     "input": [
      "alpha = 'abcd'\n",
      "\n",
      "result = re.search('cd', alpha)\n",
      "\n",
      "print result\n",
      "print result.start(), result.end()\n",
      "\n",
      "result2 = re.search('ef', alpha)\n",
      "print result2"
     ],
     "language": "python",
     "metadata": {},
     "outputs": [
      {
       "output_type": "stream",
       "stream": "stdout",
       "text": [
        "<_sre.SRE_Match object at 0x00000000058E1308>\n",
        "2 4\n",
        "None\n"
       ]
      }
     ],
     "prompt_number": 64
    },
    {
     "cell_type": "markdown",
     "metadata": {},
     "source": [
      "Just using these methods to find exact matches seems to be unnecessary complication over just using the string methods. Regular expressions are much more powerful, however. They allow you to use special characters to find inexact matches."
     ]
    },
    {
     "cell_type": "code",
     "collapsed": false,
     "input": [
      "alphax = 'ab.d'\n",
      "\n",
      "result = re.search('ab\\.',alphax)\n",
      "\n",
      "print result.start(), result.end()\n",
      "print result.group()"
     ],
     "language": "python",
     "metadata": {},
     "outputs": [
      {
       "output_type": "stream",
       "stream": "stdout",
       "text": [
        "0 3\n",
        "ab.\n"
       ]
      }
     ],
     "prompt_number": 66
    },
    {
     "cell_type": "markdown",
     "metadata": {},
     "source": [
      "Character sets"
     ]
    },
    {
     "cell_type": "code",
     "collapsed": false,
     "input": [
      "dna = ' ATCGTTAAGCATGAA'\n",
      "dna2 = 'ATCGTTTAGCATGAA'\n",
      "\n",
      "result = re.search('TT[TA]', dna)\n",
      "print result.group()\n",
      "\n",
      "result2 = re.search('TT[TA]', dna2)\n",
      "print result2.group()\n",
      "\n",
      "result3 = re.search('TT[^CG]', dna2)\n",
      "print result3.group()"
     ],
     "language": "python",
     "metadata": {},
     "outputs": [
      {
       "output_type": "stream",
       "stream": "stdout",
       "text": [
        "TTA\n",
        "TTT\n",
        "TTT\n"
       ]
      }
     ],
     "prompt_number": 67
    },
    {
     "cell_type": "markdown",
     "metadata": {},
     "source": [
      "Character classes"
     ]
    },
    {
     "cell_type": "code",
     "collapsed": false,
     "input": [
      "test = 'abcD6ef'\n",
      "\n",
      "print re.search('D\\d',test).group()"
     ],
     "language": "python",
     "metadata": {},
     "outputs": [
      {
       "output_type": "stream",
       "stream": "stdout",
       "text": [
        "D6\n"
       ]
      }
     ],
     "prompt_number": 69
    },
    {
     "cell_type": "markdown",
     "metadata": {},
     "source": [
      "Multiple matches"
     ]
    },
    {
     "cell_type": "code",
     "collapsed": false,
     "input": [
      "test = 'aaabbbccab'\n",
      "result = re.search('a+b+c+', test)\n",
      "print result.group()\n",
      "\n",
      "test2 = 'aaacccbb'\n",
      "result2 = re.search('a*b*c*', test2)\n",
      "print result2.group()\n",
      "\n",
      "test3 = 'abcefg'\n",
      "result3 = re.search('a?b?c?d?e?f?', test3)\n",
      "print result3.group()\n",
      "\n",
      "test4 = 'abccefg'\n",
      "result4 = re.search('a?b?c?d?e?f', test4)\n",
      "print result4.group()"
     ],
     "language": "python",
     "metadata": {},
     "outputs": [
      {
       "output_type": "stream",
       "stream": "stdout",
       "text": [
        "aaabbbcc\n",
        "aaaccc\n",
        "abcef\n",
        "cef\n"
       ]
      }
     ],
     "prompt_number": 72
    },
    {
     "cell_type": "code",
     "collapsed": false,
     "input": [
      "five_As = '123aaaaa456'\n",
      "six_As = '123aaaaaa456'\n",
      "\n",
      "result5 = re.search('a{6}', five_As)\n",
      "print result5\n",
      "\n",
      "result6 = re.search('a{6}', six_As)\n",
      "print result6"
     ],
     "language": "python",
     "metadata": {},
     "outputs": []
    },
    {
     "cell_type": "code",
     "collapsed": false,
     "input": [
      "test = '123456'\n",
      "\n",
      "result = re.search('[2-5]+$',test)\n",
      "print result"
     ],
     "language": "python",
     "metadata": {},
     "outputs": [
      {
       "output_type": "stream",
       "stream": "stdout",
       "text": [
        "None\n"
       ]
      }
     ],
     "prompt_number": 83
    },
    {
     "cell_type": "markdown",
     "metadata": {},
     "source": [
      "In addition to finding the first instance of the pattern, the findall() method can be used to find a list of all of the matches in the string, although notice this returns the actual strings!"
     ]
    },
    {
     "cell_type": "code",
     "collapsed": false,
     "input": [
      "alpha = 'abcdcd'\n",
      "\n",
      "result = list(re.finditer('cd',alpha))\n",
      "\n",
      "print result"
     ],
     "language": "python",
     "metadata": {},
     "outputs": [
      {
       "output_type": "stream",
       "stream": "stdout",
       "text": [
        "[<_sre.SRE_Match object at 0x00000000058E1ED0>, <_sre.SRE_Match object at 0x00000000058E1F38>]\n"
       ]
      }
     ],
     "prompt_number": 86
    },
    {
     "cell_type": "markdown",
     "metadata": {},
     "source": [
      "Homework!\n",
      "---------\n",
      "\n",
      "Take the Pelobates cultripes blastn results from the last week. The last columns of the results contains a description beginning with the species where that result is found. I want you to modify this script which prints out of a list of all genuses that are hit by each sequence 1-13 and change it to print all out of the species instead. \n",
      "\n",
      "The challenge here is that the species can be described two ways, either with an title-cased genus followed by a lower case species name, or with the title-cased genus followed by the abbreviation \"sp.\" and then the strain name. \n",
      "\n",
      "Two approaches you might take are to write a regular expression which can match either pattern, or write some if-statements that check which situation is the case, and return a different result for each condition. \n",
      "\n",
      "You will get half credit for getting either situation printed correctly."
     ]
    },
    {
     "cell_type": "code",
     "collapsed": false,
     "input": [],
     "language": "python",
     "metadata": {},
     "outputs": []
    }
   ],
   "metadata": {}
  }
 ]
}